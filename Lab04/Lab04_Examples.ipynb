{
 "cells": [
  {
   "cell_type": "markdown",
   "id": "b4f06fd6",
   "metadata": {
    "editable": false,
    "slideshow": {
     "slide_type": ""
    },
    "tags": []
   },
   "source": [
    "# Lab 04 Examples"
   ]
  },
  {
   "cell_type": "markdown",
   "id": "171b9768",
   "metadata": {
    "editable": false,
    "slideshow": {
     "slide_type": ""
    },
    "tags": []
   },
   "source": [
    "Click \\<shift> \\<enter> in each code cell to run the code. Be sure to start with the ```#include``` directives to load the required libraries."
   ]
  },
  {
   "cell_type": "code",
   "execution_count": 1,
   "id": "1f167288",
   "metadata": {
    "editable": true,
    "slideshow": {
     "slide_type": ""
    },
    "tags": [],
    "vscode": {
     "languageId": "cpp"
    }
   },
   "outputs": [],
   "source": [
    "// For Lab 04, we are limited to these includes.\n",
    "// Other libraries that can do the set or binary operations for us are not allowed.\n",
    "// For example, DO NOT include <bitset> or <set>.\n",
    "\n",
    "#include <iostream>\n",
    "#include <string>\n",
    "#include <vector>\n",
    "#include <cmath>"
   ]
  },
  {
   "cell_type": "markdown",
   "id": "43b0abcf",
   "metadata": {
    "editable": false,
    "slideshow": {
     "slide_type": ""
    },
    "tags": []
   },
   "source": [
    "## Lab 03 Solution (Hamming Code Transmitter)"
   ]
  },
  {
   "cell_type": "code",
   "execution_count": 2,
   "id": "04a60f97",
   "metadata": {
    "editable": true,
    "slideshow": {
     "slide_type": ""
    },
    "tags": [],
    "vscode": {
     "languageId": "cpp"
    }
   },
   "outputs": [
    {
     "name": "stdout",
     "output_type": "stream",
     "text": [
      "Original number: 13 Codeword: 1010101"
     ]
    }
   ],
   "source": [
    "const int BLOCK_SIZE = 8; // 7 bits + 1 extended parity bit (which we don't use for this Lab)\n",
    "\n",
    "std::string data_str = \"13\"; // 13 base10 -> 1101 base2\n",
    "\n",
    "int num = std::stoi(data_str);\n",
    "std::vector<int> codeword(BLOCK_SIZE);\n",
    "\n",
    "for (int i = BLOCK_SIZE - 1; i >= 1; i--) {\n",
    "\n",
    "    if ((i & (i - 1)) == 0) {\n",
    "        codeword[i] = 0;\n",
    "    } else {                     // i = 7                   i = 6                i = 5            i = 3\n",
    "        codeword[i] = (num & 1); // 1101 & 0001 = 1         110 & 001 =  0       11 & 01 = 1      1 & 1  = 1\n",
    "        num = num >> 1;          // 1101 >> 1   = 110 (6)   110 >> 1  = 11 (3)   11 >> 1 = 1 (1)  1 >> 1 = 0\n",
    "    }\n",
    "}\n",
    "\n",
    "for (int i = 1; i < BLOCK_SIZE; i = 1 << i) {\n",
    "    for (int j = i; j < BLOCK_SIZE; j++) {\n",
    "        if (j & i) {\n",
    "            codeword[i] ^= codeword[j];\n",
    "        }\n",
    "    }\n",
    "}\n",
    "\n",
    "std::cout << \"Original number: \" << data_str << \" Codeword: \";\n",
    "for (int i = 1; i < codeword.size(); i++) {\n",
    "    std::cout << codeword[i];\n",
    "}\n"
   ]
  },
  {
   "cell_type": "markdown",
   "id": "ada41334",
   "metadata": {
    "editable": false,
    "slideshow": {
     "slide_type": ""
    },
    "tags": []
   },
   "source": [
    "### Explanation of Bitwise Operations\n",
    "\n",
    "- **Binary Check for Powers of Two (`(i & (i - 1)) == 0`)**: This expression is true only when `i` is a power of two. It works because powers of two in binary have a single 1 bit, and subtracting 1 flips all lower bits, so the AND operation yields zero.\n",
    "\n",
    "<table style=\"width:80%; font-size:1.2em;\">\n",
    "  <tr><th>i (binary)</th><th>i-1 (binary)</th><th>i & (i-1)</th><th>Result</th></tr>\n",
    "  <tr><td>1000</td><td>0111</td><td>0000</td><td>0</td></tr>\n",
    "  <tr><td>0100</td><td>0011</td><td>0000</td><td>0</td></tr>\n",
    "  <tr><td>0010</td><td>0001</td><td>0000</td><td>0</td></tr>\n",
    "  <tr><td>0001</td><td>0000</td><td>0000</td><td>0</td></tr>\n",
    "</table>\n",
    "\n",
    "- **Bit Shift in Loop Incrementation (`i = 1 << i`)**: This operation doubles the value of `i` each time, allowing the loop to visit each power of two (1, 2, 4, ...). This is important because parity bits in Hamming code are placed at positions that are powers of two.\n",
    "\n",
    "- **Isolating the Rightmost Bit (`num & 1`)**: The bitwise AND with 1 extracts the least significant bit of `num`. This is used to assign the next data bit to the codeword.\n",
    "\n",
    "- **Truncating the Rightmost Bit (`num = num >> 1`)**: The right shift operation moves all bits in `num` one place to the right, effectively removing the least significant bit. This prepares `num` for the next iteration, so the next data bit can be extracted.\n",
    "\n",
    "- **Calculating Parity Bits**: The nested loops calculate the parity bits. \n",
    "  - The `i` loop iterates over each parity bit index, while the inner `j` loop checks all indexes to see if they are members of the `i`th parity group.\n",
    "  - The condition `if (j & i)` checks if the current bit index `j` contributes to the parity bit at index `i`. If the bitwise AND of `j` and `i` is non-zero, the bit at index `j` is in parity group `i`.\n",
    "  - If the bit at index `j` is set in the codeword, it toggles the parity bit at index `i` using the XOR operation (`codeword ^= i`). This ensures that the parity bit reflects the correct parity for its group."
   ]
  },
  {
   "cell_type": "markdown",
   "id": "5b5e9103",
   "metadata": {
    "editable": false,
    "slideshow": {
     "slide_type": ""
    },
    "tags": []
   },
   "source": [
    "## Base 10 to Base N Conversion (Repeated Division Method)\n",
    "\n",
    "To convert a number from base 10 to another base (such as binary, octal, or hexadecimal), repeatedly divide the number by the target base, keeping track of the remainders. The remainders, read in reverse order (bottom up), give the digits of the number in the new base.\n",
    "\n",
    "**Example:** Convert 156 (base 10) to base 2 (binary)\n",
    "\n",
    "<table style=\"width:80%; font-size:1.2em;\">\n",
    "  <tr><th>Division Step</th><th>Quotient</th><th>Remainder</th></tr>\n",
    "  <tr><td>156 ÷ 2</td><td>78</td><td>0</td></tr>\n",
    "  <tr><td>78 ÷ 2</td><td>39</td><td>0</td></tr>\n",
    "  <tr><td>39 ÷ 2</td><td>19</td><td>1</td></tr>\n",
    "  <tr><td>19 ÷ 2</td><td>9</td><td>1</td></tr>\n",
    "  <tr><td>9 ÷ 2</td><td>4</td><td>1</td></tr>\n",
    "  <tr><td>4 ÷ 2</td><td>2</td><td>0</td></tr>\n",
    "  <tr><td>2 ÷ 2</td><td>1</td><td>0</td></tr>\n",
    "  <tr><td>1 ÷ 2</td><td>0</td><td>1</td></tr>\n",
    "</table>\n",
    "\n",
    "Reading the remainders from last to first: **10011100** (binary)"
   ]
  },
  {
   "cell_type": "code",
   "execution_count": 3,
   "id": "325f7242",
   "metadata": {
    "editable": true,
    "slideshow": {
     "slide_type": ""
    },
    "tags": [],
    "vscode": {
     "languageId": "cpp"
    }
   },
   "outputs": [
    {
     "name": "stdout",
     "output_type": "stream",
     "text": [
      "17 / 5 = 3\n",
      "17 % 5 = 2\n"
     ]
    }
   ],
   "source": [
    "int a = 17;\n",
    "int b = 5;\n",
    "\n",
    "// Integer division\n",
    "int div = a / b; // Result: 3\n",
    "\n",
    "// Remainder operator\n",
    "int rem = a % b; // Result: 2\n",
    "\n",
    "std::cout << a << \" / \" << b << \" = \" << div << std::endl;\n",
    "std::cout << a << \" % \" << b << \" = \" << rem << std::endl;"
   ]
  },
  {
   "cell_type": "markdown",
   "id": "b9e65897",
   "metadata": {
    "editable": false,
    "slideshow": {
     "slide_type": ""
    },
    "tags": []
   },
   "source": [
    "## Example: Base 10 to Base 16 Conversion (Hexadecimal)\n",
    "\n",
    "Convert 9633 (base 10) to base 16 (hexadecimal) using the repeated division method. In hexadecimal, remainders greater than 9 are represented by letters (A=10, B=11, ..., F=15).\n",
    "\n",
    "<table style=\"width:80%; font-size:1.2em;\">\n",
    "  <tr><th>Division Step</th><th>Quotient</th><th>Remainder</th></tr>\n",
    "  <tr><td>9633 ÷ 16</td><td>602</td><td>1</td></tr>\n",
    "  <tr><td>602 ÷ 16</td><td>37</td><td>10 (A)</td></tr>\n",
    "  <tr><td>37 ÷ 16</td><td>2</td><td>5</td></tr>\n",
    "  <tr><td>2 ÷ 16</td><td>0</td><td>2</td></tr>\n",
    "</table>\n",
    "\n",
    "Reading the remainders from last to first: **25A1** (hexadecimal)"
   ]
  }
 ],
 "metadata": {
  "kernelspec": {
   "display_name": "C++17",
   "language": "C++17",
   "name": "xcpp17"
  },
  "language_info": {
   "codemirror_mode": "text/x-c++src",
   "file_extension": ".cpp",
   "mimetype": "text/x-c++src",
   "name": "c++",
   "version": "17"
  }
 },
 "nbformat": 4,
 "nbformat_minor": 5
}
