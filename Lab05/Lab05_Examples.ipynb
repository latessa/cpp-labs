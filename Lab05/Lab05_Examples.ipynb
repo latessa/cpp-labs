{
 "cells": [
  {
   "cell_type": "markdown",
   "id": "154b8e66",
   "metadata": {
    "editable": false,
    "slideshow": {
     "slide_type": ""
    },
    "tags": []
   },
   "source": [
    "# Lab 05 Examples (Satisfiability)\n",
    "\n",
    "Logical and Bitwise Operators, Truth Tables, and Satisfiability"
   ]
  },
  {
   "cell_type": "markdown",
   "id": "fedd9f2a-e490-4b75-8ff4-afb73ab53f92",
   "metadata": {
    "editable": false,
    "slideshow": {
     "slide_type": ""
    },
    "tags": []
   },
   "source": [
    "Click \\<shift> \\<enter> in each code cell to run the code. Be sure to start with the ```#include``` directives to load the required libraries."
   ]
  },
  {
   "cell_type": "code",
   "execution_count": 1,
   "id": "400cee4a-03dc-491f-aca8-c997c0341fcb",
   "metadata": {
    "editable": true,
    "slideshow": {
     "slide_type": ""
    },
    "tags": []
   },
   "outputs": [],
   "source": [
    "// For Lab 05, we are limited to these includes.\n",
    "// Other libraries that can do the set or binary operations for us are not allowed.\n",
    "// For example, DO NOT include <bitset> or <set>.\n",
    "\n",
    "#include <iostream>\n",
    "#include <string>\n",
    "#include <vector>\n",
    "#include <cmath>"
   ]
  },
  {
   "cell_type": "markdown",
   "id": "cbc09178",
   "metadata": {
    "editable": false,
    "slideshow": {
     "slide_type": ""
    },
    "tags": []
   },
   "source": [
    "## Logical Operators and Bitwise Operators\n",
    "\n",
    "We've previously looked at the logical operators `&&` (AND), `||` (OR), and `!` (NOT), and the bitwise operators `&` (AND), `|` (OR), and `^` (XOR).\n",
    "\n",
    "We've also looked at the bitshift operators `<<` (left shift) and `>>` (right shift).\n",
    "\n",
    "We have not yet mentioned the bitwise NOT operator `~` (tilde).\n",
    "\n",
    "The logical NOT operator `!` negates a boolean expression and will always evaluate to either `true` or `false`, while the bitwise NOT operator `~` inverts all bits of its operand.\n",
    "\n",
    "<table style=\"font-size: 1.3em; width: 60%;\">\n",
    "    <tr>\n",
    "        <th>Decimal</th>\n",
    "        <th>Binary</th>\n",
    "        <th>Bitwise NOT <code>~</code></th>\n",
    "        <th>Logical NOT <code>!</code></th>\n",
    "    </tr>\n",
    "    <tr>\n",
    "        <td>0</td>\n",
    "        <td>0000</td>\n",
    "        <td>1111</td>\n",
    "        <td>0001 (true)</td>\n",
    "    </tr>\n",
    "    <tr>\n",
    "        <td>1</td>\n",
    "        <td>0001</td>\n",
    "        <td>1110</td>\n",
    "        <td>0000 (false)</td>\n",
    "    </tr>\n",
    "    <tr>\n",
    "        <td>2</td>\n",
    "        <td>0010</td>\n",
    "        <td>1101</td>\n",
    "        <td>0000 (false)</td>\n",
    "    </tr>\n",
    "    <tr>\n",
    "        <td>3</td>\n",
    "        <td>0011</td>\n",
    "        <td>1100</td>\n",
    "        <td>0000 (false)</td>\n",
    "    </tr>\n",
    "    <tr>\n",
    "        <td>4</td>\n",
    "        <td>0100</td>\n",
    "        <td>1011</td>\n",
    "        <td>0000 (false)</td>\n",
    "    </tr>\n",
    "    <tr>\n",
    "        <td>5</td>\n",
    "        <td>0101</td>\n",
    "        <td>1010</td>\n",
    "        <td>0000 (false)</td>\n",
    "    </tr>\n",
    "    <tr>\n",
    "        <td>6</td>\n",
    "        <td>0110</td>\n",
    "        <td>1001</td>\n",
    "        <td>0000 (false)</td>\n",
    "    </tr>\n",
    "    <tr>\n",
    "        <td>7</td>\n",
    "        <td>0111</td>\n",
    "        <td>1000</td>\n",
    "        <td>0000 (false)</td>\n",
    "    </tr>\n",
    "</table>"
   ]
  },
  {
   "cell_type": "code",
   "execution_count": 2,
   "id": "ef13fb83",
   "metadata": {
    "editable": true,
    "slideshow": {
     "slide_type": ""
    },
    "tags": [],
    "vscode": {
     "languageId": "cpp"
    }
   },
   "outputs": [
    {
     "name": "stdout",
     "output_type": "stream",
     "text": [
      "int a = 0, !a = 1, !a = 00000000000000000000000000000001\n",
      "int b = 1, !b = 0, !b = 00000000000000000000000000000000\n",
      "int c = 2, !c = 0, !c = 00000000000000000000000000000000\n",
      "\n",
      "int a = 0, ~a = -1, ~a = 11111111111111111111111111111111\n",
      "int b = 1, ~b = -2, ~b = 11111111111111111111111111111110\n",
      "int c = 2, ~c = -3, ~c = 11111111111111111111111111111101\n"
     ]
    }
   ],
   "source": [
    "auto int2bitstring = [](unsigned int n, int bits = 32) {\n",
    "    std::string result;\n",
    "    for (int i = bits - 1; i >= 0; --i) {\n",
    "        result += (n & (1 << i)) ? '1' : '0';\n",
    "    }\n",
    "    return result;\n",
    "};\n",
    "\n",
    "int a = 0;\n",
    "int b = 1;\n",
    "int c = 2; // Binary: 010\n",
    "\n",
    "// Logical NOT operator\n",
    "std::cout << \"int a = \" << a << \", !a = \" << !a << \", !a = \" << int2bitstring(!a) << std::endl;\n",
    "std::cout << \"int b = \" << b << \", !b = \" << !b << \", !b = \" << int2bitstring(!b) << std::endl;\n",
    "std::cout << \"int c = \" << c << \", !c = \" << !c << \", !c = \" << int2bitstring(!c) << std::endl << std::endl;\n",
    "\n",
    "// Bitwise NOT operator\n",
    "std::cout << \"int a = \" << a << \", ~a = \" << ~a << \", ~a = \" << int2bitstring(~a) << std::endl;\n",
    "std::cout << \"int b = \" << b << \", ~b = \" << ~b << \", ~b = \" << int2bitstring(~b) << std::endl;\n",
    "std::cout << \"int c = \" << c << \", ~c = \" << ~c << \", ~c = \" << int2bitstring(~c) << std::endl;"
   ]
  },
  {
   "cell_type": "code",
   "execution_count": 3,
   "id": "36796b64",
   "metadata": {
    "editable": true,
    "slideshow": {
     "slide_type": ""
    },
    "tags": [],
    "vscode": {
     "languageId": "cpp"
    }
   },
   "outputs": [
    {
     "name": "stdout",
     "output_type": "stream",
     "text": [
      "unsigned int a = 0, !a = 1, !a = 00000000000000000000000000000001\n",
      "unsigned int b = 1, !b = 0, !b = 00000000000000000000000000000000\n",
      "unsigned int c = 2, !c = 0, !c = 00000000000000000000000000000000\n",
      "\n",
      "unsigned int a = 0, ~a = 4294967295, ~a = 11111111111111111111111111111111\n",
      "unsigned int b = 1, ~b = 4294967294, ~b = 11111111111111111111111111111110\n",
      "unsigned int c = 2, ~c = 4294967293, ~c = 11111111111111111111111111111101\n",
      "\n"
     ]
    }
   ],
   "source": [
    "unsigned int a = 0;\n",
    "unsigned int b = 1;\n",
    "unsigned int c = 2; // Binary: 010\n",
    "\n",
    "// Logical NOT operator\n",
    "std::cout << \"unsigned int a = \" << a << \", !a = \" << !a << \", !a = \" << int2bitstring(!a) << std::endl;\n",
    "std::cout << \"unsigned int b = \" << b << \", !b = \" << !b << \", !b = \" << int2bitstring(!b) << std::endl;\n",
    "std::cout << \"unsigned int c = \" << c << \", !c = \" << !c << \", !c = \" << int2bitstring(!c) << std::endl << std::endl;\n",
    "\n",
    "// Bitwise NOT operator\n",
    "std::cout << \"unsigned int a = \" << a << \", ~a = \" << ~a << \", ~a = \" << int2bitstring(~a) << std::endl;\n",
    "std::cout << \"unsigned int b = \" << b << \", ~b = \" << ~b << \", ~b = \" << int2bitstring(~b) << std::endl;\n",
    "std::cout << \"unsigned int c = \" << c << \", ~c = \" << ~c << \", ~c = \" << int2bitstring(~c) << std::endl << std::endl;"
   ]
  },
  {
   "cell_type": "markdown",
   "id": "0fa0cd82",
   "metadata": {
    "editable": false,
    "slideshow": {
     "slide_type": ""
    },
    "tags": []
   },
   "source": [
    "The binary output for the bitwise negation is exactly what one would expect, but the decimal representation might be surprising.\n",
    "\n",
    "This is because we're seeing the `two's complement` representation of the negative integers. There's more we could say about what this is, but it isn't directly related to `satisfiability`, so for now, we'll just note that negative numbers are stored in the upper half of the range of values for a given integer type. That's why we see those large decimal values for the unsigned integers and negative decimal values for the signed integers.\n",
    "\n",
    "Since the bit strings for the bitwise negations are exactly what we'd expect, we can trust that any bitwise NOT `~` used to investigate satisfiability will work as expected."
   ]
  },
  {
   "cell_type": "markdown",
   "id": "b06e59d5",
   "metadata": {
    "editable": false,
    "slideshow": {
     "slide_type": ""
    },
    "tags": []
   },
   "source": [
    "## Truth Tables and Satisfiability\n",
    "\n",
    "A boolean expression is ```satisfiable``` if there exists at least one assignment of truth values to its variables that makes the expression evaluate to true.\n",
    "\n",
    "A satisfiability expression with two variables can have $2^2 = 4$ possible combinations of truth values:\n",
    "\n",
    "<table style=\"font-size: 1.3em; width: 60%;\">\n",
    "    <tr>\n",
    "        <th style=\"width: 10%\">A</th>\n",
    "        <th style=\"width: 10%\">B</th>\n",
    "        <th style=\"width: 20%\">NOT B</th>\n",
    "        <th style=\"width: 20%\">(A OR (NOT B))</th>\n",
    "    </tr>\n",
    "    <tr>\n",
    "        <td style=\"color:#228B22;\">false</td>\n",
    "        <td style=\"color:#228B22;\">false</td>\n",
    "        <td style=\"color:#228B22;\">true</td>\n",
    "        <td style=\"color:#228B22;\">true</td>\n",
    "    </tr>\n",
    "    <tr>\n",
    "        <td>false</td>\n",
    "        <td>true</td>\n",
    "        <td>false</td>\n",
    "        <td>false</td>\n",
    "    </tr>\n",
    "    <tr>\n",
    "        <td style=\"color:#228B22;\">true</td>\n",
    "        <td style=\"color:#228B22;\">false</td>\n",
    "        <td style=\"color:#228B22;\">true</td>\n",
    "        <td style=\"color:#228B22;\">true</td>\n",
    "    </tr>\n",
    "    <tr>\n",
    "        <td style=\"color:#228B22;\">true</td>\n",
    "        <td style=\"color:#228B22;\">true</td>\n",
    "        <td style=\"color:#228B22;\">false</td>\n",
    "        <td style=\"color:#228B22;\">true</td>\n",
    "    </tr>\n",
    "</table>\n",
    "\n",
    "A satisfiability expression with three variables can have $2^3 = 8$ possible combinations of truth values. Below is an example where only one combination is satisfiable. `(A AND B AND (NOT C))`:\n",
    "\n",
    "<table style=\"font-size: 1.3em; width: 80%;\">\n",
    "    <tr>\n",
    "        <th style=\"width: 10%\">A</th>\n",
    "        <th style=\"width: 10%\">B</th>\n",
    "        <th style=\"width: 10%\">C</th>\n",
    "        <th style=\"width: 20%\">NOT C</th>\n",
    "        <th style=\"width: 20%\">(A AND B AND (NOT C))</th>\n",
    "    </tr>\n",
    "    <tr>\n",
    "        <td>false</td>\n",
    "        <td>false</td>\n",
    "        <td>false</td>\n",
    "        <td>true</td>\n",
    "        <td>false</td>\n",
    "    </tr>\n",
    "    <tr>\n",
    "        <td>false</td>\n",
    "        <td>false</td>\n",
    "        <td>true</td>\n",
    "        <td>false</td>\n",
    "        <td>false</td>\n",
    "    </tr>\n",
    "    <tr>\n",
    "        <td>false</td>\n",
    "        <td>true</td>\n",
    "        <td>false</td>\n",
    "        <td>true</td>\n",
    "        <td>false</td>\n",
    "    </tr>\n",
    "    <tr>\n",
    "        <td>false</td>\n",
    "        <td>true</td>\n",
    "        <td>true</td>\n",
    "        <td>false</td>\n",
    "        <td>false</td>\n",
    "    </tr>\n",
    "    <tr>\n",
    "        <td>true</td>\n",
    "        <td>false</td>\n",
    "        <td>false</td>\n",
    "        <td>true</td>\n",
    "        <td>false</td>\n",
    "    </tr>\n",
    "    <tr>\n",
    "        <td>true</td>\n",
    "        <td>false</td>\n",
    "        <td>true</td>\n",
    "        <td>false</td>\n",
    "        <td>false</td>\n",
    "    </tr>\n",
    "    <tr>\n",
    "        <td style=\"color:#228B22;\">true</td>\n",
    "        <td style=\"color:#228B22;\">true</td>\n",
    "        <td style=\"color:#228B22;\">false</td>\n",
    "        <td style=\"color:#228B22;\">true</td>\n",
    "        <td style=\"color:#228B22;\">true</td>\n",
    "    </tr>\n",
    "    <tr>\n",
    "        <td>true</td>\n",
    "        <td>true</td>\n",
    "        <td>true</td>\n",
    "        <td>false</td>\n",
    "        <td>false</td>\n",
    "    </tr>\n",
    "</table>\n",
    "\n",
    "A boolean expression ```unsatisfiable``` if there is no assignment of truth values to its variables that makes the expression evaluate to true."
   ]
  },
  {
   "cell_type": "code",
   "execution_count": 4,
   "id": "8483e9e4",
   "metadata": {
    "editable": true,
    "slideshow": {
     "slide_type": ""
    },
    "tags": [],
    "vscode": {
     "languageId": "cpp"
    }
   },
   "outputs": [
    {
     "name": "stdout",
     "output_type": "stream",
     "text": [
      "A && B = 1\n",
      "A || B = 1\n",
      "!A = 0\n",
      "A || !B = 1\n",
      "A && B && !C = 1\n",
      "((A && B) && (B || C)) && !(B && C) = 1\n"
     ]
    }
   ],
   "source": [
    "// Satisfiability calculations using two variables A and B\n",
    "int A = 1; // true\n",
    "int B = 1; // false\n",
    "int C = 0; // false\n",
    "\n",
    "std::cout << \"A && B = \" << (A && B) << std::endl; // AND\n",
    "std::cout << \"A || B = \" << (A || B) << std::endl; // OR\n",
    "std::cout << \"!A = \" << (!A) << std::endl;         // NOT (logical)\n",
    "\n",
    "// Example: (A || !B)\n",
    "std::cout << \"A || !B = \" << (A || !B) << std::endl;\n",
    "\n",
    "// Example: (A && B && !C)\n",
    "std::cout << \"A && B && !C = \" << (A && B && !C) << std::endl;\n",
    "\n",
    "// Example: (((A && B) && (B || C)) && !(B && C))\n",
    "std::cout << \"((A && B) && (B || C)) && !(B && C) = \" << (((A && B) && (B || C)) && !(B && C)) << std::endl;"
   ]
  },
  {
   "cell_type": "markdown",
   "id": "5d72f88f",
   "metadata": {
    "editable": false,
    "slideshow": {
     "slide_type": ""
    },
    "tags": []
   },
   "source": [
    "<h4>Truth Table for <code>(((A &amp;&amp; B) &amp;&amp; (B || C)) &amp;&amp; !(B &amp;&amp; C))</code></h4>\n",
    "<table style=\"font-size: 1.3em; width: 100%;\">\n",
    "  <tr>\n",
    "    <th style=\"width:5%;\">A</th>\n",
    "    <th style=\"width:5%;\">B</th>\n",
    "    <th style=\"width:5%;\">C</th>\n",
    "    <th style=\"width:10%;\">(A &amp;&amp; B)</th>\n",
    "    <th style=\"width:10%;\">(B || C)</th>\n",
    "    <th style=\"width:20%;\">(A &amp;&amp; B) &amp;&amp; (B || C)</th>\n",
    "    <th style=\"width:10%;\">(B &amp;&amp; C)</th>\n",
    "    <th style=\"width:10%;\">!(B &amp;&amp; C)</th>\n",
    "    <th style=\"width:30%;\">((A &amp;&amp; B) &amp;&amp; (B || C)) &amp;&amp; !(B &amp;&amp; C)</th>\n",
    "  </tr>\n",
    "  <tr><td>false</td><td>false</td><td>false</td><td>false</td><td>false</td><td>false</td><td>false</td><td>true</td><td>false</td></tr>\n",
    "  <tr><td>false</td><td>false</td><td>true</td><td>false</td><td>true</td><td>false</td><td>false</td><td>true</td><td>false</td></tr>\n",
    "  <tr><td>false</td><td>true</td><td>false</td><td>false</td><td>true</td><td>false</td><td>false</td><td>true</td><td>false</td></tr>\n",
    "  <tr><td>false</td><td>true</td><td>true</td><td>false</td><td>true</td><td>false</td><td>true</td><td>false</td><td>false</td></tr>\n",
    "  <tr><td>true</td><td>false</td><td>false</td><td>false</td><td>false</td><td>false</td><td>false</td><td>true</td><td>false</td></tr>\n",
    "  <tr><td>true</td><td>false</td><td>true</td><td>false</td><td>true</td><td>false</td><td>false</td><td>true</td><td>false</td></tr>\n",
    "  <tr><td style=\"color:#228B22;\">true</td><td style=\"color:#228B22;\">true</td><td style=\"color:#228B22;\">false</td><td style=\"color:#228B22;\">true</td><td style=\"color:#228B22;\">true</td><td style=\"color:#228B22;\">true</td><td style=\"color:#228B22;\">false</td><td style=\"color:#228B22;\">true</td><td style=\"color:#228B22;\">true</td></tr>\n",
    "  <tr><td>true</td><td>true</td><td>true</td><td>true</td><td>true</td><td>true</td><td>true</td><td>false</td><td>false</td></tr>\n",
    "</table>\n"
   ]
  },
  {
   "cell_type": "markdown",
   "id": "11246718",
   "metadata": {
    "editable": false,
    "slideshow": {
     "slide_type": ""
    },
    "tags": []
   },
   "source": [
    "## Relating Satisfiability to Logic Circuits\n",
    "\n",
    "Here is an example of a logic circuit created in [Logic.ly](https://logic.ly/demo/) to visualize satisfiability the satisfiability expression from above.\n",
    "\n",
    "`((A AND B) AND (B OR C)) AND NOT(B AND C)`.\n",
    "\n",
    "![Logic.ly Satisfiability Example](https://latessa.github.io/cpp-labs/images/Lab05/logicly_satisfy.png)\n",
    "\n",
    "Experiment with your own designs on the [Logic.ly](https://logic.ly/demo/) demo site.\n",
    "\n",
    "The demo site will not let you save or export your designs, but the full version of Logic.ly is available on the Engineering vLAB."
   ]
  },
  {
   "cell_type": "markdown",
   "id": "82466d1a",
   "metadata": {
    "editable": false,
    "slideshow": {
     "slide_type": ""
    },
    "tags": []
   },
   "source": [
    "## Implementing Satisfiability in C++\n",
    "\n",
    "The code above showed satisfiability for one combination of variables ```A=true, B=true, C=false```. The program we write should show the result of not just one combination of variables for a given expression, but all combinations and indicating which combinations are satisfiable.\n",
    "\n",
    "In order for our program to determine satisfiability, we should consider how to represent the truth table values in a data structure.\n",
    "  * One option is to use arrays or vectors of booleans to represent the truth table columns. The compare the values at each index to determine the result of the expression.\n",
    "  \n",
    "  ```cpp\n",
    "    std::vector<bool> A = {false, false, true, true};\n",
    "    std::vector<bool> B = {false, true, false, true};\n",
    "\n",
    "    for each row of the truth table\n",
    "      this_row_truth_value[i] = (A[i] || !B[i]);\n",
    "  ```\n",
    "\n",
    "  * With the above approach, we used ```logical``` operators to compare each row of the truth table one at a time. Could we instead compare all rows at once using ```bitwise``` operators instead? Bitwise operators act on all bits of a number at once.\n",
    "\n",
    "<div align=\"center\">\n",
    "<style>\n",
    "table, th, td { font-size: 1.05em; }\n",
    "</style>\n",
    "<table>\n",
    "    <tr>\n",
    "        <td><b>A</b> = 0011</td>\n",
    "        <td>false, false, true, true</td>\n",
    "    </tr>\n",
    "    <tr>\n",
    "        <td><b>B</b> = 0101</td>\n",
    "        <td>false, true, false, true</td>\n",
    "    </tr>\n",
    "</table>\n",
    "</div>\n",
    "\n",
    "  * Recognize that ```0011``` (the truth table values for column A) is just a number. In this case for a 2-variable truth table, it is the integer ```3```. Similarly, ```0101``` (the truth table values for column B) is just the integer ```5```.\n",
    "  * In the lab assignment, we are working with 3-variable truth table, so the numbers representing the truth table columns will not be the same as for a 2-variable truth table.\n",
    "  ```"
   ]
  },
  {
   "cell_type": "markdown",
   "id": "5b31a334",
   "metadata": {
    "editable": false,
    "slideshow": {
     "slide_type": ""
    },
    "tags": []
   },
   "source": [
    "## Sample Program Output\n",
    "\n",
    "For the example problem: ```(((A && B) && (B || C)) && !(B && C))```\n",
    "\n",
    "![Lab05 Example Output](https://latessa.github.io/cpp-labs/images/Lab05/lab05_example_output.png)"
   ]
  }
 ],
 "metadata": {
  "kernelspec": {
   "display_name": "C++17",
   "language": "C++17",
   "name": "xcpp17"
  },
  "language_info": {
   "codemirror_mode": "text/x-c++src",
   "file_extension": ".cpp",
   "mimetype": "text/x-c++src",
   "name": "c++",
   "version": "17"
  }
 },
 "nbformat": 4,
 "nbformat_minor": 5
}
