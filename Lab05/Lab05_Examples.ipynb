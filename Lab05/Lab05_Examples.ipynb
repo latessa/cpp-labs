{
 "cells": [
  {
   "cell_type": "markdown",
   "id": "154b8e66",
   "metadata": {},
   "source": [
    "# Lab 05 Examples (Satisfiability)\n",
    "\n",
    "Logical and Bitwise Operators, Truth Tables, and Satisfiability"
   ]
  },
  {
   "cell_type": "code",
   "execution_count": 16,
   "id": "0067bc6c-ed2d-416f-b1bf-70f3bea3799c",
   "metadata": {},
   "outputs": [],
   "source": [
    "// For Lab 05, we are limited to these includes.\n",
    "// Other libraries that can do the set or binary operations for us are not allowed.\n",
    "// For example, DO NOT include <bitset> or <set>.\n",
    "\n",
    "#include <iostream>\n",
    "#include <string>\n",
    "#include <vector>\n",
    "#include <cmath>"
   ]
  },
  {
   "cell_type": "markdown",
   "id": "cbc09178",
   "metadata": {},
   "source": [
    "## Logical Operators and Bitwise Operators\n",
    "\n",
    "We've previously looked at the logical operators `&&` (AND), `||` (OR), and `!` (NOT), and the bitwise operators `&` (AND), `|` (OR), and `^` (XOR).\n",
    "\n",
    "We've also looked at the bitshift operators `<<` (left shift) and `>>` (right shift).\n",
    "\n",
    "We have not yet mentioned the bitwise NOT operator `~` (tilde).\n",
    "\n",
    "The logical NOT operator `!` negates a boolean expression and will always evaluate to either `true` or `false`, while the bitwise NOT operator `~` inverts all bits of its operand."
   ]
  },
  {
   "cell_type": "code",
   "execution_count": 7,
   "id": "17a0ad9e",
   "metadata": {
    "vscode": {
     "languageId": "cpp"
    }
   },
   "outputs": [
    {
     "name": "stdout",
     "output_type": "stream",
     "text": [
      "a = 0, !a = 1\n",
      "b = 1, !b = 0\n",
      "c = 2, !c = 0\n",
      "\n",
      "a = 0, ~a = -1\n",
      "b = 1, ~b = -2\n",
      "c = 2, ~c = -3\n"
     ]
    }
   ],
   "source": [
    "#include <iostream>\n",
    "\n",
    "int a = 0;\n",
    "int b = 1;\n",
    "int c = 2; // Binary: 010\n",
    "\n",
    "// Logical NOT operator\n",
    "std::cout << \"a = \" << a << \", !a = \" << !a << std::endl;\n",
    "std::cout << \"b = \" << b << \", !b = \" << !b << std::endl;\n",
    "std::cout << \"c = \" << c << \", !c = \" << !c << std::endl << std::endl;\n",
    "\n",
    "// Bitwise NOT operator\n",
    "std::cout << \"a = \" << a << \", ~a = \" << ~a << std::endl;\n",
    "std::cout << \"b = \" << b << \", ~b = \" << ~b << std::endl;\n",
    "std::cout << \"c = \" << c << \", ~c = \" << ~c << std::endl;"
   ]
  },
  {
   "cell_type": "markdown",
   "id": "1b30dc9e",
   "metadata": {},
   "source": [
    "## 2. Two's Complement Representation of Negative Integers\n",
    "\n",
    "In computers, negative integers are commonly stored using **two's complement** notation. For an $n$-bit number, the two's complement of a positive integer $x$ is obtained by:\n",
    "\n",
    "1. Writing $x$ in binary (with $n$ bits).\n",
    "2. Inverting all the bits (bitwise complement, `~`).\n",
    "3. Adding 1 to the result.\n",
    "\n",
    "This allows for simple binary addition and subtraction, and only one representation for zero.\n",
    "\n",
    "Below is a table showing all possible 4-bit binary values, their unsigned decimal value, the bitwise complement, the result after adding one (i.e., the two's complement), and the signed decimal value (interpreted as two's complement):\n",
    "\n",
    "| 4-bit Binary | Positive Value | Bitwise Complement | +1 (Two's Complement) | Negative Value |\n",
    "|:------------:|:-------------:|:------------------:|:---------------------:|:------------:|\n",
    "| 0000         | 0             | 1111               | 0000                  | 0            |\n",
    "| 0001         | 1             | 1110               | 1111                  | 1            |\n",
    "| 0010         | 2             | 1101               | 1110                  | 2            |\n",
    "| 0011         | 3             | 1100               | 1101                  | 3            |\n",
    "| 0100         | 4             | 1011               | 1100                  | 4            |\n",
    "| 0101         | 5             | 1010               | 1011                  | 5            |\n",
    "| 0110         | 6             | 1001               | 1010                  | 6            |\n",
    "| 0111         | 7             | 1000               | 1001                  | 7            |\n",
    "| 1000         | 8             | 0111               | 1000                  | -8           |\n",
    "\n",
    "\n",
    "**Notes:**\n",
    "- For values $0$ to $7$, the signed and unsigned values are the same.\n",
    "- For values $8$ to $15$, the signed value is negative: $\\text{signed} = \\text{unsigned} - 16$.\n",
    "- The most significant bit (leftmost) is the sign bit: `0` for positive, `1` for negative.\n",
    "- The sign bit is not a simple flag. It is part of the binary representation of the number."
   ]
  },
  {
   "cell_type": "markdown",
   "id": "57d3d597",
   "metadata": {},
   "source": [
    "## One's Complement vs Two's Complement Addition\n",
    "\n",
    "Let's see why computers use **two's complement** instead of **one's complement** for representing negative numbers, especially when adding positive and negative values.\n",
    "\n",
    "### Example: 4-bit Representation of 5 and -5\n",
    "\n",
    "- 5 in binary (4 bits): `0101`\n",
    "- One's complement of 5: invert all bits → `1010` (represents -5 in one's complement)\n",
    "- Two's complement of 5: invert all bits and add 1 → `1011` (represents -5 in two's complement)\n",
    "\n",
    "#### One's Complement Addition:\n",
    "```\n",
    "  0101   (5)\n",
    "+ 1010   (-5 one's complement)\n",
    "-------\n",
    "  1111   (not zero, but -0 in one's complement)\n",
    "```\n",
    "- In one's complement, there are two representations for zero: `0000` (+0) and `1111` (-0).\n",
    "\n",
    "#### Two's Complement Addition:\n",
    "```\n",
    "  0101   (5)\n",
    "+ 1011   (-5 two's complement)\n",
    "-------\n",
    " 10000\n",
    "```\n",
    "- The result is 5 + (-5) = 0, but in 4 bits, we drop the carry (leftmost bit), so the result is `0000` (zero).\n",
    "\n",
    "### Two's Complement Addition with Other Numbers:\n",
    "\n",
    "#### Example: -5 + 9\n",
    "\n",
    "- 5 in binary: `0101`\n",
    "- Two's complement of 5: `1011` (represents -5)\n",
    "- 9 in binary: `1001`\n",
    "\n",
    "Add:\n",
    "```\n",
    "  1011   (-5)\n",
    "+ 1001   (9)\n",
    "-------\n",
    " 10100\n",
    "```\n",
    "- Drop the carry (leftmost bit): result is `0100` (which is 4 in decimal).\n",
    "\n",
    "**Conclusion:**\n",
    "- One's complement addition does not always yield the expected result due to the existence of both +0 and -0.\n",
    "- Two's complement addition always works for positive and negative numbers, and there is only one representation for zero."
   ]
  }
 ],
 "metadata": {
  "kernelspec": {
   "display_name": "C++17",
   "language": "C++17",
   "name": "xcpp17"
  },
  "language_info": {
   "codemirror_mode": "text/x-c++src",
   "file_extension": ".cpp",
   "mimetype": "text/x-c++src",
   "name": "c++",
   "version": "17"
  }
 },
 "nbformat": 4,
 "nbformat_minor": 5
}
