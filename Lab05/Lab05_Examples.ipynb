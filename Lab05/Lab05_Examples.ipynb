{
 "cells": [
  {
   "cell_type": "markdown",
   "id": "154b8e66",
   "metadata": {
    "editable": false,
    "slideshow": {
     "slide_type": ""
    },
    "tags": []
   },
   "source": [
    "# Lab 05 Examples (Satisfiability)\n",
    "\n",
    "Logical and Bitwise Operators, Truth Tables, and Satisfiability"
   ]
  },
  {
   "cell_type": "markdown",
   "id": "cbc09178",
   "metadata": {
    "editable": false,
    "slideshow": {
     "slide_type": ""
    },
    "tags": []
   },
   "source": [
    "## Logical Operators and Bitwise Operators\n",
    "\n",
    "We've previously looked at the logical operators `&&` (AND), `||` (OR), and `!` (NOT), and the bitwise operators `&` (AND), `|` (OR), and `^` (XOR).\n",
    "\n",
    "We've also looked at the bitshift operators `<<` (left shift) and `>>` (right shift).\n",
    "\n",
    "We have not yet mentioned the bitwise NOT operator `~` (tilde).\n",
    "\n",
    "The logical NOT operator `!` negates a boolean expression and will always evaluate to either `true` or `false`, while the bitwise NOT operator `~` inverts all bits of its operand.\n",
    "\n",
    "<div style=\"font-size:1.2em;\">\n",
    "\n",
    "| Decimal | Binary  | Bitwise NOT `~` | Logical NOT `!` |\n",
    "|---------|---------|-----------------|-----------------|\n",
    "| 0       | 0000    | 1111            | 0001 (true)     |\n",
    "| 1       | 0001    | 1110            | 0000 (false)    |\n",
    "| 2       | 0010    | 1101            | 0000 (false)    |\n",
    "| 3       | 0011    | 1100            | 0000 (false)    |\n",
    "| 4       | 0100    | 1011            | 0000 (false)    |\n",
    "| 5       | 0101    | 1010            | 0000 (false)    |\n",
    "| 6       | 0110    | 1001            | 0000 (false)    |\n",
    "| 7       | 0111    | 1000            | 0000 (false)    |\n",
    "\n",
    "</div>"
   ]
  },
  {
   "cell_type": "code",
   "execution_count": 37,
   "id": "ef13fb83",
   "metadata": {
    "editable": true,
    "slideshow": {
     "slide_type": ""
    },
    "tags": [],
    "vscode": {
     "languageId": "cpp"
    }
   },
   "outputs": [
    {
     "name": "stdout",
     "output_type": "stream",
     "text": [
      "int a = 0, !a = 1, !a = 00000000000000000000000000000001\n",
      "int b = 1, !b = 0, !b = 00000000000000000000000000000000\n",
      "int c = 2, !c = 0, !c = 00000000000000000000000000000000\n",
      "\n",
      "int a = 0, ~a = -1, ~a = 11111111111111111111111111111111\n",
      "int b = 1, ~b = -2, ~b = 11111111111111111111111111111110\n",
      "int c = 2, ~c = -3, ~c = 11111111111111111111111111111101\n"
     ]
    }
   ],
   "source": [
    "auto int2bitstring = [](unsigned int n, int bits = 32) {\n",
    "    std::string result;\n",
    "    for (int i = bits - 1; i >= 0; --i) {\n",
    "        result += (n & (1 << i)) ? '1' : '0';\n",
    "    }\n",
    "    return result;\n",
    "};\n",
    "\n",
    "int a = 0;\n",
    "int b = 1;\n",
    "int c = 2; // Binary: 010\n",
    "\n",
    "// Logical NOT operator\n",
    "std::cout << \"int a = \" << a << \", !a = \" << !a << \", !a = \" << int2bitstring(!a) << std::endl;\n",
    "std::cout << \"int b = \" << b << \", !b = \" << !b << \", !b = \" << int2bitstring(!b) << std::endl;\n",
    "std::cout << \"int c = \" << c << \", !c = \" << !c << \", !c = \" << int2bitstring(!c) << std::endl << std::endl;\n",
    "\n",
    "// Bitwise NOT operator\n",
    "std::cout << \"int a = \" << a << \", ~a = \" << ~a << \", ~a = \" << int2bitstring(~a) << std::endl;\n",
    "std::cout << \"int b = \" << b << \", ~b = \" << ~b << \", ~b = \" << int2bitstring(~b) << std::endl;\n",
    "std::cout << \"int c = \" << c << \", ~c = \" << ~c << \", ~c = \" << int2bitstring(~c) << std::endl;"
   ]
  },
  {
   "cell_type": "code",
   "execution_count": 38,
   "id": "36796b64",
   "metadata": {
    "editable": true,
    "slideshow": {
     "slide_type": ""
    },
    "tags": [],
    "vscode": {
     "languageId": "cpp"
    }
   },
   "outputs": [
    {
     "name": "stdout",
     "output_type": "stream",
     "text": [
      "unsigned int a = 0, !a = 1, !a = 00000000000000000000000000000001\n",
      "unsigned int b = 1, !b = 0, !b = 00000000000000000000000000000000\n",
      "unsigned int c = 2, !c = 0, !c = 00000000000000000000000000000000\n",
      "\n",
      "unsigned int a = 0, ~a = 4294967295, ~a = 11111111111111111111111111111111\n",
      "unsigned int b = 1, ~b = 4294967294, ~b = 11111111111111111111111111111110\n",
      "unsigned int c = 2, ~c = 4294967293, ~c = 11111111111111111111111111111101\n",
      "\n"
     ]
    }
   ],
   "source": [
    "unsigned int a = 0;\n",
    "unsigned int b = 1;\n",
    "unsigned int c = 2; // Binary: 010\n",
    "\n",
    "// Logical NOT operator\n",
    "std::cout << \"unsigned int a = \" << a << \", !a = \" << !a << \", !a = \" << int2bitstring(!a) << std::endl;\n",
    "std::cout << \"unsigned int b = \" << b << \", !b = \" << !b << \", !b = \" << int2bitstring(!b) << std::endl;\n",
    "std::cout << \"unsigned int c = \" << c << \", !c = \" << !c << \", !c = \" << int2bitstring(!c) << std::endl << std::endl;\n",
    "\n",
    "// Bitwise NOT operator\n",
    "std::cout << \"unsigned int a = \" << a << \", ~a = \" << ~a << \", ~a = \" << int2bitstring(~a) << std::endl;\n",
    "std::cout << \"unsigned int b = \" << b << \", ~b = \" << ~b << \", ~b = \" << int2bitstring(~b) << std::endl;\n",
    "std::cout << \"unsigned int c = \" << c << \", ~c = \" << ~c << \", ~c = \" << int2bitstring(~c) << std::endl << std::endl;"
   ]
  },
  {
   "cell_type": "markdown",
   "id": "0fa0cd82",
   "metadata": {
    "editable": false,
    "slideshow": {
     "slide_type": ""
    },
    "tags": []
   },
   "source": [
    "The binary output for the bitwise negation is exactly what one would expect, but the decimal representation might be surprising.\n",
    "\n",
    "This is because we're seeing the `two's complement` representation of the negative integers. There's more we could say about what this is, but it isn't directly related to `satisfiability`, so for now, we'll just note that negative numbers are stored in the upper half of the range of values for a given integer type. That's why we see those large decimal values for the unsigned integers and negative decimal values for the signed integers.\n",
    "\n",
    "Since the bit strings for the bitwise negations are exactly what we'd expect, we can trust that any bitwise NOT `~` used to investigate satisfiability will work as expected."
   ]
  },
  {
   "cell_type": "markdown",
   "id": "b06e59d5",
   "metadata": {
    "editable": false,
    "slideshow": {
     "slide_type": ""
    },
    "tags": []
   },
   "source": [
    "## Truth Tables and Satisfiability\n",
    "\n",
    "A boolean expression is ```satisfiable``` if there exists at least one assignment of truth values to its variables that makes the expression evaluate to true.\n",
    "\n",
    "A satisfiability expression with two variables can have $2^2 = 4$ possible combinations of truth values:\n",
    "\n",
    "<div style=\"font-size:1.2em;\">\n",
    "\n",
    "| A     | B     | NOT B | (A OR (NOT B)) |\n",
    "|-------|-------|-------|----------------|\n",
    "| false | false | true  | true           |\n",
    "| false | true  | false | false          |\n",
    "| true  | false | true  | true           |\n",
    "| true  | true  | false | true           |\n",
    "\n",
    "</div>\n",
    "\n",
    "A satisfiability expression with three variables can have $2^3 = 8$ possible combinations of truth values. Below is an example where only one combination is satisfiable, such as the expression `(A AND B AND (NOT C))`:\n",
    "\n",
    "<div style=\"font-size:1.2em;\">\n",
    "\n",
    "| A     | B     | C     | NOT C | (A AND B AND (NOT C)) |\n",
    "|-------|-------|-------|-------|-----------------------|\n",
    "| false | false | false | true  | false                 |\n",
    "| false | false | true  | false | false                 |\n",
    "| false | true  | false | true  | false                 |\n",
    "| false | true  | true  | false | false                 |\n",
    "| true  | false | false | true  | false                 |\n",
    "| true  | false | true  | false | false                 |\n",
    "| true  | true  | false | true  | true                  |\n",
    "| true  | true  | true  | false | false                 |\n",
    "\n",
    "</div>\n",
    "\n",
    "A boolean expression ```unsatisfiable``` if there is no assignment of truth values to its variables that makes the expression evaluate to true."
   ]
  },
  {
   "cell_type": "code",
   "execution_count": 34,
   "id": "8483e9e4",
   "metadata": {
    "editable": true,
    "slideshow": {
     "slide_type": ""
    },
    "tags": [],
    "vscode": {
     "languageId": "cpp"
    }
   },
   "outputs": [
    {
     "name": "stdout",
     "output_type": "stream",
     "text": [
      "A && B = 1\n",
      "A || B = 1\n",
      "!A = 0\n",
      "A || !B = 1\n",
      "A && B && !C = 1\n",
      "((A && B) && (B || C)) && !(B && C) = 1\n"
     ]
    }
   ],
   "source": [
    "// Satisfiability calculations using two variables A and B\n",
    "int A = 1; // true\n",
    "int B = 1; // false\n",
    "int C = 0; // false\n",
    "\n",
    "std::cout << \"A && B = \" << (A && B) << std::endl; // AND\n",
    "std::cout << \"A || B = \" << (A || B) << std::endl; // OR\n",
    "std::cout << \"!A = \" << (!A) << std::endl;         // NOT (logical)\n",
    "\n",
    "// Example: (A || !B)\n",
    "std::cout << \"A || !B = \" << (A || !B) << std::endl;\n",
    "\n",
    "// Example: (A && B && !C)\n",
    "std::cout << \"A && B && !C = \" << (A && B && !C) << std::endl;\n",
    "\n",
    "// Example: (((A && B) && (B || C)) && !(B && C))\n",
    "std::cout << \"((A && B) && (B || C)) && !(B && C) = \" << (((A && B) && (B || C)) && !(B && C)) << std::endl;"
   ]
  },
  {
   "cell_type": "markdown",
   "id": "5d72f88f",
   "metadata": {
    "editable": false,
    "slideshow": {
     "slide_type": ""
    },
    "tags": []
   },
   "source": [
    "<h4>Truth Table for <code>(((A &amp;&amp; B) &amp;&amp; (B || C)) &amp;&amp; !(B &amp;&amp; C))</code></h4>\n",
    "<table style=\"width:100%; font-size:1.1em;\">\n",
    "  <tr>\n",
    "     <th>A</th><th>B</th><th>C</th>\n",
    "      <th>(A &amp;&amp; B)</th>\n",
    "      <th>(B || C)</th>\n",
    "      <th>(A &amp;&amp; B) &amp;&amp; (B || C)</th>\n",
    "      <th>(B &amp;&amp; C)</th>\n",
    "      <th>!(B &amp;&amp; C)</th>\n",
    "      <th>((A &amp;&amp; B) &amp;&amp; (B || C)) &amp;&amp; !(B &amp;&amp; C)</th>\n",
    "  </tr>\n",
    "  <tr><td>false</td><td>false</td><td>false</td><td>false</td><td>false</td><td>false</td><td>false</td><td>true</td><td>false</td></tr>\n",
    "  <tr><td>false</td><td>false</td><td>true</td><td>false</td><td>true</td><td>false</td><td>false</td><td>true</td><td>false</td></tr>\n",
    "  <tr><td>false</td><td>true</td><td>false</td><td>false</td><td>true</td><td>false</td><td>false</td><td>true</td><td>false</td></tr>\n",
    "  <tr><td>false</td><td>true</td><td>true</td><td>false</td><td>true</td><td>false</td><td>true</td><td>false</td><td>false</td></tr>\n",
    "  <tr><td>true</td><td>false</td><td>false</td><td>false</td><td>false</td><td>false</td><td>false</td><td>true</td><td>false</td></tr>\n",
    "  <tr><td>true</td><td>false</td><td>true</td><td>false</td><td>true</td><td>false</td><td>false</td><td>true</td><td>false</td></tr>\n",
    "  <tr><td style=\"color:#228B22;\">true</td><td style=\"color:#228B22;\">true</td><td style=\"color:#228B22;\">false</td><td style=\"color:#228B22;\">true</td><td style=\"color:#228B22;\">true</td><td style=\"color:#228B22;\">true</td><td style=\"color:#228B22;\">false</td><td style=\"color:#228B22;\">true</td><td style=\"color:#228B22;\">true</td></tr>\n",
    "  <tr><td>true</td><td>true</td><td>true</td><td>true</td><td>true</td><td>true</td><td>true</td><td>false</td><td>false</td></tr>\n",
    "</table>"
   ]
  },
  {
   "cell_type": "markdown",
   "id": "11246718",
   "metadata": {
    "editable": false,
    "slideshow": {
     "slide_type": ""
    },
    "tags": []
   },
   "source": [
    "## Relating Satisfiability to Logic Circuits\n",
    "\n",
    "Here is an example of a logic circuit created in [Logic.ly](https://logic.ly/demo/) to visualize satisfiability the satisfiability expression from above.\n",
    "\n",
    "`((A AND B) AND (B OR C)) AND NOT(B AND C)`.\n",
    "\n",
    "![Logic.ly Satisfiability Example](https://latessa.github.io/cpp-labs/images/Lab05/logicly_satisfy.png)\n",
    "\n",
    "Experiment with your own designs on the [Logic.ly](https://logic.ly/demo/) demo site.\n",
    "\n",
    "The demo site will not let you save or export your designs, but the full version of Logic.ly is available on the Engineering vLAB."
   ]
  },
  {
   "cell_type": "markdown",
   "id": "82466d1a",
   "metadata": {
    "editable": false,
    "slideshow": {
     "slide_type": ""
    },
    "tags": []
   },
   "source": [
    "## Implementing Satisfiability in C++\n",
    "\n",
    "The code above showed satisfiability for one combination of variables ```A=true, B=true, C=false```. The program we write should show the result of not just one combination of variables for a given expression, but all combinations and indicating which combinations are satisfiable.\n",
    "\n",
    "In order for our program to determine satisfiability, we should consider how to represent the truth table values in a data structure.\n",
    "  * One option is to use arrays or vectors of booleans to represent the truth table columns. The compare the values at each index to determine the result of the expression.\n",
    "  \n",
    "  ```cpp\n",
    "    std::vector<bool> A = {false, false, true, true};\n",
    "    std::vector<bool> B = {false, true, false, true};\n",
    "\n",
    "    for each row of the truth table\n",
    "      this_row_truth_value[i] = (A[i] || !B[i]);\n",
    "  ```\n",
    "\n",
    "  * With the above approach, we used ```logical``` operators to compare each row of the truth table one at a time. Could we instead compare all rows at once using ```bitwise``` operators instead? Bitwise operators act on all bits of a number at once.\n",
    "\n",
    "<div align=\"center\">\n",
    "<table>\n",
    "    <tr>\n",
    "        <td><b>A</b> = 0011</td>\n",
    "        <td>false, false, true, true</td>\n",
    "    </tr>\n",
    "    <tr>\n",
    "        <td><b>B</b> = 0101</td>\n",
    "        <td>false, true, false, true</td>\n",
    "    </tr>\n",
    "</table>\n",
    "</div>\n",
    "\n",
    "  * Recognize that ```0011``` (the truth table values for column A) is just a number. In this case for a 2-variable truth table, it is the integer ```3```. Similarly, ```0101``` (the truth table values for column B) is just the integer ```5```.\n",
    "  * In the lab assignment, we are working with 3-variable truth table, so the numbers representing the truth table columns will not be the same as for a 2-variable truth table.\n",
    "  ```"
   ]
  },
  {
   "cell_type": "markdown",
   "id": "5b31a334",
   "metadata": {
    "editable": false,
    "slideshow": {
     "slide_type": ""
    },
    "tags": []
   },
   "source": [
    "## Sample Program Output\n",
    "\n",
    "For the example problem: ```(((A && B) && (B || C)) && !(B && C))```\n",
    "\n",
    "![Lab05 Example Output](https://latessa.github.io/cpp-labs/images/Lab05/lab05_example_output.png)"
   ]
  }
 ],
 "metadata": {
  "kernelspec": {
   "display_name": "C++17",
   "language": "C++17",
   "name": "xcpp17"
  },
  "language_info": {
   "codemirror_mode": "text/x-c++src",
   "file_extension": ".cpp",
   "mimetype": "text/x-c++src",
   "name": "c++",
   "version": "17"
  }
 },
 "nbformat": 4,
 "nbformat_minor": 5
}
