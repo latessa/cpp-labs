{
 "cells": [
  {
   "cell_type": "markdown",
   "id": "154b8e66",
   "metadata": {},
   "source": [
    "# Lab 05 Examples (Satisfiability)\n",
    "\n",
    "Logical and Bitwise Operators, Truth Tables, and Satisfiability"
   ]
  },
  {
   "cell_type": "code",
   "execution_count": null,
   "id": "0067bc6c-ed2d-416f-b1bf-70f3bea3799c",
   "metadata": {},
   "outputs": [],
   "source": [
    "// For Lab 05, we are limited to these includes.\n",
    "// Other libraries that can do the set or binary operations for us are not allowed.\n",
    "// For example, DO NOT include <bitset> or <set>.\n",
    "\n",
    "#include <iostream>\n",
    "#include <string>\n",
    "#include <vector>\n",
    "#include <cmath>"
   ]
  },
  {
   "cell_type": "markdown",
   "id": "cbc09178",
   "metadata": {},
   "source": [
    "## Logical Operators and Bitwise Operators\n",
    "\n",
    "We've previously looked at the logical operators `&&` (AND), `||` (OR), and `!` (NOT), and the bitwise operators `&` (AND), `|` (OR), and `^` (XOR).\n",
    "\n",
    "We've also looked at the bitshift operators `<<` (left shift) and `>>` (right shift).\n",
    "\n",
    "We have not yet mentioned the bitwise NOT operator `~` (tilde).\n",
    "\n",
    "The logical NOT operator `!` negates a boolean expression and will always evaluate to either `true` or `false`, while the bitwise NOT operator `~` inverts all bits of its operand.\n",
    "\n",
    "| Decimal | Binary  | Bitwise NOT `~` | Logical NOT `!` |\n",
    "|---------|---------|-----------------|-----------------|\n",
    "| 0       | 0000    | 1111            | 0001 (true)     |\n",
    "| 1       | 0001    | 1110            | 0000 (false)    |\n",
    "| 2       | 0010    | 1101            | 0000 (false)    |\n",
    "| 3       | 0011    | 1100            | 0000 (false)    |\n",
    "| 4       | 0100    | 1011            | 0000 (false)    |\n",
    "| 5       | 0101    | 1010            | 0000 (false)    |\n",
    "| 6       | 0110    | 1001            | 0000 (false)    |\n",
    "| 7       | 0111    | 1000            | 0000 (false)    |\n",
    "\n",
    "\n"
   ]
  },
  {
   "cell_type": "code",
   "execution_count": 30,
   "id": "17a0ad9e",
   "metadata": {
    "vscode": {
     "languageId": "cpp"
    }
   },
   "outputs": [
    {
     "name": "stdout",
     "output_type": "stream",
     "text": [
      "int a = 0, !a = 1, !a = 00000000000000000000000000000001\n",
      "int b = 1, !b = 0, !b = 00000000000000000000000000000000\n",
      "int c = 2, !c = 0, !c = 00000000000000000000000000000000\n",
      "\n",
      "int a = 0, ~a = -1, ~a = 11111111111111111111111111111111\n",
      "int b = 1, ~b = -2, ~b = 11111111111111111111111111111110\n",
      "int c = 2, ~c = -3, ~c = 11111111111111111111111111111101\n"
     ]
    }
   ],
   "source": [
    "auto int2bitstring = [](unsigned int n, int bits = 32) {\n",
    "    std::string result;\n",
    "    for (int i = bits - 1; i >= 0; --i) {\n",
    "        result += (n & (1 << i)) ? '1' : '0';\n",
    "    }\n",
    "    return result;\n",
    "};\n",
    "\n",
    "int a = 0;\n",
    "int b = 1;\n",
    "int c = 2; // Binary: 010\n",
    "\n",
    "// Logical NOT operator\n",
    "std::cout << \"int a = \" << a << \", !a = \" << !a << \", !a = \" << int2bitstring(!a) << std::endl;\n",
    "std::cout << \"int b = \" << b << \", !b = \" << !b << \", !b = \" << int2bitstring(!b) << std::endl;\n",
    "std::cout << \"int c = \" << c << \", !c = \" << !c << \", !c = \" << int2bitstring(!c) << std::endl << std::endl;\n",
    "\n",
    "// Bitwise NOT operator\n",
    "std::cout << \"int a = \" << a << \", ~a = \" << ~a << \", ~a = \" << int2bitstring(~a) << std::endl;\n",
    "std::cout << \"int b = \" << b << \", ~b = \" << ~b << \", ~b = \" << int2bitstring(~b) << std::endl;\n",
    "std::cout << \"int c = \" << c << \", ~c = \" << ~c << \", ~c = \" << int2bitstring(~c) << std::endl;"
   ]
  },
  {
   "cell_type": "code",
   "execution_count": 31,
   "id": "36796b64",
   "metadata": {
    "vscode": {
     "languageId": "cpp"
    }
   },
   "outputs": [
    {
     "name": "stdout",
     "output_type": "stream",
     "text": [
      "unsigned int a = 0, !a = 1, !a = 00000000000000000000000000000001\n",
      "unsigned int b = 1, !b = 0, !b = 00000000000000000000000000000000\n",
      "unsigned int c = 2, !c = 0, !c = 00000000000000000000000000000000\n",
      "\n",
      "unsigned int a = 0, ~a = 4294967295, ~a = 11111111111111111111111111111111\n",
      "unsigned int b = 1, ~b = 4294967294, ~b = 11111111111111111111111111111110\n",
      "unsigned int c = 2, ~c = 4294967293, ~c = 11111111111111111111111111111101\n",
      "\n"
     ]
    }
   ],
   "source": [
    "unsigned int a = 0;\n",
    "unsigned int b = 1;\n",
    "unsigned int c = 2; // Binary: 010\n",
    "\n",
    "// Logical NOT operator\n",
    "std::cout << \"unsigned int a = \" << a << \", !a = \" << !a << \", !a = \" << int2bitstring(!a) << std::endl;\n",
    "std::cout << \"unsigned int b = \" << b << \", !b = \" << !b << \", !b = \" << int2bitstring(!b) << std::endl;\n",
    "std::cout << \"unsigned int c = \" << c << \", !c = \" << !c << \", !c = \" << int2bitstring(!c) << std::endl << std::endl;\n",
    "\n",
    "// Bitwise NOT operator\n",
    "std::cout << \"unsigned int a = \" << a << \", ~a = \" << ~a << \", ~a = \" << int2bitstring(~a) << std::endl;\n",
    "std::cout << \"unsigned int b = \" << b << \", ~b = \" << ~b << \", ~b = \" << int2bitstring(~b) << std::endl;\n",
    "std::cout << \"unsigned int c = \" << c << \", ~c = \" << ~c << \", ~c = \" << int2bitstring(~c) << std::endl << std::endl;"
   ]
  },
  {
   "cell_type": "markdown",
   "id": "0746741c",
   "metadata": {},
   "source": [
    "The binary output for the bitwise negation is exactly what one would expect, but the decimal representation might be surprising.\n",
    "\n",
    "This is because we're seeing the ```two's complement``` representation of the negative integers. There's more we could say about what this is, but it isn't directly related to ```satisfiability```, so for now, we'll just note that negative numbers are stored in the upper half of the range of values for a given integer type. That's why we see those large decimal values for the unsigned integers and negative decimal values for the signed integers.\n",
    "\n",
    "Since the bit strings for the bitwise negations are exactly what we'd expect, we can trust that any bitwise NOT ```~``` used to investigate satisfiability will work as expected."
   ]
  }
 ],
 "metadata": {
  "kernelspec": {
   "display_name": "C++17",
   "language": "C++17",
   "name": "xcpp17"
  },
  "language_info": {
   "codemirror_mode": "text/x-c++src",
   "file_extension": ".cpp",
   "mimetype": "text/x-c++src",
   "name": "c++",
   "version": "17"
  }
 },
 "nbformat": 4,
 "nbformat_minor": 5
}
