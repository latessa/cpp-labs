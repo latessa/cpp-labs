{
 "cells": [
  {
   "cell_type": "markdown",
   "id": "154b8e66",
   "metadata": {
    "editable": false,
    "slideshow": {
     "slide_type": ""
    },
    "tags": []
   },
   "source": [
    "# Lab 07 Examples (Summation, Recursion)"
   ]
  },
  {
   "cell_type": "markdown",
   "id": "fedd9f2a-e490-4b75-8ff4-afb73ab53f92",
   "metadata": {
    "editable": false,
    "slideshow": {
     "slide_type": ""
    },
    "tags": []
   },
   "source": [
    "Click \\<shift> \\<enter> in each code cell to run the code. Be sure to start with the ```#include``` directives to load the required libraries."
   ]
  },
  {
   "cell_type": "code",
   "execution_count": null,
   "id": "400cee4a-03dc-491f-aca8-c997c0341fcb",
   "metadata": {
    "editable": true,
    "slideshow": {
     "slide_type": ""
    },
    "tags": []
   },
   "outputs": [],
   "source": [
    "// For Lab 07, we are limited to using only <iostream>\n",
    "\n",
    "#include <iostream>"
   ]
  },
  {
   "cell_type": "markdown",
   "id": "0d9bd6fb",
   "metadata": {
    "editable": false,
    "slideshow": {
     "slide_type": ""
    },
    "tags": []
   },
   "source": [
    "## An Overview of Today's Lab\n",
    "\n",
    "Today's lab will involve implementing four functions.\n",
    "* The first is a summation that will be calculated using a formula.\n",
    "* The second will perform the same summation using iteration (a loop).\n",
    "* The third will perform the same summation using recursion.\n",
    "* The fourth will be a recursive function to calculate the nth Fibonacci number. We will look at this function in detail in these notes, so the point is for you to understand the recursion rather than to reinvent how it works on your own."
   ]
  },
  {
   "cell_type": "markdown",
   "id": "fc595779",
   "metadata": {},
   "source": [
    "## Recursion\n",
    "\n",
    "A recursive function is a function that calls itself. Like iteration (using loops), recursion allows for repeating a set of instructions multiple times. And while recursion can be used for mere repetition, it is often better suited for problems that can be broken down into smaller instances of the same problem.\n",
    "\n",
    "Just a loop can be infinite if the exit condition is never met, a recursive function can also be infinite if there is NO `base case` to stop the recursion.\n",
    "\n",
    "```cpp\n",
    "int a = 0;\n",
    "while (a >= 0) {\n",
    "    std::cout << \"This loop will run forever!\" << std::endl;\n",
    "}\n",
    "```\n",
    "\n",
    "```cpp\n",
    "void infiniteRecursion() {\n",
    "    std::cout << \"This function will continuously call itself until it runs out of memory.\" << std::endl;\n",
    "    infiniteRecursion();\n",
    "}\n",
    "```\n",
    "\n",
    "While the loop will continue until the program is manually interrupted, the recursive function eventually produce a stack overflow error when the program runs out of memory to store the function calls. Whenever a function is called, a new frame is added to the call stack to manage the function's parameters and local variables. Since there's no `base case` in which the function will end without again calling itself, the stack keeps growing until its memory limit is reached.\n",
    "\n",
    "A recursive function will therefore typically have two main components:\n",
    "1. A `recursive case` that breaks the problem down into smaller instances of itself.\n",
    "2. A `base case` that stops the recursion, allowing the call stack to unwind.\n",
    "\n",
    "Here is a recursive function that counts down from a given number to zero:"
   ]
  },
  {
   "cell_type": "code",
   "execution_count": 11,
   "id": "0037cc07",
   "metadata": {
    "editable": true,
    "slideshow": {
     "slide_type": ""
    },
    "tags": [],
    "vscode": {
     "languageId": "cpp"
    }
   },
   "outputs": [
    {
     "name": "stderr",
     "output_type": "stream",
     "text": [
      "input_line_17:4:10: error: no member named 'cout' in namespace 'std'\n",
      "    std::cout << n << std::endl;\n",
      "    ~~~~~^\n"
     ]
    },
    {
     "ename": "Interpreter Error",
     "evalue": "",
     "output_type": "error",
     "traceback": [
      "Interpreter Error: "
     ]
    }
   ],
   "source": [
    "void countdown(int n) {\n",
    "    if (n == 0) // base case\n",
    "        return;\n",
    "    std::cout << n << std::endl;\n",
    "    countdown(n - 1); // recursive call\n",
    "}\n",
    "\n",
    "// start countdown from 10\n",
    "countdown(10);"
   ]
  },
  {
   "cell_type": "markdown",
   "id": "d7a8c35a",
   "metadata": {
    "editable": false,
    "slideshow": {
     "slide_type": ""
    },
    "tags": []
   },
   "source": [
    "### Deriving Logical XOR\n",
    "\n",
    "Although C++ provides a built-in bitwise XOR operator (`^`), there is no direct logical XOR operator. Logical XOR (exclusive OR) would return true if exactly one of its operands is true, and false otherwise. We can derive logical XOR using other logical operators, such as:\n",
    "\n",
    "```\n",
    "a XOR b ≡ (a && !b) || (!a && b)\n",
    "```\n",
    "\n",
    "Here is a truth table comparing the bitwise XOR (`a ^ b`) with the derived logical XOR:\n",
    "\n",
    "<table style=\"font-size: 1.3em; width: 100%;\">\n",
    "    <tr>\n",
    "        <th>a</th>\n",
    "        <th>b</th>\n",
    "        <th>a ^ b (bitwise)</th>\n",
    "        <th>!a</th>\n",
    "        <th>!b</th>\n",
    "        <th>(a && !b)</th>\n",
    "        <th>(!a && b)</th>\n",
    "        <th>Logical XOR<br>(a && !b) &#124;&#124; (!a && b)</th>\n",
    "    </tr>\n",
    "    <tr>\n",
    "        <td>False</td>\n",
    "        <td>False</td>\n",
    "        <td>False</td>\n",
    "        <td>True</td>\n",
    "        <td>True</td>\n",
    "        <td>False</td>\n",
    "        <td>False</td>\n",
    "        <td>False</td>\n",
    "    </tr>\n",
    "    <tr>\n",
    "        <td>False</td>\n",
    "        <td>True</td>\n",
    "        <td>True</td>\n",
    "        <td>True</td>\n",
    "        <td>False</td>\n",
    "        <td>False</td>\n",
    "        <td>True</td>\n",
    "        <td>True</td>\n",
    "    </tr>\n",
    "    <tr>\n",
    "        <td>True</td>\n",
    "        <td>False</td>\n",
    "        <td>True</td>\n",
    "        <td>False</td>\n",
    "        <td>True</td>\n",
    "        <td>True</td>\n",
    "        <td>False</td>\n",
    "        <td>True</td>\n",
    "    </tr>\n",
    "    <tr>\n",
    "        <td>True</td>\n",
    "        <td>True</td>\n",
    "        <td>False</td>\n",
    "        <td>False</td>\n",
    "        <td>False</td>\n",
    "        <td>False</td>\n",
    "        <td>False</td>\n",
    "        <td>False</td>\n",
    "    </tr>\n"
   ]
  },
  {
   "cell_type": "markdown",
   "id": "e2bfa80e",
   "metadata": {
    "editable": false,
    "slideshow": {
     "slide_type": ""
    },
    "tags": []
   },
   "source": [
    "### Deriving IMPLIES\n",
    "\n",
    "C++ doesn't provide a built-in operator for IMPLIES. To derive IMPLIES using other operators, let's first look at the IMPLIES truth table:\n",
    "\n",
    "<table style=\"font-size: 1.3em; width: 60%;\">\n",
    "    <tr>\n",
    "        <th>a</th>\n",
    "        <th>b</th>\n",
    "        <th>a IMPLIES b</th>\n",
    "    </tr>\n",
    "    <tr>\n",
    "        <td>False</td>\n",
    "        <td>False</td>\n",
    "        <td>True</td>\n",
    "    </tr>\n",
    "    <tr>\n",
    "        <td>False</td>\n",
    "        <td>True</td>\n",
    "        <td>True</td>\n",
    "    </tr>\n",
    "    <tr>\n",
    "        <td>True</td>\n",
    "        <td>False</td>\n",
    "        <td>False</td>\n",
    "    </tr>\n",
    "    <tr>\n",
    "        <td>True</td>\n",
    "        <td>True</td>\n",
    "        <td>True</td>\n",
    "    </tr>\n",
    "</table>\n",
    "\n",
    "We can think of IMPLIES as an `if` condition.  Let's assign `a` to the proposition `it is raining` and `b` to the proposition `I go inside.`\n",
    "\n",
    "* If it is `false` that `it is raining`, and it is `false` that `I go inside`, then the claim evaluates to `true`. (I didn't make any claim about what I do when it's not raining, so it's fine that I didn't go inside. The implication holds.)\n",
    "* If it is `false` that `it is raining`, and it is `true` that `I go inside`, then the claim evaluates to `true`. (Again, I didn't make any claim about what I do when it's not raining, so it's fine that I went inside. The implication holds.)\n",
    "* If it is `true` that `it is raining`, but it is `false` that `I go inside`, then the claim evaluates to `false`.\n",
    "* If it is `true` that `it is raining`, and it is `true` that `I go inside`, then the claim evaluates to true.\n"
   ]
  },
  {
   "cell_type": "markdown",
   "id": "a6cbfdf4",
   "metadata": {
    "editable": false,
    "slideshow": {
     "slide_type": ""
    },
    "tags": []
   },
   "source": [
    "### Using Equivalence to Implement IMPLIES in C++\n",
    "\n",
    "Our textbook shows us many equivalences.  \n",
    "*Discrete Mathematics and Its Applications* by Kenneth H. Rosen.\n",
    "\n",
    "![Equivalence](https://latessa.github.io/cpp-labs/images/Lab06/logical_equivalences.png)\n",
    "\n",
    "\n",
    "![Equivalence for Conditional Statements](https://latessa.github.io/cpp-labs/images/Lab06/logical_equivalences_conditional.png)"
   ]
  },
  {
   "cell_type": "markdown",
   "id": "817950b9",
   "metadata": {
    "editable": false,
    "slideshow": {
     "slide_type": ""
    },
    "tags": []
   },
   "source": [
    "The first row of **Table 7** shows that `p IMPLIES q` is equivalent to `NOT p OR q`.\n",
    "\n",
    "We can implement IMPLIES using this equivalence.\n",
    "\n",
    "```\n",
    "a IMPLIES b ≡ (~a | b)\n",
    "```\n",
    "\n",
    "Remember that `!` and `~` are both NOT operators. `!` is logical NOT, and `~` is bitwise NOT."
   ]
  },
  {
   "cell_type": "markdown",
   "id": "cfe63a79-34c7-431e-82e4-0746d732eae4",
   "metadata": {
    "editable": false,
    "slideshow": {
     "slide_type": ""
    },
    "tags": []
   },
   "source": [
    "Here is a truth table comparing IMPLIES with the derived programmable expression:\n",
    "\n",
    "<table style=\"font-size: 1.3em; width: 80%;\">\n",
    "    <tr>\n",
    "        <th>a</th>\n",
    "        <th>b</th>\n",
    "        <th>a IMPLIES b</th>\n",
    "        <th>~a</th>\n",
    "        <th>(~a | b)</th>\n",
    "    </tr>\n",
    "    <tr>\n",
    "        <td>False</td>\n",
    "        <td>False</td>\n",
    "        <td>True</td>\n",
    "        <td>True</td>\n",
    "        <td>True</td>\n",
    "    </tr>\n",
    "    <tr>\n",
    "        <td>False</td>\n",
    "        <td>True</td>\n",
    "        <td>True</td>\n",
    "        <td>True</td>\n",
    "        <td>True</td>\n",
    "    </tr>\n",
    "    <tr>\n",
    "        <td>True</td>\n",
    "        <td>False</td>\n",
    "        <td>False</td>\n",
    "        <td>False</td>\n",
    "        <td>False</td>\n",
    "    </tr>\n",
    "    <tr>\n",
    "        <td>True</td>\n",
    "        <td>True</td>\n",
    "        <td>True</td>\n",
    "        <td>False</td>\n",
    "        <td>True</td>\n",
    "    </tr>\n",
    "</table>\n"
   ]
  },
  {
   "cell_type": "markdown",
   "id": "a8aa667a-5901-43f9-beb7-82a95959b2d4",
   "metadata": {
    "editable": false,
    "slideshow": {
     "slide_type": ""
    },
    "tags": []
   },
   "source": [
    "## Reviewing the Lab 05 Solution\n",
    "\n",
    "Lab 05 used AND, OR, and NOT operations to solve the problems in the solution below."
   ]
  },
  {
   "cell_type": "code",
   "execution_count": 6,
   "id": "69f3718f-8d67-4843-8744-670c51fc66e7",
   "metadata": {
    "editable": true,
    "slideshow": {
     "slide_type": ""
    },
    "tags": []
   },
   "outputs": [
    {
     "name": "stdout",
     "output_type": "stream",
     "text": [
      "Example Problem (from last week): \n",
      "00000010\n",
      "\n",
      "Problem 1: \n",
      "00000111\n",
      "\n",
      "Problem 2: \n",
      "00000000\n",
      "\n",
      "Problem 3: \n",
      "00001000\n",
      "\n",
      "Problem 4: \n",
      "00000000\n",
      "\n",
      "Problem 5: \n",
      "00000000\n",
      "\n"
     ]
    }
   ],
   "source": [
    "std::string dec2bitstring(unsigned int num) {\n",
    "    std::string result = \"00000000\";\n",
    "    for (int i = 7; i >= 0; --i) {\n",
    "        result[i] = (num % 2) ? '1' : '0';\n",
    "        num /= 2;\n",
    "    }\n",
    "\n",
    "    return result;\n",
    "}\n",
    "\n",
    "// main function\n",
    "unsigned int A = 15; // base2 = 00001111\n",
    "unsigned int B = 51; // base2 = 00110011\n",
    "unsigned int C = 85; // base2 = 01010101\n",
    "\n",
    "std::cout << \"Example Problem (from last week): \" << std::endl; // expected: 00000010\n",
    "auto p0 = (((A & B) & (B | C)) & ~(B & C));\n",
    "std::cout << dec2bitstring(p0) << std::endl << std::endl;\n",
    "\n",
    "std::cout << \"Problem 1: \" << std::endl; // expected: 00000111\n",
    "auto p1 = (A & B) | (A & C);\n",
    "std::cout << dec2bitstring(p1) << std::endl << std::endl;\n",
    "\n",
    "std::cout << \"Problem 2: \" << std::endl; // expected: 00000000\n",
    "auto p2 = (A & C) & (B & ~C); \n",
    "std::cout << dec2bitstring(p2) << std::endl << std::endl;\n",
    "\n",
    "std::cout << \"Problem 3: \" << std::endl; // expected: 00001000\n",
    "auto p3 = (A | B) & ~(B | C);\n",
    "std::cout << dec2bitstring(p3) << std::endl << std::endl;\n",
    "\n",
    "std::cout << \"Problem 4: \" << std::endl; // expected: 00000000\n",
    "auto p4 = (A | (B & C)) & (~A & ~B); \n",
    "std::cout << dec2bitstring(p4) << std::endl << std::endl;\n",
    "\n",
    "std::cout << \"Problem 5: \" << std::endl; // expected: 00000000\n",
    "auto p5 = ((B & C) | (C & A)) & (~(A | B) & C);\n",
    "std::cout << dec2bitstring(p5) << std::endl << std::endl;\n"
   ]
  },
  {
   "cell_type": "markdown",
   "id": "03b4627b",
   "metadata": {
    "editable": false,
    "slideshow": {
     "slide_type": ""
    },
    "tags": []
   },
   "source": [
    "In C++, you can enter integers as binary literals by using the prefix `0b` or `0B`. For example, `0b00001111` represents the decimal value 15. You can also add a `u` suffix to indicate that the literal is an `unsigned int`, such as `0b00001111u`.\n",
    "\n",
    "To improve readability with long binary numbers, you can use the single quote (`'`) as a bit group separator. For example, `0b0101'0101` is easier to read and is the same number as `0b01010101`.\n",
    "\n",
    "When you output a binary literal using `std::cout`, it will display the value in decimal form.\n",
    "\n",
    "In Lab 06, consider replacing the decimal syntax (15, 51, and 85) with binary literals to more clearly convey their role as truth table columns."
   ]
  },
  {
   "cell_type": "code",
   "execution_count": 7,
   "id": "83287a5c",
   "metadata": {
    "editable": true,
    "slideshow": {
     "slide_type": ""
    },
    "tags": [],
    "vscode": {
     "languageId": "plaintext"
    }
   },
   "outputs": [
    {
     "name": "stdout",
     "output_type": "stream",
     "text": [
      "fifteen is 15\n",
      "negativeOne is = -1\n"
     ]
    },
    {
     "data": {
      "text/plain": [
       "@0x76fb155fcca0"
      ]
     },
     "execution_count": 7,
     "metadata": {},
     "output_type": "execute_result"
    }
   ],
   "source": [
    "unsigned int fifteen = 0b00001111u;                      // 15 in decimal, unsigned\n",
    "int negativeOne = 0b11111111'11111111'11111111'11111111; // -1 in decimal\n",
    "\n",
    "std::cout << \"fifteen is \" << fifteen << std::endl; // Output: 15\n",
    "std::cout << \"negativeOne is = \" << negativeOne << std::endl; // Output: -1"
   ]
  },
  {
   "cell_type": "markdown",
   "id": "da9cfad1",
   "metadata": {
    "editable": false,
    "slideshow": {
     "slide_type": ""
    },
    "tags": []
   },
   "source": [
    "When looking at the Lab 06 requirements, consider how similarly shaped your solution could be to the Lab 05 implementation we looked at today.\n",
    "\n",
    "* What lines would need to change?\n",
    "* What functionality would need to be added?\n",
    "\n",
    "Today's lab should be quite short to implement if you start with and modify the Lab 05 solution. The *.cpp* file is available on Canvas in last week's module."
   ]
  }
 ],
 "metadata": {
  "kernelspec": {
   "display_name": "C++17",
   "language": "C++17",
   "name": "xcpp17"
  },
  "language_info": {
   "codemirror_mode": "text/x-c++src",
   "file_extension": ".cpp",
   "mimetype": "text/x-c++src",
   "name": "c++",
   "version": "17"
  }
 },
 "nbformat": 4,
 "nbformat_minor": 5
}
