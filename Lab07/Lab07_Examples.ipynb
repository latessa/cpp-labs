{
 "cells": [
  {
   "cell_type": "markdown",
   "id": "154b8e66",
   "metadata": {
    "editable": false,
    "slideshow": {
     "slide_type": ""
    },
    "tags": []
   },
   "source": [
    "# Lab 07 Examples (Summation, Recursion)"
   ]
  },
  {
   "cell_type": "markdown",
   "id": "fedd9f2a-e490-4b75-8ff4-afb73ab53f92",
   "metadata": {
    "editable": false,
    "slideshow": {
     "slide_type": ""
    },
    "tags": []
   },
   "source": [
    "Click \\<shift> \\<enter> in each code cell to run the code. Be sure to start with the ```#include``` directives to load the required libraries."
   ]
  },
  {
   "cell_type": "code",
   "execution_count": null,
   "id": "400cee4a-03dc-491f-aca8-c997c0341fcb",
   "metadata": {
    "editable": true,
    "slideshow": {
     "slide_type": ""
    },
    "tags": []
   },
   "outputs": [],
   "source": [
    "// For Lab 07, we are limited to using only <iostream>\n",
    "\n",
    "#include <iostream>"
   ]
  },
  {
   "cell_type": "markdown",
   "id": "0d9bd6fb",
   "metadata": {
    "editable": false,
    "slideshow": {
     "slide_type": ""
    },
    "tags": []
   },
   "source": [
    "## An Overview of Today's Lab\n",
    "\n",
    "Today's lab will involve implementing four functions.\n",
    "* The first is a summation that will be calculated using a formula.\n",
    "* The second will perform the same summation using iteration (a loop).\n",
    "* The third will perform the same summation using recursion.\n",
    "* The fourth will be a recursive function to calculate the nth Fibonacci number. We will look at this function in detail in these notes, so the point is for you to understand the recursion rather than to reinvent how it works on your own."
   ]
  },
  {
   "cell_type": "markdown",
   "id": "fc595779",
   "metadata": {},
   "source": [
    "## Recursion\n",
    "\n",
    "A recursive function is a function that calls itself. Like iteration (using loops), recursion allows for repeating a set of instructions multiple times. And while recursion can be used for mere repetition, it is often better suited for problems that can be broken down into smaller instances of the same problem.\n",
    "\n",
    "Just a loop can be infinite if the exit condition is never met, a recursive function can also be infinite if there is NO `base case` to stop the recursion.\n",
    "\n",
    "```cpp\n",
    "int a = 0;\n",
    "while (a >= 0) {\n",
    "    std::cout << \"This loop will run forever!\" << std::endl;\n",
    "}\n",
    "```\n",
    "\n",
    "```cpp\n",
    "void infiniteRecursion() {\n",
    "    std::cout << \"This function will continuously call itself until it runs out of memory.\" << std::endl;\n",
    "    infiniteRecursion();\n",
    "}\n",
    "```\n",
    "\n",
    "While the loop will continue until the program is manually interrupted, the recursive function eventually produce a stack overflow error when the program runs out of memory to store the function calls. Whenever a function is called, a new frame is added to the call stack to manage the function's parameters and local variables. Since there's no `base case` in which the function will end without again calling itself, the stack keeps growing until its memory limit is reached.\n",
    "\n",
    "A recursive function will therefore typically have two main components:\n",
    "1. A `recursive case` that breaks the problem down into smaller instances of itself.\n",
    "2. A `base case` that stops the recursion, allowing the call stack to unwind.\n",
    "\n",
    "Here is a recursive function that counts down from a given number to zero:"
   ]
  },
  {
   "cell_type": "code",
   "execution_count": null,
   "id": "0037cc07",
   "metadata": {
    "editable": true,
    "slideshow": {
     "slide_type": ""
    },
    "tags": [],
    "vscode": {
     "languageId": "cpp"
    }
   },
   "outputs": [
    {
     "name": "stderr",
     "output_type": "stream",
     "text": [
      "input_line_7:4:10: error: no member named 'cout' in namespace 'std'\n",
      "    std::cout << n << std::endl;\n",
      "    ~~~~~^\n"
     ]
    },
    {
     "ename": "Interpreter Error",
     "evalue": "",
     "output_type": "error",
     "traceback": [
      "Interpreter Error: "
     ]
    }
   ],
   "source": [
    "void countdown(int n) {\n",
    "    if (n == 0) // base case\n",
    "        return;\n",
    "    std::cout << n << std::endl;\n",
    "    countdown(n - 1); // recursive call\n",
    "}\n",
    "\n",
    "// start countdown from 10\n",
    "countdown(10);"
   ]
  },
  {
   "cell_type": "markdown",
   "id": "262afe32",
   "metadata": {},
   "source": [
    "While using recursion for simple tasks like counting down from a given number is possible, it's not the most suitable approach. Here a loop would be simpler. But there are problems that are more inherently recursive, and for such problems, the recursive solution can be the simpler and more elegant one.\n",
    "\n",
    "Finding the nth Fibonacci number is a classic example of a problem that can be solved recursively, and in which the recursive solution is often more concise than the iterative one.\n",
    "\n",
    "We will now step through the recursive Fibonacci function as it calculates the 4th Fibonacci number. We will take note of each recursive call, as it is pushed onto and popped off the call stack."
   ]
  },
  {
   "cell_type": "markdown",
   "id": "b5a4dbda",
   "metadata": {},
   "source": [
    "from IPython.display import HTML\n",
    "\n",
    "HTML(\"\"\"\n",
    "<iframe src=\"https://latessa.github.io/cpp-labs/slides/Lab07/fib_slides.pdf\" width=\"800\" height=\"500\"></iframe>\n",
    "\"\"\")\n"
   ]
  }
 ],
 "metadata": {
  "kernelspec": {
   "display_name": "C++17",
   "language": "C++17",
   "name": "xcpp17"
  },
  "language_info": {
   "codemirror_mode": "text/x-c++src",
   "file_extension": ".cpp",
   "mimetype": "text/x-c++src",
   "name": "c++",
   "version": "17"
  }
 },
 "nbformat": 4,
 "nbformat_minor": 5
}
