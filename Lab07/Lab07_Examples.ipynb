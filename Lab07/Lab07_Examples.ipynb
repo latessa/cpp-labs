{
 "cells": [
  {
   "cell_type": "markdown",
   "id": "154b8e66",
   "metadata": {
    "editable": false,
    "slideshow": {
     "slide_type": ""
    },
    "tags": []
   },
   "source": [
    "# Lab 07 Examples (Summation, Recursion)"
   ]
  },
  {
   "cell_type": "markdown",
   "id": "fedd9f2a-e490-4b75-8ff4-afb73ab53f92",
   "metadata": {
    "editable": false,
    "slideshow": {
     "slide_type": ""
    },
    "tags": []
   },
   "source": [
    "Click \\<shift> \\<enter> in each code cell to run the code. Be sure to start with the ```#include``` directives to load the required libraries."
   ]
  },
  {
   "cell_type": "code",
   "execution_count": 1,
   "id": "400cee4a-03dc-491f-aca8-c997c0341fcb",
   "metadata": {
    "editable": true,
    "slideshow": {
     "slide_type": ""
    },
    "tags": [],
    "vscode": {
     "languageId": "cpp"
    }
   },
   "outputs": [],
   "source": [
    "// For Lab 07, we are limited to using only <iostream>\n",
    "\n",
    "#include <iostream>"
   ]
  },
  {
   "cell_type": "markdown",
   "id": "0d9bd6fb",
   "metadata": {
    "editable": false,
    "slideshow": {
     "slide_type": ""
    },
    "tags": []
   },
   "source": [
    "## An Overview of Today's Lab\n",
    "\n",
    "Today's lab will involve implementing four functions.\n",
    "* The first is a summation that will be calculated using a formula.\n",
    "* The second will perform the same summation using iteration (a loop).\n",
    "* The third will perform the same summation using recursion.\n",
    "* The fourth will be a recursive function to calculate the nth Fibonacci number. We will look at this function in detail in these notes, so the point is for you to understand the recursion rather than to reinvent how it works on your own."
   ]
  },
  {
   "cell_type": "markdown",
   "id": "fb24bc22",
   "metadata": {
    "editable": false,
    "slideshow": {
     "slide_type": ""
    },
    "tags": []
   },
   "source": [
    "## Summation\n",
    "\n",
    "Given a positive integer n, we want the sum of the first n natural numbers:\n",
    "$$S(n)=\\sum_{k=1}^{n} k$$\n",
    "\n",
    "### The formula for this summation is:\n",
    "$$S(n) = \\frac{n(n + 1)}{2}$$\n",
    "\n",
    "#### Examples\n",
    "$$S(5) = \\frac{5(5 + 1)}{2} = 15$$\n",
    "<br><br>\n",
    "$$S(4) = \\frac{4(4 + 1)}{2} = 10$$\n",
    "<br><br>\n",
    "$$S(1) = \\frac{1(1 + 1)}{2} = 1$$\n",
    "\n",
    "### Iterative approach\n",
    "- Accumulate the sum by looping from `1` to `n`.\n",
    "- Unlike the formula, which is a constant time operation `O(1)`, this approach takes linear time `O(n)`. Regardless of the number being calculated, the formula will take the same amount of time. The loop, however, will take longer as `n` increases.\n",
    "\n",
    "#### Examples\n",
    "$$S(5) = 1 + 2 + 3 + 4 + 5 = 15$$\n",
    "$$S(4) = 1 + 2 + 3 + 4 = 10$$\n",
    "$$S(1) = 1$$\n"
   ]
  },
  {
   "cell_type": "markdown",
   "id": "fc595779",
   "metadata": {
    "editable": false,
    "slideshow": {
     "slide_type": ""
    },
    "tags": []
   },
   "source": [
    "## Recursion\n",
    "\n",
    "A recursive function is a function that calls itself. Like iteration (using loops), recursion allows for repeating a set of instructions multiple times. And while recursion can be used for mere repetition, it is often better suited for problems that can be broken down into smaller instances of the same problem.\n",
    "\n",
    "Just as a loop can be infinite if the exit condition is never met, a recursive function can also be infinite if there is no `base case` to stop the recursion.\n",
    "\n",
    "```cpp\n",
    "int a = 0;\n",
    "while (a >= 0) {\n",
    "    std::cout << \"This loop will run forever!\" << std::endl;\n",
    "}\n",
    "```\n",
    "\n",
    "```cpp\n",
    "void infiniteRecursion() {\n",
    "    std::cout << \"This function will continuously call itself until it runs out of memory.\" << std::endl;\n",
    "    infiniteRecursion();\n",
    "}\n",
    "```\n",
    "\n",
    "While the loop will continue until the program is manually interrupted, the recursive function will eventually produce a stack overflow error when the program runs out of memory to store the function calls. Whenever a function is called, a new frame is added to the call `stack` to manage the function's parameters and local variables. Since there's no `base case` in which the function will end without again calling itself, the `stack` keeps growing until its memory capacity is reached.\n",
    "\n",
    "<div style=\"background-color: #f5f5f5; color: #222; padding: 10px; border-radius: 6px;\">\n",
    "A <b>stack</b> is a data structure that follows a <b>Last In, First Out (LIFO)</b> order. When an item is added to the <b>stack</b>, it is <em>pushed</em> onto the top. When an item is removed, it is <em>popped</em> from the top. This can be visualized as a stack of cafeteria trays. When a new tray is added to the stack of trays, it is set on top of the existing trays. When a tray is removed, it is removed from the top.\n",
    "</div>\n",
    "\n",
    "<br>\n",
    "\n",
    "A recursive function will therefore typically have two main components:\n",
    "1. A `recursive case` that breaks the problem down into smaller instances of itself.\n",
    "2. A `base case` that stops the recursion, allowing the call stack to unwind.\n",
    "\n",
    "Here is a recursive function that counts down from a given number to zero:"
   ]
  },
  {
   "cell_type": "code",
   "execution_count": 2,
   "id": "0037cc07",
   "metadata": {
    "editable": true,
    "slideshow": {
     "slide_type": ""
    },
    "tags": [],
    "vscode": {
     "languageId": "cpp"
    }
   },
   "outputs": [
    {
     "name": "stdout",
     "output_type": "stream",
     "text": [
      "10\n",
      "9\n",
      "8\n",
      "7\n",
      "6\n",
      "5\n",
      "4\n",
      "3\n",
      "2\n",
      "1\n"
     ]
    }
   ],
   "source": [
    "void countdown(int n) {\n",
    "    if (n == 0) // base case\n",
    "        return;\n",
    "    std::cout << n << std::endl;\n",
    "    countdown(n - 1); // recursive call\n",
    "}\n",
    "\n",
    "// start countdown from 10\n",
    "countdown(10);"
   ]
  },
  {
   "cell_type": "markdown",
   "id": "262afe32",
   "metadata": {
    "editable": false,
    "slideshow": {
     "slide_type": ""
    },
    "tags": []
   },
   "source": [
    "While using recursion for simple tasks like counting down from a given number is possible, it's not the most suitable approach. Here a loop would be simpler. But there are problems that are more inherently recursive, and for such problems, the recursive solution can be the simpler and more elegant one.\n",
    "\n",
    "Finding the nth Fibonacci number is a classic example of a problem that can be solved recursively, and in which the recursive solution is often more concise than the iterative one.\n",
    "\n",
    "## The Fibonacci Sequence\n",
    "\n",
    "The Fibonacci sequence is a series of numbers where each number is the sum of the two preceding ones, usually starting with 0 and 1. The sequence typically begins as follows:\n",
    "\n",
    "$$0, 1, 1, 2, 3, 5, 8, 13, 21, 34, 55, 89, 144, ...$$\n",
    "\n",
    "$f(0) = 0$ and $f(1) = 1$ are the defined base cases.\n",
    "\n",
    "We will now step through the recursive Fibonacci function as it calculates the 4th Fibonacci number. We will take note of each recursive call, as it is pushed onto and popped off the call stack."
   ]
  },
  {
   "cell_type": "markdown",
   "id": "80bec559",
   "metadata": {
    "editable": false,
    "slideshow": {
     "slide_type": ""
    },
    "tags": []
   },
   "source": [
    "## Recursive Fibonacci Function Call Stack Visualization\n",
    "\n",
    "[Recursive Fibonacci Function Call Stack Visualization (PDF)](https://latessa.github.io/cpp-labs/slides/Lab07/fib_slides.pdf)"
   ]
  },
  {
   "cell_type": "markdown",
   "id": "1c3a038e",
   "metadata": {
    "editable": false,
    "slideshow": {
     "slide_type": ""
    },
    "tags": []
   },
   "source": [
    "<img src=\"https://latessa.github.io/cpp-labs/images/Lab07/fib_slides_02.png\" alt=\"Fibonacci(n)\" style=\"border:1px solid #ccc;\" />\n",
    "\n",
    "<img src=\"https://latessa.github.io/cpp-labs/images/Lab07/fib_slides_03.png\" alt=\"Fibonacci(4)\" style=\"border:1px solid #ccc;\" />\n",
    "\n",
    "<img src=\"https://latessa.github.io/cpp-labs/images/Lab07/fib_slides_04.png\" alt=\"Fibonacci(3)\" style=\"border:1px solid #ccc;\" />\n",
    "\n",
    "<img src=\"https://latessa.github.io/cpp-labs/images/Lab07/fib_slides_05.png\" alt=\"Fibonacci(2)\" style=\"border:1px solid #ccc;\" />\n",
    "\n",
    "<img src=\"https://latessa.github.io/cpp-labs/images/Lab07/fib_slides_06.png\" alt=\"Fibonacci(1)\" style=\"border:1px solid #ccc;\" />\n",
    "\n",
    "<img src=\"https://latessa.github.io/cpp-labs/images/Lab07/fib_slides_07.png\" alt=\"Fibonacci(2)\" style=\"border:1px solid #ccc;\" />\n",
    "\n",
    "<img src=\"https://latessa.github.io/cpp-labs/images/Lab07/fib_slides_08.png\" alt=\"Fibonacci(0)\" style=\"border:1px solid #ccc;\" />\n",
    "\n",
    "<img src=\"https://latessa.github.io/cpp-labs/images/Lab07/fib_slides_09.png\" alt=\"Fibonacci(2)\" style=\"border:1px solid #ccc;\" />\n",
    "\n",
    "<img src=\"https://latessa.github.io/cpp-labs/images/Lab07/fib_slides_10.png\" alt=\"Fibonacci(3)\" style=\"border:1px solid #ccc;\" />\n",
    "\n",
    "<img src=\"https://latessa.github.io/cpp-labs/images/Lab07/fib_slides_11.png\" alt=\"Fibonacci(1)\" style=\"border:1px solid #ccc;\" />\n",
    "\n",
    "<img src=\"https://latessa.github.io/cpp-labs/images/Lab07/fib_slides_12.png\" alt=\"Fibonacci(3)\" style=\"border:1px solid #ccc;\" />\n",
    "\n",
    "<img src=\"https://latessa.github.io/cpp-labs/images/Lab07/fib_slides_13.png\" alt=\"Fibonacci(4)\" style=\"border:1px solid #ccc;\" />\n",
    "\n",
    "<img src=\"https://latessa.github.io/cpp-labs/images/Lab07/fib_slides_14.png\" alt=\"Fibonacci(2)\" style=\"border:1px solid #ccc;\" />\n",
    "\n",
    "<img src=\"https://latessa.github.io/cpp-labs/images/Lab07/fib_slides_15.png\" alt=\"Fibonacci(1)\" style=\"border:1px solid #ccc;\" />\n",
    "\n",
    "<img src=\"https://latessa.github.io/cpp-labs/images/Lab07/fib_slides_16.png\" alt=\"Fibonacci(2)\" style=\"border:1px solid #ccc;\" />\n",
    "\n",
    "<img src=\"https://latessa.github.io/cpp-labs/images/Lab07/fib_slides_17.png\" alt=\"Fibonacci(0)\" style=\"border:1px solid #ccc;\" />\n",
    "\n",
    "<img src=\"https://latessa.github.io/cpp-labs/images/Lab07/fib_slides_18.png\" alt=\"Fibonacci(2)\" style=\"border:1px solid #ccc;\" />\n",
    "\n",
    "<img src=\"https://latessa.github.io/cpp-labs/images/Lab07/fib_slides_19.png\" alt=\"Fibonacci(4)\" style=\"border:1px solid #ccc;\" />\n",
    "\n",
    "<img src=\"https://latessa.github.io/cpp-labs/images/Lab07/fib_slides_20.png\" alt=\"Fibonacci(n)\" style=\"border:1px solid #ccc;\" />"
   ]
  }
 ],
 "metadata": {
  "kernelspec": {
   "display_name": "C++17",
   "language": "C++17",
   "name": "xcpp17"
  },
  "language_info": {
   "codemirror_mode": "text/x-c++src",
   "file_extension": ".cpp",
   "mimetype": "text/x-c++src",
   "name": "c++",
   "version": "17"
  }
 },
 "nbformat": 4,
 "nbformat_minor": 5
}
