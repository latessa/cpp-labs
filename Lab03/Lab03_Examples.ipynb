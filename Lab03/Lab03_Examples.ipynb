{
 "cells": [
  {
   "cell_type": "markdown",
   "id": "b4f06fd6",
   "metadata": {
    "editable": false,
    "slideshow": {
     "slide_type": ""
    },
    "tags": []
   },
   "source": [
    "# Lab 03 Examples"
   ]
  },
  {
   "cell_type": "markdown",
   "id": "171b9768",
   "metadata": {
    "editable": false,
    "slideshow": {
     "slide_type": ""
    },
    "tags": []
   },
   "source": [
    "Click \\<shift> \\<enter> in each code cell to run the code. Be sure to start with the ```#include``` directives to load the required libraries."
   ]
  },
  {
   "cell_type": "code",
   "execution_count": 9,
   "id": "1f167288",
   "metadata": {
    "editable": true,
    "slideshow": {
     "slide_type": ""
    },
    "tags": [],
    "vscode": {
     "languageId": "cpp"
    }
   },
   "outputs": [],
   "source": [
    "// For Lab 03, we are limited to these includes.\n",
    "// Other libraries that can do the set or binary operations for us are not allowed.\n",
    "// For example, DO NOT include <bitset> or <set>.\n",
    "\n",
    "#include <iostream>\n",
    "#include <string>\n",
    "#include <vector>\n",
    "#include <cmath>"
   ]
  },
  {
   "cell_type": "markdown",
   "id": "ab9aeb14",
   "metadata": {
    "slideshow": {
     "slide_type": ""
    },
    "tags": []
   },
   "source": [
    "## The Left Shift and Right Shift Bitwise Operators\n",
    "\n",
    "In previous weeks, we have looked at AND ```&```, OR ```|```, XOR ```^```, and NOT ```!``` operators.\n",
    "\n",
    "We have also looked at the distinction between the logical operators ```&&``` and ```||``` versus the bitwise operators ```&``` and ```|```.\n",
    "\n",
    "Today we will look at the left shift ```<<``` and right shift ```>>``` bitwise operators."
   ]
  },
  {
   "cell_type": "markdown",
   "id": "47b15142",
   "metadata": {
    "editable": false,
    "slideshow": {
     "slide_type": ""
    },
    "tags": []
   },
   "source": [
    "* The left shift operator ```<<``` shifts all bits to the left by a specified number of positions.\n",
    "* Each left shift effectively multiplies the number by 2.\n",
    "* The right shift operator ```>>``` shifts all bits to the right by a specified number of positions.\n",
    "* Each right shift effectively divides the number by 2, truncating any remainder. This means that the least significant bit (rightmost bits) is discarded."
   ]
  },
  {
   "cell_type": "markdown",
   "id": "30347b89",
   "metadata": {
    "editable": false,
    "slideshow": {
     "slide_type": ""
    },
    "tags": []
   },
   "source": [
    "<table style=\"font-size: 1.3em; width: 60%;\">\n",
    "    <thead>\n",
    "        <tr>\n",
    "            <th style=\"padding: 10px; width: 30%;\">Original</th>\n",
    "            <th style=\"padding: 10px; width: 20%;\">Operation</th>\n",
    "            <th style=\"padding: 10px; width: 20%;\">Result</th>\n",
    "            <th style=\"padding: 10px; width: 30%;\">Decimal</th>\n",
    "        </tr>\n",
    "    </thead>\n",
    "    <tbody>\n",
    "        <tr>\n",
    "            <td style=\"padding: 10px;\">00001</td>\n",
    "            <td style=\"padding: 10px; text-align:center;\">1 << 1</td>\n",
    "            <td style=\"padding: 10px; text-align:center;\">00010</td>\n",
    "            <td style=\"padding: 10px; text-align:center;\">1 << 1 = 2</td>\n",
    "        </tr>\n",
    "        <tr>\n",
    "            <td style=\"padding: 10px;\">00001</td>\n",
    "            <td style=\"padding: 10px; text-align:center;\">1 << 2</td>\n",
    "            <td style=\"padding: 10px; text-align:center;\">00100</td>\n",
    "            <td style=\"padding: 10px; text-align:center;\">1 << 2 = 4</td>\n",
    "        </tr>\n",
    "        <tr>\n",
    "            <td style=\"padding: 10px;\">00001</td>\n",
    "            <td style=\"padding: 10px; text-align:center;\">1 << 3</td>\n",
    "            <td style=\"padding: 10px; text-align:center;\">01000</td>\n",
    "            <td style=\"padding: 10px; text-align:center;\">1 << 3 = 8</td>\n",
    "        </tr>\n",
    "        <tr>\n",
    "            <td style=\"padding: 10px;\">01000</td>\n",
    "            <td style=\"padding: 10px; text-align:center;\">8 >> 1</td>\n",
    "            <td style=\"padding: 10px; text-align:center;\">00100</td>\n",
    "            <td style=\"padding: 10px; text-align:center;\">8 >> 1 = 4</td>\n",
    "        </tr>\n",
    "        <tr>\n",
    "            <td style=\"padding: 10px;\">01000</td>\n",
    "            <td style=\"padding: 10px; text-align:center;\">8 >> 2</td>\n",
    "            <td style=\"padding: 10px; text-align:center;\">00010</td>\n",
    "            <td style=\"padding: 10px; text-align:center;\">8 >> 2 = 2</td>\n",
    "        </tr>\n",
    "        <tr>\n",
    "            <td style=\"padding: 10px;\">01000</td>\n",
    "            <td style=\"padding: 10px; text-align:center;\">8 >> 3</td>\n",
    "            <td style=\"padding: 10px; text-align:center;\">00001</td>\n",
    "            <td style=\"padding: 10px; text-align:center;\">8 >> 3 = 1</td>\n",
    "        </tr>\n",
    "    </tbody>\n",
    "</table>"
   ]
  },
  {
   "cell_type": "code",
   "execution_count": 2,
   "id": "df7eade5",
   "metadata": {
    "editable": true,
    "slideshow": {
     "slide_type": ""
    },
    "tags": [],
    "vscode": {
     "languageId": "cpp"
    }
   },
   "outputs": [
    {
     "name": "stdout",
     "output_type": "stream",
     "text": [
      "1 << 1 = 2\n",
      "1 << 2 = 4\n",
      "1 << 3 = 8\n",
      "8 >> 1 = 4\n",
      "8 >> 2 = 2\n",
      "8 >> 3 = 1\n"
     ]
    }
   ],
   "source": [
    "std::cout << \"1 << 1 = \" << (1 << 1) << std::endl;\n",
    "std::cout << \"1 << 2 = \" << (1 << 2) << std::endl;\n",
    "std::cout << \"1 << 3 = \" << (1 << 3) << std::endl;\n",
    "std::cout << \"8 >> 1 = \" << (8 >> 1) << std::endl;\n",
    "std::cout << \"8 >> 2 = \" << (8 >> 2) << std::endl;\n",
    "std::cout << \"8 >> 3 = \" << (8 >> 3) << std::endl;"
   ]
  },
  {
   "cell_type": "markdown",
   "id": "ae8ee47c",
   "metadata": {
    "editable": false,
    "slideshow": {
     "slide_type": ""
    },
    "tags": []
   },
   "source": [
    "<table style=\"font-size: 1.3em; width: 60%;\">\n",
    "    <thead>\n",
    "        <tr>\n",
    "            <th style=\"padding: 10px; width: 30%;\">Original</th>\n",
    "            <th style=\"padding: 10px; width: 20%;\">Operation</th>\n",
    "            <th style=\"padding: 10px; width: 20%;\">Result</th>\n",
    "            <th style=\"padding: 10px; width: 30%;\">Decimal</th>\n",
    "        </tr>\n",
    "    </thead>\n",
    "    <tbody>\n",
    "        <tr>\n",
    "            <td style=\"padding: 10px;\">00011</td>\n",
    "            <td style=\"padding: 10px; text-align:center;\">3 << 1</td>\n",
    "            <td style=\"padding: 10px; text-align:center;\">00110</td>\n",
    "            <td style=\"padding: 10px; text-align:center;\">3 << 1 = 6</td>\n",
    "        </tr>\n",
    "        <tr>\n",
    "            <td style=\"padding: 10px;\">00101</td>\n",
    "            <td style=\"padding: 10px; text-align:center;\">5 << 2</td>\n",
    "            <td style=\"padding: 10px; text-align:center;\">10100</td>\n",
    "            <td style=\"padding: 10px; text-align:center;\">5 << 2 = 20</td>\n",
    "        </tr>\n",
    "        <tr>\n",
    "            <td style=\"padding: 10px;\">01100</td>\n",
    "            <td style=\"padding: 10px; text-align:center;\">12 >> 1</td>\n",
    "            <td style=\"padding: 10px; text-align:center;\">00110</td>\n",
    "            <td style=\"padding: 10px; text-align:center;\">12 >> 1 = 6</td>\n",
    "        </tr>\n",
    "        <tr>\n",
    "            <td style=\"padding: 10px;\">01101</td>\n",
    "            <td style=\"padding: 10px; text-align:center;\">13 >> 2</td>\n",
    "            <td style=\"padding: 10px; text-align:center;\">00011</td>\n",
    "            <td style=\"padding: 10px; text-align:center;\">13 >> 2 = 3</td>\n",
    "        </tr>\n",
    "        <tr>\n",
    "            <td style=\"padding: 10px;\">10110</td>\n",
    "            <td style=\"padding: 10px; text-align:center;\">22 >> 3</td>\n",
    "            <td style=\"padding: 10px; text-align:center;\">00010</td>\n",
    "            <td style=\"padding: 10px; text-align:center;\">22 >> 3 = 2</td>\n",
    "        </tr>\n",
    "        <tr>\n",
    "            <td style=\"padding: 10px;\">11111</td>\n",
    "            <td style=\"padding: 10px; text-align:center;\">31 >> 4</td>\n",
    "            <td style=\"padding: 10px; text-align:center;\">00001</td>\n",
    "            <td style=\"padding: 10px; text-align:center;\">31 >> 4 = 1</td>\n",
    "        </tr>\n",
    "        <tr>\n",
    "            <td style=\"padding: 10px;\">10000</td>\n",
    "            <td style=\"padding: 10px; text-align:center;\">16 >> 2</td>\n",
    "            <td style=\"padding: 10px; text-align:center;\">00100</td>\n",
    "            <td style=\"padding: 10px; text-align:center;\">16 >> 2 = 4</td>\n",
    "        </tr>\n",
    "    </tbody>\n",
    "</table>"
   ]
  },
  {
   "cell_type": "code",
   "execution_count": 3,
   "id": "0b8ea72f",
   "metadata": {
    "vscode": {
     "languageId": "cpp"
    }
   },
   "outputs": [
    {
     "name": "stdout",
     "output_type": "stream",
     "text": [
      "3 << 1 = 6\n",
      "5 << 2 = 20\n",
      "12 >> 1 = 6\n",
      "13 >> 2 = 3\n",
      "22 >> 3 = 2\n",
      "31 >> 4 = 1\n",
      "16 >> 2 = 4\n"
     ]
    }
   ],
   "source": [
    "std::cout << \"3 << 1 = \" << (3 << 1) << std::endl;\n",
    "std::cout << \"5 << 2 = \" << (5 << 2) << std::endl;\n",
    "std::cout << \"12 >> 1 = \" << (12 >> 1) << std::endl;\n",
    "std::cout << \"13 >> 2 = \" << (13 >> 2) << std::endl;\n",
    "std::cout << \"22 >> 3 = \" << (22 >> 3) << std::endl;\n",
    "std::cout << \"31 >> 4 = \" << (31 >> 4) << std::endl;\n",
    "std::cout << \"16 >> 2 = \" << (16 >> 2) << std::endl;"
   ]
  },
  {
   "cell_type": "markdown",
   "id": "ea9452f5",
   "metadata": {
    "editable": false,
    "slideshow": {
     "slide_type": ""
    },
    "tags": []
   },
   "source": [
    "## Programmatically Converting a Bit String to a Base10 Number"
   ]
  },
  {
   "cell_type": "markdown",
   "id": "b53c99be",
   "metadata": {
    "editable": false,
    "slideshow": {
     "slide_type": ""
    },
    "tags": []
   },
   "source": [
    "### This first example uses powers and addition."
   ]
  },
  {
   "cell_type": "markdown",
   "id": "6b508e07",
   "metadata": {
    "editable": false,
    "slideshow": {
     "slide_type": ""
    },
    "tags": []
   },
   "source": [
    "Convert the binary array `{1, 1, 1, 0, 0, 1}` to decimal.\n",
    "\n",
    "#### Binary Digits and Their Corresponding Powers of 2:\n",
    "<table style=\"font-size: 1.3em; width: 60%;\">\n",
    "    <thead>\n",
    "        <tr>\n",
    "            <th style=\"padding: 10px; width: 10%;\">Index</th>\n",
    "            <th style=\"padding: 10px; width: 20%;\">Binary Digit</th>\n",
    "            <th style=\"padding: 10px; width: 20%;\">Power of 2</th>\n",
    "            <th style=\"padding: 10px; width: 30%;\">Value</th>\n",
    "        </tr>\n",
    "    </thead>\n",
    "    <tbody>\n",
    "        <tr>\n",
    "            <td style=\"padding: 10px; text-align:center;\">0</td>\n",
    "            <td style=\"padding: 10px; text-align:center;\">1</td>\n",
    "            <td style=\"padding: 10px; text-align:center;\">2⁵ = 32</td>\n",
    "            <td style=\"padding: 10px; text-align:center;\">1 × 32 = 32</td>\n",
    "        </tr>\n",
    "        <tr>\n",
    "            <td style=\"padding: 10px; text-align:center;\">1</td>\n",
    "            <td style=\"padding: 10px; text-align:center;\">1</td>\n",
    "            <td style=\"padding: 10px; text-align:center;\">2⁴ = 16</td>\n",
    "            <td style=\"padding: 10px; text-align:center;\">1 × 16 = 16</td>\n",
    "        </tr>\n",
    "        <tr>\n",
    "            <td style=\"padding: 10px; text-align:center;\">2</td>\n",
    "            <td style=\"padding: 10px; text-align:center;\">1</td>\n",
    "            <td style=\"padding: 10px; text-align:center;\">2³ = 8</td>\n",
    "            <td style=\"padding: 10px; text-align:center;\">1 × 8 = 8</td>\n",
    "        </tr>\n",
    "        <tr>\n",
    "            <td style=\"padding: 10px; text-align:center;\">3</td>\n",
    "            <td style=\"padding: 10px; text-align:center;\">0</td>\n",
    "            <td style=\"padding: 10px; text-align:center;\">2² = 4</td>\n",
    "            <td style=\"padding: 10px; text-align:center;\">0 × 4 = 0</td>\n",
    "        </tr>\n",
    "        <tr>\n",
    "            <td style=\"padding: 10px; text-align:center;\">4</td>\n",
    "            <td style=\"padding: 10px; text-align:center;\">0</td>\n",
    "            <td style=\"padding: 10px; text-align:center;\">2¹ = 2</td>\n",
    "            <td style=\"padding: 10px; text-align:center;\">0 × 2 = 0</td>\n",
    "        </tr>\n",
    "        <tr>\n",
    "            <td style=\"padding: 10px; text-align:center;\">5</td>\n",
    "            <td style=\"padding: 10px; text-align:center;\">1</td>\n",
    "            <td style=\"padding: 10px; text-align:center;\">2⁰ = 1</td>\n",
    "            <td style=\"padding: 10px; text-align:center;\">1 × 1 = 1</td>\n",
    "        </tr>\n",
    "    </tbody>\n",
    "</table>\n",
    "\n",
    "### Now, add the values:\n",
    "\n",
    "32 + 16 + 8 + 0 + 0 + 1 = **57**\n",
    "\n",
    "**Final Answer:**  \n",
    "The binary number `111001` is equal to **57** in decimal."
   ]
  },
  {
   "cell_type": "code",
   "execution_count": 4,
   "id": "62c2811f",
   "metadata": {
    "vscode": {
     "languageId": "cpp"
    }
   },
   "outputs": [
    {
     "name": "stdout",
     "output_type": "stream",
     "text": [
      "Decimal value: 57\n"
     ]
    }
   ],
   "source": [
    "const int SIZE = 6;\n",
    "int arr[] = {1, 1, 1, 0, 0, 1};\n",
    "int decimal = 0;\n",
    "\n",
    "/*\n",
    "    1 * 2^(6-1-0) = 32, at i = 0, decimal goes from  0 to 32\n",
    "    1 * 2^(6-1-1) = 16, at i = 1, decimal goes from 32 to 48\n",
    "    1 * 2^(6-1-2) =  8, at i = 2, decimal goes from 48 to 56\n",
    "    0 * 2^(6-1-3) =  0, at i = 3, decimal goes from 56 to 56\n",
    "    0 * 2^(6-1-4) =  0, at i = 4, decimal goes from 56 to 56\n",
    "    1 * 2^(6-1-5) =  1, at i = 5, decimal goes from 56 to 57\n",
    "*/\n",
    "\n",
    "for (int i = 0; i < SIZE; i++) {\n",
    "    if (arr[i]) {\n",
    "        decimal += std::pow(2, SIZE - 1 - i);\n",
    "    }\n",
    "}\n",
    "std::cout << \"Decimal value: \" << decimal << std::endl;"
   ]
  },
  {
   "cell_type": "markdown",
   "id": "c341a9b9",
   "metadata": {
    "editable": false,
    "slideshow": {
     "slide_type": ""
    },
    "tags": []
   },
   "source": [
    "### This second example uses a left shift and the bitwise OR (```|```)."
   ]
  },
  {
   "cell_type": "markdown",
   "id": "3aa2cf9a",
   "metadata": {
    "editable": false,
    "slideshow": {
     "slide_type": ""
    },
    "tags": []
   },
   "source": [
    "### Convert the binary array `{1, 1, 1, 0, 0, 1}` to decimal using left shift and bitwise OR (`|`)\n",
    "\n",
    "Step-by-step Table:\n",
    "\n",
    "<table style=\"font-size: 1.3em; width: 95%;\">\n",
    "    <thead>\n",
    "        <tr>\n",
    "            <th style=\"padding: 10px;\">Step</th>\n",
    "            <th style=\"padding: 10px;\">Current Decimal<br>(Binary)</th>\n",
    "            <th style=\"padding: 10px;\">Shifted Left<br>(decimal << 1)<br>Decimal (Binary)</th>\n",
    "            <th style=\"padding: 10px;\">Bit to OR</th>\n",
    "            <th style=\"padding: 10px;\">OR Operation<br>(shifted | bit)<br>Binary</th>\n",
    "            <th style=\"padding: 10px;\">Result<br>Decimal (Binary)</th>\n",
    "        </tr>\n",
    "    </thead>\n",
    "    <tbody>\n",
    "        <tr>\n",
    "            <td style=\"padding: 10px;\">i = 0</td>\n",
    "            <td style=\"padding: 10px;\">0<br>(000000)</td>\n",
    "            <td style=\"padding: 10px;\">0<br>(000000)</td>\n",
    "            <td style=\"padding: 10px;\">1</td>\n",
    "            <td style=\"padding: 10px;\">000000 | 000001 = 000001</td>\n",
    "            <td style=\"padding: 10px;\">1<br>(000001)</td>\n",
    "        </tr>\n",
    "        <tr>\n",
    "            <td style=\"padding: 10px;\">i = 1</td>\n",
    "            <td style=\"padding: 10px;\">1<br>(000001)</td>\n",
    "            <td style=\"padding: 10px;\">2<br>(000010)</td>\n",
    "            <td style=\"padding: 10px;\">1</td>\n",
    "            <td style=\"padding: 10px;\">000010 | 000001 = 000011</td>\n",
    "            <td style=\"padding: 10px;\">3<br>(000011)</td>\n",
    "        </tr>\n",
    "        <tr>\n",
    "            <td style=\"padding: 10px;\">i = 2</td>\n",
    "            <td style=\"padding: 10px;\">3<br>(000011)</td>\n",
    "            <td style=\"padding: 10px;\">6<br>(000110)</td>\n",
    "            <td style=\"padding: 10px;\">1</td>\n",
    "            <td style=\"padding: 10px;\">000110 | 000001 = 000111</td>\n",
    "            <td style=\"padding: 10px;\">7<br>(000111)</td>\n",
    "        </tr>\n",
    "        <tr>\n",
    "            <td style=\"padding: 10px;\">i = 3</td>\n",
    "            <td style=\"padding: 10px;\">7<br>(000111)</td>\n",
    "            <td style=\"padding: 10px;\">14<br>(001110)</td>\n",
    "            <td style=\"padding: 10px;\">0</td>\n",
    "            <td style=\"padding: 10px;\">001110 | 000000 = 001110</td>\n",
    "            <td style=\"padding: 10px;\">14<br>(001110)</td>\n",
    "        </tr>\n",
    "        <tr>\n",
    "            <td style=\"padding: 10px;\">i = 4</td>\n",
    "            <td style=\"padding: 10px;\">14<br>(001110)</td>\n",
    "            <td style=\"padding: 10px;\">28<br>(011100)</td>\n",
    "            <td style=\"padding: 10px;\">0</td>\n",
    "            <td style=\"padding: 10px;\">011100 | 000000 = 011100</td>\n",
    "            <td style=\"padding: 10px;\">28<br>(011100)</td>\n",
    "        </tr>\n",
    "        <tr>\n",
    "            <td style=\"padding: 10px;\">i = 5</td>\n",
    "            <td style=\"padding: 10px;\">28<br>(011100)</td>\n",
    "            <td style=\"padding: 10px;\">56<br>(111000)</td>\n",
    "            <td style=\"padding: 10px;\">1</td>\n",
    "            <td style=\"padding: 10px;\">111000 | 000001 = 111001</td>\n",
    "            <td style=\"padding: 10px;\">57<br>(111001)</td>\n",
    "        </tr>\n",
    "    </tbody>\n",
    "</table>\n",
    "\n",
    "* Start with `decimal = 0`.\n",
    "* For each bit in the array, shift the current decimal value left by 1 (multiply by 2), then use bitwise OR (`|`) to add the next bit.\n",
    "* This builds the decimal value from left to right, just like reading the binary number.\n",
    "* After processing all bits, the final decimal value is **57**.\n",
    "\n",
    "**Final Answer:**  \n",
    "The binary number `111001` is equal to **57** in decimal using the left shift and bitwise OR method."
   ]
  },
  {
   "cell_type": "code",
   "execution_count": 5,
   "id": "542186af",
   "metadata": {
    "editable": true,
    "slideshow": {
     "slide_type": ""
    },
    "tags": [],
    "vscode": {
     "languageId": "cpp"
    }
   },
   "outputs": [
    {
     "name": "stdout",
     "output_type": "stream",
     "text": [
      "Decimal value: 57\n"
     ]
    }
   ],
   "source": [
    "const int SIZE = 6;\n",
    "int arr[] = {1, 1, 1, 0, 0, 1};\n",
    "int decimal = 0;\n",
    "\n",
    "/*\n",
    "     0 << 1 | 1 =  1, at i = 0      00000 << 1 = 000000, then 000000 | 0000001 =      1, decimal goes from  0 to  1\n",
    "     1 << 1 | 1 =  3, at i = 1      00001 << 1 = 000010, then 000010 | 0000001 =     11, decimal goes from  1 to  3\n",
    "     3 << 1 | 1 =  7, at i = 2      00011 << 1 = 000110, then 000110 | 0000001 =    111, decimal goes from  3 to  7\n",
    "     7 << 1 | 0 = 14, at i = 3      00111 << 1 = 001110, then 001110 | 0000000 =   1110, decimal goes from  7 to 14\n",
    "    14 << 1 | 0 = 28, at i = 4      01110 << 1 = 011100, then 011100 | 0000000 =  11100, decimal goes from 14 to 28\n",
    "    28 << 1 | 1 = 57, at i = 5      11100 << 1 = 111000, then 111000 | 0000001 = 111001, decimal goes from 28 to 57\n",
    "*/\n",
    "\n",
    "for (int i = 0; i < SIZE; i++) {\n",
    "    decimal = (decimal << 1) | arr[i];\n",
    "}\n",
    "std::cout << \"Decimal value: \" << decimal << std::endl;"
   ]
  },
  {
   "cell_type": "markdown",
   "id": "283eba08",
   "metadata": {
    "editable": false,
    "slideshow": {
     "slide_type": ""
    },
    "tags": []
   },
   "source": [
    "## Determining Parity Group Membership using Bitwise AND (```&```) and Comparing Received Parity Bits with Recalculated Parity Bits Using XOR (```^```)"
   ]
  },
  {
   "cell_type": "code",
   "execution_count": 6,
   "id": "974b25e0",
   "metadata": {
    "vscode": {
     "languageId": "cpp"
    }
   },
   "outputs": [
    {
     "name": "stdout",
     "output_type": "stream",
     "text": [
      "Recalculated Parity Bits: 1 1 1 1 1 1 1 \n"
     ]
    }
   ],
   "source": [
    "const int BLOCK_SIZE = 8;\n",
    "int codeword_recalculated[] = {0, 1, 0, 1, 0, 1, 1, 1}; // received with error at index 6\n",
    "\n",
    "for (int i = 1; i < BLOCK_SIZE; i <<= 1) {\n",
    "    codeword_recalculated[i] = 0;\n",
    "    for (int j = 1; j < BLOCK_SIZE; j++) {\n",
    "        if (j & i) { \n",
    "            codeword_recalculated[i] ^= codeword_recalculated[j];\n",
    "        }\n",
    "    }\n",
    "}\n",
    "\n",
    "std::cout << \"Recalculated Parity Bits: \";\n",
    "for (int i = 1; i < BLOCK_SIZE; i++) {\n",
    "    std::cout << codeword_recalculated[i] << \" \";\n",
    "}\n",
    "std::cout << std::endl;"
   ]
  },
  {
   "cell_type": "markdown",
   "id": "db55daa6",
   "metadata": {
    "editable": false,
    "slideshow": {
     "slide_type": ""
    },
    "tags": []
   },
   "source": [
    "## Isolating the Hamming Code Error Index\n",
    "\n",
    "Last week we looked at the following lines of pseudocode.\n",
    "\n",
    "```\n",
    "  x = 0\n",
    "  x = x | ( (codeword[power(2, i)] ^ codeword_recalculated[power(2, i)]) * power(2, i) )\n",
    "```\n",
    "\n"
   ]
  },
  {
   "cell_type": "markdown",
   "id": "7dff70d5",
   "metadata": {
    "editable": false,
    "slideshow": {
     "slide_type": ""
    },
    "tags": []
   },
   "source": [
    "* Here we initialize the error index to 0, which assumes there is no error until we find one.\n",
    "* We then loop through the parity bits. In Hamming Code (7,4), there are 3 parity bits (at indexes ```1```, ```2```, and ```4```).\n",
    "  * At each parity bit, we use ```^``` to compare the parity bits from the received message with the corresponding recalculated parity bit. A ```true``` means the group is    suspicious.\n",
    "  * The powers give us the index of the current parity bit.\n",
    "  * Multiplying (```*```) the truth value with ```pow(2, i)``` effectively shifts the truth value (which is 1 or 0), ```i``` positions to the left. If the group is suspicious, the binary index of the error will have a ```1``` in the ```i```-th bit column.  If the group is not suspicious, the binary index of the error (if there is one) will have a ```0``` in the ```i```-th bit column.\n",
    "  * The bitwise (```|```) allows us to build the error index parity bit by parity bit.\n"
   ]
  },
  {
   "cell_type": "markdown",
   "id": "01befba1",
   "metadata": {
    "editable": false,
    "slideshow": {
     "slide_type": ""
    },
    "tags": []
   },
   "source": [
    "### This table demonstrates how the bitwise OR (```|```) and XOR (```^```) operators work together to isolate the error index.\n",
    "\n",
    "<Table style=\"font-size: 1.2em; width: 95%;\">\n",
    "    <thead>\n",
    "        <tr>\n",
    "            <th style=\"padding: 10px; width: 10%; text-align:center;\">i</th>\n",
    "            <th style=\"padding: 10px; width: 15%; text-align:center;\">pow(2, i)</th>\n",
    "            <th style=\"padding: 10px; width: 15%; text-align:center;\">codeword[ pow(2, i) ]</th>\n",
    "            <th style=\"padding: 10px; width: 15%; text-align:center;\">codeword_recalculated[ pow(2, i) ]</th>\n",
    "            <th style=\"padding: 10px; width: 15%; text-align:center;\">XOR ( ^ )</th>\n",
    "            <th style=\"padding: 10px; width: 15%; text-align:center;\">* pow(2, i)</th>\n",
    "            <th style=\"padding: 10px; width: 15%; text-align:center;\">Error Index ( | )</th>       </tr>\n",
    "    </thead>\n",
    "    <tbody>\n",
    "        <tr>\n",
    "            <td style=\"padding: 10px; text-align:center;\">0</td>\n",
    "            <td style=\"padding: 10px; text-align:center;\">1</td>\n",
    "            <td style=\"padding: 10px; text-align:center;\">1</td>\n",
    "            <td style=\"padding: 10px; text-align:center;\">1</td>\n",
    "            <td style=\"padding: 10px; text-align:center;\">1 ^ 1 = 0</td>\n",
    "            <td style=\"padding: 10px; text-align:center;\">0 * 1 = 0</td>\n",
    "            <td style=\"padding: 10px; text-align:center;\">000 | 000 = 000</td>\n",
    "        </tr>\n",
    "        <tr>\n",
    "            <td style=\"padding: 10px; text-align:center;\">1</td>\n",
    "            <td style=\"padding: 10px; text-align:center;\">2</td>\n",
    "            <td style=\"padding: 10px; text-align:center;\">0</td>\n",
    "            <td style=\"padding: 10px; text-align:center;\">1</td>\n",
    "            <td style=\"padding: 10px; text-align:center;\">0 ^ 1 = 1</td>\n",
    "            <td style=\"padding: 10px; text-align:center;\">1 * 2 = 010<sub>2</sub></td>\n",
    "            <td style=\"padding: 10px; text-align:center;\">010<sub>2</sub> | 000 = 010<sub>2</sub></td>\n",
    "        </tr>\n",
    "        <tr>\n",
    "            <td style=\"padding: 10px; text-align:center;\">2</td>\n",
    "            <td style=\"padding: 10px; text-align:center;\">4</td>\n",
    "            <td style=\"padding: 10px; text-align:center;\">0</td>\n",
    "            <td style=\"padding: 10px; text-align:center;\">1</td>\n",
    "            <td style=\"padding: 10px; text-align:center;\">0 ^ 1 = 1</td>\n",
    "            <td style=\"padding: 10px; text-align:center;\">1 * 4 = 100<sub>2</sub></td>\n",
    "            <td style=\"padding: 10px; text-align:center;\">100<sub>2</sub> | 010<sub>2</sub> = 110<sub>2</sub></td>\n",
    "        </tr>\n",
    "    </tbody>\n",
    "</Table>"
   ]
  },
  {
   "cell_type": "code",
   "execution_count": 7,
   "id": "4d3f4316",
   "metadata": {
    "editable": true,
    "slideshow": {
     "slide_type": ""
    },
    "tags": [],
    "vscode": {
     "languageId": "cpp"
    }
   },
   "outputs": [
    {
     "name": "stdout",
     "output_type": "stream",
     "text": [
      "Error index: 6\n"
     ]
    }
   ],
   "source": [
    "int codeword[]              = {0, 1, 0, 1, 0, 1, 1, 1}; // received codeword with error at index 6\n",
    "int codeword_recalculated[] = {0, 1, 1, 1, 1, 1, 1, 1}; // parity bits recalculated\n",
    "\n",
    "const int NUM_PARITY_BITS = 3;\n",
    "int error_index = 0;\n",
    "\n",
    "// Why is the power function's return value cast to an int?  static_cast<int>(pow(2, i))\n",
    "for (int i = 0; i < NUM_PARITY_BITS; i++) {\n",
    "    error_index = error_index | ((codeword[static_cast<int>(pow(2, i))] ^ codeword_recalculated[static_cast<int>(pow(2, i))]) * static_cast<int>(pow(2, i)));\n",
    "}\n",
    "\n",
    "std::cout << \"Error index: \" << error_index << std::endl;"
   ]
  },
  {
   "cell_type": "markdown",
   "id": "43642d54",
   "metadata": {
    "editable": false,
    "slideshow": {
     "slide_type": ""
    },
    "tags": []
   },
   "source": [
    "<Table style=\"font-size: 1.2em; width: 95%;\">\n",
    "    <thead>\n",
    "        <tr>\n",
    "            <th style=\"padding: 10px; width: 10%; text-align:center;\">i</th>\n",
    "            <th style=\"padding: 10px; width: 15%; text-align:center;\">pow(2, i)</th>\n",
    "            <th style=\"padding: 10px; width: 15%; text-align:center;\">codeword[ pow(2, i) ]</th>\n",
    "            <th style=\"padding: 10px; width: 15%; text-align:center;\">codeword_recalculated[ pow(2, i) ]</th>\n",
    "            <th style=\"padding: 10px; width: 15%; text-align:center;\">XOR ( ^ )</th>\n",
    "            <th style=\"padding: 10px; width: 15%; text-align:center;\"><< i</th>\n",
    "            <th style=\"padding: 10px; width: 15%; text-align:center;\">Error Index ( | )</th>       </tr>\n",
    "    </thead>\n",
    "    <tbody>\n",
    "        <tr>\n",
    "            <td style=\"padding: 10px; text-align:center;\">0</td>\n",
    "            <td style=\"padding: 10px; text-align:center;\">1</td>\n",
    "            <td style=\"padding: 10px; text-align:center;\">1</td>\n",
    "            <td style=\"padding: 10px; text-align:center;\">1</td>\n",
    "            <td style=\"padding: 10px; text-align:center;\">1 ^ 1 = 0</td>\n",
    "            <td style=\"padding: 10px; text-align:center;\">0 << 0 = 0</td>\n",
    "            <td style=\"padding: 10px; text-align:center;\">000 | 000 = 000</td>\n",
    "        </tr>\n",
    "        <tr>\n",
    "            <td style=\"padding: 10px; text-align:center;\">1</td>\n",
    "            <td style=\"padding: 10px; text-align:center;\">2</td>\n",
    "            <td style=\"padding: 10px; text-align:center;\">0</td>\n",
    "            <td style=\"padding: 10px; text-align:center;\">1</td>\n",
    "            <td style=\"padding: 10px; text-align:center;\">0 ^ 1 = 1</td>\n",
    "            <td style=\"padding: 10px; text-align:center;\">001 << 1 = 010<sub>2</sub></td>\n",
    "            <td style=\"padding: 10px; text-align:center;\">010<sub>2</sub> | 000 = 010<sub>2</sub></td>\n",
    "        </tr>\n",
    "        <tr>\n",
    "            <td style=\"padding: 10px; text-align:center;\">2</td>\n",
    "            <td style=\"padding: 10px; text-align:center;\">4</td>\n",
    "            <td style=\"padding: 10px; text-align:center;\">0</td>\n",
    "            <td style=\"padding: 10px; text-align:center;\">1</td>\n",
    "            <td style=\"padding: 10px; text-align:center;\">0 ^ 1 = 1</td>\n",
    "            <td style=\"padding: 10px; text-align:center;\">1 << 2 = 100<sub>2</sub></td>\n",
    "            <td style=\"padding: 10px; text-align:center;\">100<sub>2</sub> | 010<sub>2</sub> = 110<sub>2</sub></td>\n",
    "        </tr>\n",
    "    </tbody>\n",
    "</Table>"
   ]
  },
  {
   "cell_type": "code",
   "execution_count": 8,
   "id": "90923112",
   "metadata": {
    "editable": true,
    "slideshow": {
     "slide_type": ""
    },
    "tags": [],
    "vscode": {
     "languageId": "cpp"
    }
   },
   "outputs": [
    {
     "name": "stdout",
     "output_type": "stream",
     "text": [
      "Error index: 6\n"
     ]
    }
   ],
   "source": [
    "int codeword[]              = {0, 1, 0, 1, 0, 1, 1, 1}; // received codeword with error at index 6\n",
    "int codeword_recalculated[] = {0, 1, 1, 1, 1, 1, 1, 1}; // parity bits recalculated\n",
    "\n",
    "const int NUM_PARITY_BITS = 3;\n",
    "int error_index = 0;\n",
    "\n",
    "for (int i = 0; i < NUM_PARITY_BITS; i++) {\n",
    "    error_index = error_index | ((codeword[1 << i] ^ codeword_recalculated[1 << i]) << i);\n",
    "}\n",
    "\n",
    "std::cout << \"Error index: \" << error_index << std::endl;"
   ]
  }
 ],
 "metadata": {
  "kernelspec": {
   "display_name": "C++17",
   "language": "C++17",
   "name": "xcpp17"
  },
  "language_info": {
   "codemirror_mode": "text/x-c++src",
   "file_extension": ".cpp",
   "mimetype": "text/x-c++src",
   "name": "c++",
   "version": "17"
  }
 },
 "nbformat": 4,
 "nbformat_minor": 5
}
