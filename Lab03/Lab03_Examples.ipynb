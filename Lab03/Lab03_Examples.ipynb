{
 "cells": [
  {
   "cell_type": "markdown",
   "id": "b4f06fd6",
   "metadata": {},
   "source": [
    "# Lab 03 Examples"
   ]
  },
  {
   "cell_type": "markdown",
   "id": "171b9768",
   "metadata": {},
   "source": [
    "Click \\<shift> \\<enter> in each code cell to run the code. Be sure to start with the ```#include``` directives to load the required libraries."
   ]
  },
  {
   "cell_type": "code",
   "execution_count": 65,
   "id": "1f167288",
   "metadata": {
    "vscode": {
     "languageId": "cpp"
    }
   },
   "outputs": [],
   "source": [
    "// For Lab 03, we are limited to these includes.\n",
    "// Other libraries that can do the set or binary operations for us are not allowed.\n",
    "// For example, DO NOT include <bitset> or <set>.\n",
    "\n",
    "#include <iostream>\n",
    "#include <string>\n",
    "#include <vector>\n",
    "#include <cmath>"
   ]
  },
  {
   "cell_type": "markdown",
   "id": "ab9aeb14",
   "metadata": {},
   "source": [
    "## The Left Shift and Right Shift Bitwise Operators\n",
    "\n",
    "In previous weeks, we have looked at AND ```&```, OR ```|```, XOR ```^```, and NOT ```!``` operators.\n",
    "\n",
    "We have also looked at the distinction between the logical operators ```&&``` and ```||``` versus the bitwise operators ```&``` and ```|```.\n",
    "\n",
    "Today we will look at the left shift ```<<``` and right shift ```>>``` bitwise operators."
   ]
  },
  {
   "cell_type": "markdown",
   "id": "30347b89",
   "metadata": {},
   "source": [
    "<table style=\"font-size: 1.3em; width: 60%;\">\n",
    "    <thead>\n",
    "        <tr>\n",
    "            <th style=\"padding: 10px; width: 30%;\">Original</th>\n",
    "            <th style=\"padding: 10px; width: 20%;\">Operation</th>\n",
    "            <th style=\"padding: 10px; width: 20%;\">Result</th>\n",
    "            <th style=\"padding: 10px; width: 30%;\">Decimal</th>\n",
    "        </tr>\n",
    "    </thead>\n",
    "    <tbody>\n",
    "        <tr>\n",
    "            <td style=\"padding: 10px;\">00001</td>\n",
    "            <td style=\"padding: 10px; text-align:center;\">1 << 1</td>\n",
    "            <td style=\"padding: 10px; text-align:center;\">00010</td>\n",
    "            <td style=\"padding: 10px; text-align:center;\">1 << 1 = 2</td>>\n",
    "        </tr>\n",
    "        <tr>\n",
    "            <td style=\"padding: 10px;\">00001</td>\n",
    "            <td style=\"padding: 10px; text-align:center;\">1 << 2</td>\n",
    "            <td style=\"padding: 10px; text-align:center;\">00100</td>\n",
    "            <td style=\"padding: 10px; text-align:center;\">1 << 2 = 4</td>\n",
    "        </tr>\n",
    "        <tr>\n",
    "            <td style=\"padding: 10px;\">00001</td>\n",
    "            <td style=\"padding: 10px; text-align:center;\">1 << 3</td>\n",
    "            <td style=\"padding: 10px; text-align:center;\">01000</td>\n",
    "            <td style=\"padding: 10px; text-align:center;\">1 << 3 = 8</td>\n",
    "        </tr>\n",
    "        <tr>\n",
    "            <td style=\"padding: 10px;\">01000</td>\n",
    "            <td style=\"padding: 10px; text-align:center;\">8 >> 1</td>\n",
    "            <td style=\"padding: 10px; text-align:center;\">00100</td>\n",
    "            <td style=\"padding: 10px; text-align:center;\">8 >> 1 = 4</td>\n",
    "        </tr>\n",
    "        <tr>\n",
    "            <td style=\"padding: 10px;\">01000</td>\n",
    "            <td style=\"padding: 10px; text-align:center;\">8 >> 2</td>\n",
    "            <td style=\"padding: 10px; text-align:center;\">00010</td>\n",
    "            <td style=\"padding: 10px; text-align:center;\">8 >> 2 = 2</td>\n",
    "        </tr>\n",
    "        <tr>\n",
    "            <td style=\"padding: 10px;\">01000</td>\n",
    "            <td style=\"padding: 10px; text-align:center;\">8 >> 3</td>\n",
    "            <td style=\"padding: 10px; text-align:center;\">00001</td>\n",
    "            <td style=\"padding: 10px; text-align:center;\">8 >> 3 = 1</td>\n",
    "        </tr>\n",
    "    </tbody>\n",
    "</table>"
   ]
  },
  {
   "cell_type": "markdown",
   "id": "47b15142",
   "metadata": {},
   "source": [
    "* The left shift operator ```<<``` shifts all bits to the left by a specified number of positions.\n",
    "* Each left shift effectively multiplies the number by 2.\n",
    "* The right shift operator ```>>``` shifts all bits to the right by a specified number of positions.\n",
    "* Each right shift effectively divides the number by 2, truncating any remainder. This means that the least significant bit (rightmost bits) is discarded."
   ]
  },
  {
   "cell_type": "markdown",
   "id": "ae8ee47c",
   "metadata": {},
   "source": [
    "<table style=\"font-size: 1.3em; width: 60%;\">\n",
    "    <thead>\n",
    "        <tr>\n",
    "            <th style=\"padding: 10px; width: 30%;\">Original</th>\n",
    "            <th style=\"padding: 10px; width: 20%;\">Operation</th>\n",
    "            <th style=\"padding: 10px; width: 20%;\">Result</th>\n",
    "            <th style=\"padding: 10px; width: 30%;\">Decimal</th>\n",
    "        </tr>\n",
    "    </thead>\n",
    "    <tbody>\n",
    "        <tr>\n",
    "            <td style=\"padding: 10px;\">00011</td>\n",
    "            <td style=\"padding: 10px; text-align:center;\">3 << 1</td>\n",
    "            <td style=\"padding: 10px; text-align:center;\">00110</td>\n",
    "            <td style=\"padding: 10px; text-align:center;\">3 << 1 = 6</td>\n",
    "        </tr>\n",
    "        <tr>\n",
    "            <td style=\"padding: 10px;\">00101</td>\n",
    "            <td style=\"padding: 10px; text-align:center;\">5 << 2</td>\n",
    "            <td style=\"padding: 10px; text-align:center;\">10100</td>\n",
    "            <td style=\"padding: 10px; text-align:center;\">5 << 2 = 20</td>\n",
    "        </tr>\n",
    "        <tr>\n",
    "            <td style=\"padding: 10px;\">01100</td>\n",
    "            <td style=\"padding: 10px; text-align:center;\">12 >> 1</td>\n",
    "            <td style=\"padding: 10px; text-align:center;\">00110</td>\n",
    "            <td style=\"padding: 10px; text-align:center;\">12 >> 1 = 6</td>\n",
    "        </tr>\n",
    "        <tr>\n",
    "            <td style=\"padding: 10px;\">01101</td>\n",
    "            <td style=\"padding: 10px; text-align:center;\">13 >> 2</td>\n",
    "            <td style=\"padding: 10px; text-align:center;\">00011</td>\n",
    "            <td style=\"padding: 10px; text-align:center;\">13 >> 2 = 3</td>\n",
    "        </tr>\n",
    "        <tr>\n",
    "            <td style=\"padding: 10px;\">10110</td>\n",
    "            <td style=\"padding: 10px; text-align:center;\">22 >> 3</td>\n",
    "            <td style=\"padding: 10px; text-align:center;\">00010</td>\n",
    "            <td style=\"padding: 10px; text-align:center;\">22 >> 3 = 2</td>\n",
    "        </tr>\n",
    "        <tr>\n",
    "            <td style=\"padding: 10px;\">11111</td>\n",
    "            <td style=\"padding: 10px; text-align:center;\">31 >> 4</td>\n",
    "            <td style=\"padding: 10px; text-align:center;\">00001</td>\n",
    "            <td style=\"padding: 10px; text-align:center;\">31 >> 4 = 1</td>\n",
    "        </tr>\n",
    "        <tr>\n",
    "            <td style=\"padding: 10px;\">10000</td>\n",
    "            <td style=\"padding: 10px; text-align:center;\">16 >> 2</td>\n",
    "            <td style=\"padding: 10px; text-align:center;\">00100</td>\n",
    "            <td style=\"padding: 10px; text-align:center;\">16 >> 2 = 4</td>\n",
    "        </tr>\n",
    "    </tbody>\n",
    "</table>"
   ]
  },
  {
   "cell_type": "code",
   "execution_count": 3,
   "id": "df7eade5",
   "metadata": {
    "vscode": {
     "languageId": "cpp"
    }
   },
   "outputs": [
    {
     "name": "stdout",
     "output_type": "stream",
     "text": [
      "1 << 1 = 2\n",
      "1 << 2 = 4\n",
      "1 << 3 = 8\n",
      "8 >> 1 = 4\n",
      "8 >> 2 = 2\n",
      "8 >> 3 = 1\n"
     ]
    }
   ],
   "source": [
    "std::cout << \"1 << 1 = \" << (1 << 1) << std::endl;\n",
    "std::cout << \"1 << 2 = \" << (1 << 2) << std::endl;\n",
    "std::cout << \"1 << 3 = \" << (1 << 3) << std::endl;\n",
    "std::cout << \"8 >> 1 = \" << (8 >> 1) << std::endl;\n",
    "std::cout << \"8 >> 2 = \" << (8 >> 2) << std::endl;\n",
    "std::cout << \"8 >> 3 = \" << (8 >> 3) << std::endl;"
   ]
  },
  {
   "cell_type": "code",
   "execution_count": 4,
   "id": "0b8ea72f",
   "metadata": {
    "vscode": {
     "languageId": "cpp"
    }
   },
   "outputs": [
    {
     "name": "stdout",
     "output_type": "stream",
     "text": [
      "3 << 1 = 6\n",
      "5 << 2 = 20\n",
      "12 >> 1 = 6\n",
      "13 >> 2 = 3\n",
      "22 >> 3 = 2\n",
      "31 >> 4 = 1\n",
      "16 >> 2 = 4\n"
     ]
    }
   ],
   "source": [
    "std::cout << \"3 << 1 = \" << (3 << 1) << std::endl;\n",
    "std::cout << \"5 << 2 = \" << (5 << 2) << std::endl;\n",
    "std::cout << \"12 >> 1 = \" << (12 >> 1) << std::endl;\n",
    "std::cout << \"13 >> 2 = \" << (13 >> 2) << std::endl;\n",
    "std::cout << \"22 >> 3 = \" << (22 >> 3) << std::endl;\n",
    "std::cout << \"31 >> 4 = \" << (31 >> 4) << std::endl;\n",
    "std::cout << \"16 >> 2 = \" << (16 >> 2) << std::endl;"
   ]
  },
  {
   "cell_type": "code",
   "execution_count": 22,
   "id": "542186af",
   "metadata": {
    "vscode": {
     "languageId": "cpp"
    }
   },
   "outputs": [
    {
     "name": "stdout",
     "output_type": "stream",
     "text": [
      "Decimal value: 57\n"
     ]
    }
   ],
   "source": [
    "const int SIZE = 6;\n",
    "int arr[] = {1, 1, 1, 0, 0, 1};\n",
    "int decimal = 0;\n",
    "\n",
    "/*\n",
    "     0 << 1 | 1 =  1, at i = 0      00000 << 1 = 000000, then 000000 | 0000001 =      1, decimal goes from  0 to  1\n",
    "     1 << 1 | 1 =  3, at i = 1      00001 << 1 = 000010, then 000010 | 0000001 =     11, decimal goes from  1 to  3\n",
    "     3 << 1 | 1 =  7, at i = 2      00011 << 1 = 000110, then 000110 | 0000001 =    111, decimal goes from  3 to  7\n",
    "     7 << 1 | 0 = 14, at i = 3      00111 << 1 = 001110, then 001110 | 0000000 =   1110, decimal goes from  7 to 14\n",
    "    14 << 1 | 0 = 28, at i = 4      01110 << 1 = 011100, then 011100 | 0000000 =  11100, decimal goes from 14 to 28\n",
    "    28 << 1 | 1 = 57, at i = 5      11100 << 1 = 111000, then 111000 | 0000001 = 111001, decimal goes from 28 to 57\n",
    "*/\n",
    "\n",
    "for (int i = 0; i < SIZE; i++) {\n",
    "    decimal = (decimal << 1) | arr[i];\n",
    "}\n",
    "std::cout << \"Decimal value: \" << decimal << std::endl;"
   ]
  },
  {
   "cell_type": "markdown",
   "id": "9327811f",
   "metadata": {},
   "source": []
  },
  {
   "cell_type": "code",
   "execution_count": 46,
   "id": "62c2811f",
   "metadata": {
    "vscode": {
     "languageId": "cpp"
    }
   },
   "outputs": [
    {
     "name": "stdout",
     "output_type": "stream",
     "text": [
      "Decimal value: 57\n"
     ]
    }
   ],
   "source": [
    "const int SIZE = 6;\n",
    "int arr[] = {1, 1, 1, 0, 0, 1};\n",
    "int decimal = 0;\n",
    "\n",
    "/*\n",
    "    1 * 2^(6-1-0) = 32, at i = 0, decimal goes from  0 to 32\n",
    "    1 * 2^(6-1-1) = 16, at i = 1, decimal goes from 32 to 48\n",
    "    1 * 2^(6-1-2) =  8, at i = 2, decimal goes from 48 to 56\n",
    "    0 * 2^(6-1-3) =  0, at i = 3, decimal goes from 56 to 56\n",
    "    0 * 2^(6-1-4) =  0, at i = 4, decimal goes from 56 to 56\n",
    "    1 * 2^(6-1-5) =  1, at i = 5, decimal goes from 56 to 57\n",
    "*/\n",
    "\n",
    "for (int i = 0; i < SIZE; i++) {\n",
    "    if (arr[i]) {\n",
    "        decimal += std::pow(2, SIZE - 1 - i);\n",
    "    }\n",
    "}\n",
    "std::cout << \"Decimal value: \" << decimal << std::endl;"
   ]
  },
  {
   "cell_type": "markdown",
   "id": "283eba08",
   "metadata": {},
   "source": []
  },
  {
   "cell_type": "code",
   "execution_count": 63,
   "id": "974b25e0",
   "metadata": {
    "vscode": {
     "languageId": "cpp"
    }
   },
   "outputs": [
    {
     "name": "stdout",
     "output_type": "stream",
     "text": [
      "Recalculated Parity Bits: 1 1 1 1 1 1 1 \n"
     ]
    }
   ],
   "source": [
    "const int BLOCK_SIZE = 8;\n",
    "int codeword_recalculated[] = {0, 1, 0, 1, 0, 1, 1, 1}; // received with error at index 6\n",
    "\n",
    "for (int i = 1; i < BLOCK_SIZE; i <<= 1) {\n",
    "    codeword_recalculated[i] = 0;\n",
    "    for (int j = 1; j < BLOCK_SIZE; j++) {\n",
    "        if (j & i) { \n",
    "            codeword_recalculated[i] ^= codeword_recalculated[j];\n",
    "        }\n",
    "    }\n",
    "}\n",
    "\n",
    "std::cout << \"Recalculated Parity Bits: \";\n",
    "for (int i = 1; i < BLOCK_SIZE; i++) {\n",
    "    std::cout << codeword_recalculated[i] << \" \";\n",
    "}\n",
    "std::cout << std::endl;"
   ]
  },
  {
   "cell_type": "markdown",
   "id": "7dff70d5",
   "metadata": {},
   "source": []
  },
  {
   "cell_type": "code",
   "execution_count": 66,
   "id": "4d3f4316",
   "metadata": {
    "vscode": {
     "languageId": "cpp"
    }
   },
   "outputs": [
    {
     "name": "stdout",
     "output_type": "stream",
     "text": [
      "Error index: 6\n"
     ]
    }
   ],
   "source": [
    "int codeword[]              = {0, 1, 0, 1, 0, 1, 1, 1}; // received codeword with error at index 6\n",
    "int codeword_recalculated[] = {0, 1, 1, 1, 1, 1, 1, 1}; // parity bits recalculated\n",
    "\n",
    "const int NUM_PARITY_BITS = 3;\n",
    "int error_index = 0;\n",
    "\n",
    "for (int i = 0; i < NUM_PARITY_BITS; i++) {\n",
    "    error_index = error_index | ((codeword[static_cast<int>(pow(2, i))] ^ codeword_recalculated[static_cast<int>(pow(2, i))]) * (int)pow(2, i));\n",
    "}\n",
    "\n",
    "std::cout << \"Error index: \" << error_index << std::endl;"
   ]
  },
  {
   "cell_type": "markdown",
   "id": "43642d54",
   "metadata": {},
   "source": []
  },
  {
   "cell_type": "code",
   "execution_count": 69,
   "id": "90923112",
   "metadata": {
    "vscode": {
     "languageId": "cpp"
    }
   },
   "outputs": [
    {
     "name": "stdout",
     "output_type": "stream",
     "text": [
      "Error index: 6\n"
     ]
    }
   ],
   "source": [
    "int codeword[]              = {0, 1, 0, 1, 0, 1, 1, 1}; // received codeword with error at index 6\n",
    "int codeword_recalculated[] = {0, 1, 1, 1, 1, 1, 1, 1}; // parity bits recalculated\n",
    "\n",
    "const int NUM_PARITY_BITS = 3;\n",
    "int error_index = 0;\n",
    "\n",
    "for (int i = 0; i < NUM_PARITY_BITS; i++) {\n",
    "    error_index = error_index | ((codeword[1 << i] ^ codeword_recalculated[1 << i]) << i);\n",
    "}\n",
    "\n",
    "std::cout << \"Error index: \" << error_index << std::endl;"
   ]
  },
  {
   "cell_type": "markdown",
   "id": "fc6d2c49",
   "metadata": {},
   "source": [
    "Why do the ```<<``` left shift and ```>>``` right shift operators look just like the C++ stream insertion ```<<``` and stream extraction ```>>``` operators?"
   ]
  },
  {
   "cell_type": "markdown",
   "id": "f0575e13",
   "metadata": {},
   "source": [
    "<html img=\"true\">\n",
    "    <img src=\"../images/Lab02/bits_to_send_blank.png\" alt=\"Hamming Code Example of Bits to Send (Parity Bits Blank)\" style=\"width:500px;\">\n",
    "</html>"
   ]
  },
  {
   "cell_type": "markdown",
   "id": "bdcaa637",
   "metadata": {},
   "source": [
    "Fill in the parity bits, so the respective parity groups have even parity (an even number of 1s)."
   ]
  },
  {
   "cell_type": "markdown",
   "id": "20e6c274",
   "metadata": {},
   "source": [
    "<html img=\"true\">\n",
    "    <img src=\"../images/Lab02/bits_to_send_filled.png\" alt=\"Hamming Code Example of Bits to Send (Parity Bits Filled In)\" style=\"width:500px;\">\n",
    "</html>"
   ]
  },
  {
   "cell_type": "markdown",
   "id": "075a9f54",
   "metadata": {
    "vscode": {
     "languageId": "plaintext"
    }
   },
   "source": [
    "## Detecting and Correcting a Single-Bit Error"
   ]
  },
  {
   "cell_type": "markdown",
   "id": "b3a24f20",
   "metadata": {},
   "source": [
    "Let's assume we encounter a single bit error, and the message sent as ```1101``` is received as ```1111```.  The bit at index 6 has erroneously flipped from 0 to 1."
   ]
  },
  {
   "cell_type": "markdown",
   "id": "3dd2feda",
   "metadata": {},
   "source": [
    "<html img=\"true\">\n",
    "    <img src=\"../images/Lab02/bits_received_blank.png\" alt=\"Hamming Code Example of Bits Received (Recalculated Parity Bits Blank)\" style=\"width:700px;\">\n",
    "</html>"
   ]
  },
  {
   "cell_type": "markdown",
   "id": "fb9070b8",
   "metadata": {},
   "source": [
    "Recalculate the parity bits on the received message."
   ]
  },
  {
   "cell_type": "markdown",
   "id": "791c7c85",
   "metadata": {},
   "source": [
    "<html img=\"true\">\n",
    "    <img src=\"../images/Lab02/bits_received_filled.png\" alt=\"Hamming Code Example of Bits Received (Recalculated Parity Bits Filled In)\" style=\"width:700px;\">\n",
    "</html>"
   ]
  },
  {
   "cell_type": "markdown",
   "id": "5109b6e5",
   "metadata": {},
   "source": [
    "Parity bit 1 is the same on the sent message as it is on the received message, so there is no error in the bits it checks (1, 3, 5, 7).  \n",
    "Parity bit 2 is different on the sent message than it is on the received message, so there is an error in one of the bits it checks (2, 3, 6, 7).  \n",
    "Parity bit 4 is different on the sent message than it is on the received message, so there is an error in one of the bits it checks (4, 5, 6, 7).  "
   ]
  },
  {
   "cell_type": "markdown",
   "id": "26ae64ba",
   "metadata": {},
   "source": [
    "* Looking at a Venn diagram, we can see that everything from parity group 1 is OK. ```{1, 3, 5, 7}```.\n",
    "* Parity group 2 reports that ```{2, 3, 6, 7}``` could be the error, but it won't be ```{3}``` or ```{7}``` because group 1 reported those indexes OK. ```{2}``` and ```{6}``` remain suspicious.\n",
    "* Parity group 4 reports that ```{4, 5, 6, 7}``` could be the error, but it won't be ```{5}``` or ```{7}``` because group 1 reported those indexes OK. ```{4}``` and ```{6}``` remain suspicious.\n",
    "* However, the error can't be index ```{4}``` because group 2 reported an error and group 2 doesn't cover index ```{4}```.\n",
    "* And the error can't be index ```{2}``` because group 4 reported an error and group 4 doesn't cover index ```{2}```.\n",
    "* The error must be index ```{6}```."
   ]
  },
  {
   "cell_type": "markdown",
   "id": "c960ffe6",
   "metadata": {},
   "source": [
    "\n",
    "<html img=\"true\">\n",
    "    <img src=\"../images/Lab02/hamming74.png\" alt=\"Hamming Code Venn Diagram\" style=\"width:500px;\">\n",
    "</html>\n"
   ]
  },
  {
   "cell_type": "markdown",
   "id": "205f8bda",
   "metadata": {},
   "source": [
    "We successfully identified the error, but looking at a diagram to visually deduce the index is not the most programmatic approach. To implement this as a computer program, could we leverage a more programmatic operation?\n",
    "\n",
    "### Using Set Operations\n",
    "\n",
    "Treat the parity groups as sets and codeword indexes as set members.\n",
    "\n",
    "* Both notations below show the same operation.\n",
    "* The bar over ONE indicates the complement (also known as the inverse) and can be achieved with the ```!``` symbol in C++.\n",
    "* The superscript C indicates the complement using set notation.\n",
    "\n",
    "$$(\\text{TWO} \\cap \\text{FOUR}) \\cap \\overline{\\text{ONE}}$$\n",
    "\n",
    "$$(\\{2, 3, 6, 7\\} \\cap \\{4, 5, 6, 7\\}) \\cap \\{1, 3, 5, 7\\}^C = \\{6\\}$$"
   ]
  },
  {
   "cell_type": "markdown",
   "id": "99024a89",
   "metadata": {},
   "source": [
    "**We detected the error at codeword index 6, and can now correct it by flipping it back to 0!**"
   ]
  },
  {
   "cell_type": "markdown",
   "id": "09288815",
   "metadata": {},
   "source": [
    "### A Strategy to Identify Parity Group Membership"
   ]
  },
  {
   "cell_type": "markdown",
   "id": "2247d240",
   "metadata": {},
   "source": [
    "* The parity bit can act as a bit mask, and along with the bitwise ```&``` operation, identify which indexes belong to which parity groups.\n",
    "* Remember, ```Zero``` is considered ```false```. ```Non-Zero``` is considered ```true```."
   ]
  },
  {
   "cell_type": "markdown",
   "id": "bc338d68",
   "metadata": {},
   "source": [
    "<table style=\"font-size: 1.3em; width: 60%; margin: auto; border-collapse: collapse; text-align: center;\">  <thead>\n",
    "    <tr>\n",
    "      <th style=\"padding: 8px; width: 35%; text-align: center;\">Parity Group 1 Bit Mask</th>\n",
    "      <th style=\"padding: 8px; width: 25%; text-align: center;\">Decimal Equivalent</th>\n",
    "      <th style=\"padding: 8px; width: 40%; text-align: center;\">Membership</th>\n",
    "    </tr>\n",
    "  </thead>\n",
    "  <tbody>\n",
    "    <tr><td>001 & 001 = 001</td><td>1 & 1 = 1</td><td>Group 1 Parity Bit</td></tr>\n",
    "    <tr><td>001 & 010 = 000</td><td>1 & 2 = 0</td><td>NOT In Group</td></tr>\n",
    "    <tr><td>001 & 011 = 001</td><td>1 & 3 = 1</td><td>In Group</td></tr>\n",
    "    <tr><td>001 & 100 = 000</td><td>1 & 4 = 0</td><td>NOT In Group</td></tr>\n",
    "    <tr><td>001 & 101 = 001</td><td>1 & 5 = 1</td><td>In Group</td></tr>\n",
    "    <tr><td>001 & 110 = 000</td><td>1 & 6 = 0</td><td>NOT In Group</td></tr>\n",
    "    <tr><td>001 & 111 = 001</td><td>1 & 7 = 1</td><td>In Group</td></tr>\n",
    "  </tbody>\n",
    "</table>"
   ]
  },
  {
   "cell_type": "markdown",
   "id": "0fdd6ab0",
   "metadata": {},
   "source": [
    "\n",
    "<table style=\"font-size: 1.3em; width: 60%; margin: auto; border-collapse: collapse; text-align: center;\">  <thead>\n",
    "    <tr>\n",
    "      <th style=\"padding: 8px; width: 35%; text-align: center;\">Parity Group 2 Bit Mask</th>\n",
    "      <th style=\"padding: 8px; width: 25%; text-align: center;\">Decimal Equivalent</th>\n",
    "      <th style=\"padding: 8px; width: 40%; text-align: center;\">Membership</th>\n",
    "    </tr>\n",
    "  </thead>\n",
    "  <tbody>\n",
    "    <tr><td>010 & 001 = 00</td><td>2 & 1 = 0</td><td>NOT In Group</td></tr>\n",
    "    <tr><td>010 & 010 = 10</td><td>2 & 2 = 2</td><td>Group 2 Parity Bit</td></tr>\n",
    "    <tr><td>010 & 011 = 10</td><td>2 & 3 = 2</td><td>In Group</td></tr>\n",
    "    <tr><td>010 & 100 = 00</td><td>2 & 4 = 0</td><td>NOT In Group</td></tr>\n",
    "    <tr><td>010 & 101 = 00</td><td>2 & 5 = 0</td><td>NOT In Group</td></tr>\n",
    "    <tr><td>010 & 110 = 10</td><td>2 & 6 = 2</td><td>In Group</td></tr>\n",
    "    <tr><td>010 & 111 = 10</td><td>2 & 7 = 2</td><td>In Group</td></tr>\n",
    "  </tbody>\n",
    "</table>"
   ]
  },
  {
   "cell_type": "markdown",
   "id": "112e60ed",
   "metadata": {},
   "source": [
    "<table style=\"font-size: 1.3em; width: 60%; margin: auto; border-collapse: collapse; text-align: center;\">\n",
    "<thead>\n",
    "    <tr>\n",
    "      <th style=\"padding: 8px; width: 35%; text-align: center;\">Parity Group 4 Bit Mask</th>\n",
    "      <th style=\"padding: 8px; width: 25%; text-align: center;\">Decimal Equivalent</th>\n",
    "      <th style=\"padding: 8px; width: 40%; text-align: center;\">Membership</th>\n",
    "    </tr>\n",
    "  </thead>\n",
    "  <tbody>\n",
    "    <tr><td>100 & 001 = 000</td><td>4 & 1 = 0</td><td>NOT In Group</td></tr>\n",
    "    <tr><td>100 & 010 = 000</td><td>4 & 2 = 0</td><td>NOT In Group</td></tr>\n",
    "    <tr><td>100 & 011 = 000</td><td>4 & 3 = 0</td><td>NOT In Group</td></tr>\n",
    "    <tr><td>100 & 100 = 100</td><td>4 & 4 = 4</td><td>Group 4 Parity Bit</td></tr>\n",
    "    <tr><td>100 & 101 = 100</td><td>4 & 5 = 4</td><td>In Group</td></tr>\n",
    "    <tr><td>100 & 110 = 100</td><td>4 & 6 = 4</td><td>In Group</td></tr>\n",
    "    <tr><td>100 & 111 = 100</td><td>4 & 7 = 4</td><td>In Group</td></tr>\n",
    "  </tbody>\n",
    "</table>"
   ]
  },
  {
   "cell_type": "code",
   "execution_count": 5,
   "id": "8628a8b7",
   "metadata": {
    "vscode": {
     "languageId": "cpp"
    }
   },
   "outputs": [
    {
     "name": "stdout",
     "output_type": "stream",
     "text": [
      "Parity Group 1 Membership\n",
      "1 & 1 = 1\n",
      "1 & 2 = 0\n",
      "1 & 3 = 1\n",
      "1 & 4 = 0\n",
      "1 & 5 = 1\n",
      "1 & 6 = 0\n",
      "1 & 7 = 1\n",
      "\n",
      "Parity Group 2 Membership\n",
      "2 & 1 = 0\n",
      "2 & 2 = 2\n",
      "2 & 3 = 2\n",
      "2 & 4 = 0\n",
      "2 & 5 = 0\n",
      "2 & 6 = 2\n",
      "2 & 7 = 2\n",
      "\n",
      "Parity Group 4 Membership\n",
      "4 & 1 = 0\n",
      "4 & 2 = 0\n",
      "4 & 3 = 0\n",
      "4 & 4 = 4\n",
      "4 & 5 = 4\n",
      "4 & 6 = 4\n",
      "4 & 7 = 4\n"
     ]
    },
    {
     "data": {
      "text/plain": [
       "@0x7680ffbfcca0"
      ]
     },
     "execution_count": 5,
     "metadata": {},
     "output_type": "execute_result"
    }
   ],
   "source": [
    "std::cout << \"Parity Group 1 Membership\" << std::endl;\n",
    "std::cout << \"1 & 1 = \" << (1 & 1) << std::endl; // Group 1 Parity Bit\n",
    "std::cout << \"1 & 2 = \" << (1 & 2) << std::endl; // Not in Group\n",
    "std::cout << \"1 & 3 = \" << (1 & 3) << std::endl; // In Group\n",
    "std::cout << \"1 & 4 = \" << (1 & 4) << std::endl; // Not in Group\n",
    "std::cout << \"1 & 5 = \" << (1 & 5) << std::endl; // In Group\n",
    "std::cout << \"1 & 6 = \" << (1 & 6) << std::endl; // Not in Group\n",
    "std::cout << \"1 & 7 = \" << (1 & 7) << std::endl; // In Group\n",
    "\n",
    "std::cout << \"\\nParity Group 2 Membership\" << std::endl;\n",
    "std::cout << \"2 & 1 = \" << (2 & 1) << std::endl; // Not in Group\n",
    "std::cout << \"2 & 2 = \" << (2 & 2) << std::endl; // Group 2 Parity Bit\n",
    "std::cout << \"2 & 3 = \" << (2 & 3) << std::endl; // In Group\n",
    "std::cout << \"2 & 4 = \" << (2 & 4) << std::endl; // Not in Group\n",
    "std::cout << \"2 & 5 = \" << (2 & 5) << std::endl; // Not in Group\n",
    "std::cout << \"2 & 6 = \" << (2 & 6) << std::endl; // In Group\n",
    "std::cout << \"2 & 7 = \" << (2 & 7) << std::endl; // In Group\n",
    "\n",
    "std::cout << \"\\nParity Group 4 Membership\" << std::endl;\n",
    "std::cout << \"4 & 1 = \" << (4 & 1) << std::endl; // Not in Group\n",
    "std::cout << \"4 & 2 = \" << (4 & 2) << std::endl; // Not in Group\n",
    "std::cout << \"4 & 3 = \" << (4 & 3) << std::endl; // Not in Group\n",
    "std::cout << \"4 & 4 = \" << (4 & 4) << std::endl; // Group 4 Parity Bit\n",
    "std::cout << \"4 & 5 = \" << (4 & 5) << std::endl; // In Group\n",
    "std::cout << \"4 & 6 = \" << (4 & 6) << std::endl; // In Group\n",
    "std::cout << \"4 & 7 = \" << (4 & 7) << std::endl; // In Group"
   ]
  },
  {
   "cell_type": "markdown",
   "id": "359b1989",
   "metadata": {},
   "source": [
    "### For Your Consideration..."
   ]
  },
  {
   "cell_type": "markdown",
   "id": "47d71cdc",
   "metadata": {},
   "source": [
    "* What does it mean if there are no non-matching parity bits?\n",
    "* Your codeword is stored in a data structure such as an array or a vector. For example, ```{1, 0, 1, 0, 1, 0, 1}```. How will you *unload* these ```0``` and ```1``` bits from an array or vector into a single base-10 integer value to print the corrected message?"
   ]
  },
  {
   "cell_type": "markdown",
   "id": "db55daa6",
   "metadata": {},
   "source": [
    "Examine the following line of pseudocode:\n",
    "\n",
    "```\n",
    "  x = 0\n",
    "  x = x | ( (codeword[power(2, i)] ^ codeword_recalculated[power(2, i)]) * power(2, i) )\n",
    "```"
   ]
  },
  {
   "cell_type": "markdown",
   "id": "b9aebe55",
   "metadata": {},
   "source": [
    "* What is this line calculating? What does ```x``` represent?\n",
    "* What is the purpose of the ```OR (|)``` operation in this context?\n",
    "* What is the purpose of the ```XOR (^)``` operation in this context?\n",
    "* Why is the result of the ```XOR``` operation multiplied by ```2``` to the power of ```i``` (presumably an incrementing loop index)?\n",
    "\n",
    "See if you can answer these questions on your own, and check in with me if you get stuck. We'll analyze a solution together next week."
   ]
  }
 ],
 "metadata": {
  "kernelspec": {
   "display_name": "C++17",
   "language": "C++17",
   "name": "xcpp17"
  },
  "language_info": {
   "codemirror_mode": "text/x-c++src",
   "file_extension": ".cpp",
   "mimetype": "text/x-c++src",
   "name": "c++",
   "version": "17"
  }
 },
 "nbformat": 4,
 "nbformat_minor": 5
}
