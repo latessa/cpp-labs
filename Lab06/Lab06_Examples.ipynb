{
 "cells": [
  {
   "cell_type": "markdown",
   "id": "154b8e66",
   "metadata": {
    "editable": false,
    "slideshow": {
     "slide_type": ""
    },
    "tags": []
   },
   "source": [
    "# Lab 06 Examples (Satisfiability)\n",
    "\n",
    "Implication, Negation, and Equivalence"
   ]
  },
  {
   "cell_type": "markdown",
   "id": "fedd9f2a-e490-4b75-8ff4-afb73ab53f92",
   "metadata": {
    "editable": false,
    "slideshow": {
     "slide_type": ""
    },
    "tags": []
   },
   "source": [
    "Click \\<shift> \\<enter> in each code cell to run the code. Be sure to start with the ```#include``` directives to load the required libraries."
   ]
  },
  {
   "cell_type": "code",
   "execution_count": 22,
   "id": "400cee4a-03dc-491f-aca8-c997c0341fcb",
   "metadata": {
    "editable": true,
    "slideshow": {
     "slide_type": ""
    },
    "tags": []
   },
   "outputs": [],
   "source": [
    "// For Lab 06, we are limited to these includes.\n",
    "// Other libraries that can do the set or binary operations for us are not allowed.\n",
    "// For example, DO NOT include <bitset> or <set>.\n",
    "\n",
    "#include <iostream>\n",
    "#include <string>\n",
    "#include <vector>\n",
    "#include <cmath>"
   ]
  },
  {
   "cell_type": "markdown",
   "id": "0d9bd6fb",
   "metadata": {
    "editable": false,
    "slideshow": {
     "slide_type": ""
    },
    "tags": []
   },
   "source": [
    "## Deriving Logical Operations Using Built-in Operators\n",
    "\n",
    "In last week's lab assignment, we solved logical problems using AND, OR, and NOT operations. This week, we will solve problems using NAND, NOR, XOR, and IMPLIES operations.\n",
    "\n",
    "In C++, we have logical operators for the AND (`&&`), OR (`||`), and NOT (`!`) operations. We also have bitwise operators for AND (`&`), OR (`|`), XOR (`^`), and NOT (`~`) operations. However, we do not have built-in operators for NAND, NOR, and IMPLIES. We can define these operations using functions.\n",
    "\n",
    "Instead of using the operator directly, we can call the function to perform the operation.\n"
   ]
  },
  {
   "cell_type": "code",
   "execution_count": 23,
   "id": "0037cc07",
   "metadata": {
    "editable": true,
    "slideshow": {
     "slide_type": ""
    },
    "tags": [],
    "vscode": {
     "languageId": "cpp"
    }
   },
   "outputs": [
    {
     "name": "stdout",
     "output_type": "stream",
     "text": [
      "a && b = 0\n",
      "a & b = 0\n",
      "AND(a, b) = 0\n",
      "BITWISE_AND(a, b) = 0\n"
     ]
    }
   ],
   "source": [
    "int a = 1;\n",
    "int b = 0;\n",
    "\n",
    "// Logical AND\n",
    "std::cout << \"a && b = \" << (a && b) << std::endl;\n",
    "\n",
    "// Bitwise AND\n",
    "std::cout << \"a & b = \" << (a & b) << std::endl;\n",
    "\n",
    "// Logical AND using a function\n",
    "auto AND = [](int x, int y) { return x && y; };\n",
    "std::cout << \"AND(a, b) = \" << AND(a, b) << std::endl;\n",
    "\n",
    "// Bitwise AND using a function\n",
    "auto BITWISE_AND = [](int x, int y) { return x & y; };\n",
    "std::cout << \"BITWISE_AND(a, b) = \" << BITWISE_AND(a, b) << std::endl;"
   ]
  },
  {
   "cell_type": "markdown",
   "id": "d7a8c35a",
   "metadata": {
    "editable": false,
    "slideshow": {
     "slide_type": ""
    },
    "tags": []
   },
   "source": [
    "### Deriving Logical XOR\n",
    "\n",
    "Although C++ provides a built-in bitwise XOR operator (`^`), there is no direct logical XOR operator. Logical XOR (exclusive OR) returns true if exactly one of its operands is true, and false otherwise. We can derive logical XOR using other logical operators, such as:\n",
    "\n",
    "```\n",
    "a XOR b ≡ (a && !b) || (!a && b)\n",
    "```\n",
    "\n",
    "Here is a truth table comparing the bitwise XOR (`a ^ b`) with the derived logical XOR:\n",
    "\n",
    "<table style=\"font-size: 1.3em; width: 100%;\">\n",
    "    <tr>\n",
    "        <th>a</th>\n",
    "        <th>b</th>\n",
    "        <th>a ^ b (bitwise)</th>\n",
    "        <th>!a</th>\n",
    "        <th>!b</th>\n",
    "        <th>(a && !b)</th>\n",
    "        <th>(!a && b)</th>\n",
    "        <th>Logical XOR<br>(a && !b) &#124;&#124; (!a && b)</th>\n",
    "    </tr>\n",
    "    <tr>\n",
    "        <td>False</td>\n",
    "        <td>False</td>\n",
    "        <td>False</td>\n",
    "        <td>True</td>\n",
    "        <td>True</td>\n",
    "        <td>False</td>\n",
    "        <td>False</td>\n",
    "        <td>False</td>\n",
    "    </tr>\n",
    "    <tr>\n",
    "        <td>False</td>\n",
    "        <td>True</td>\n",
    "        <td>True</td>\n",
    "        <td>True</td>\n",
    "        <td>False</td>\n",
    "        <td>False</td>\n",
    "        <td>True</td>\n",
    "        <td>True</td>\n",
    "    </tr>\n",
    "    <tr>\n",
    "        <td>True</td>\n",
    "        <td>False</td>\n",
    "        <td>True</td>\n",
    "        <td>False</td>\n",
    "        <td>True</td>\n",
    "        <td>True</td>\n",
    "        <td>False</td>\n",
    "        <td>True</td>\n",
    "    </tr>\n",
    "    <tr>\n",
    "        <td>True</td>\n",
    "        <td>True</td>\n",
    "        <td>False</td>\n",
    "        <td>False</td>\n",
    "        <td>False</td>\n",
    "        <td>False</td>\n",
    "        <td>False</td>\n",
    "        <td>False</td>\n",
    "    </tr>\n"
   ]
  },
  {
   "cell_type": "markdown",
   "id": "e2bfa80e",
   "metadata": {
    "editable": false,
    "slideshow": {
     "slide_type": ""
    },
    "tags": []
   },
   "source": [
    "### Deriving IMPLIES\n",
    "\n",
    "C++ doesn't provide a built-in operator for IMPLIES. To derive IMPLIES using other operators, let's first look at the IMPLIES truth table:\n",
    "\n",
    "<table style=\"font-size: 1.3em; width: 60%;\">\n",
    "    <tr>\n",
    "        <th>a</th>\n",
    "        <th>b</th>\n",
    "        <th>a IMPLIES b</th>\n",
    "    </tr>\n",
    "    <tr>\n",
    "        <td>False</td>\n",
    "        <td>False</td>\n",
    "        <td>True</td>\n",
    "    </tr>\n",
    "    <tr>\n",
    "        <td>False</td>\n",
    "        <td>True</td>\n",
    "        <td>True</td>\n",
    "    </tr>\n",
    "    <tr>\n",
    "        <td>True</td>\n",
    "        <td>False</td>\n",
    "        <td>False</td>\n",
    "    </tr>\n",
    "    <tr>\n",
    "        <td>True</td>\n",
    "        <td>True</td>\n",
    "        <td>True</td>\n",
    "    </tr>\n",
    "</table>\n",
    "\n",
    "We can think of IMPLIES as `if` condition.  Let's assign `a` to the proposition `it is raining` and `b` to the proposition `I go inside.`\n",
    "\n",
    "* If it is `false` that `it is raining`, and it is `false` that `I go inside`, then the claim evaluates to `true`. (I didn't make any claim about what I do when it's not raining, so it's fine that I didn't go inside. The implication holds.)\n",
    "* If it is `false` that `it is raining`, and it is `true` that `I go inside`, then the claim evaluates to `true`. (Again, I didn't make any claim about what I do when it's not raining, so it's fine that I went inside. The implication holds.)\n",
    "* If it is `true` that `it is raining`, but it is `false` that `I go inside`, then the claim evaluates to `false`.\n",
    "* If it is `true` that `it is raining`, and it is `true` that `I go inside`, then the claim evaluates to true.\n",
    "\n",
    "\n"
   ]
  },
  {
   "cell_type": "markdown",
   "id": "a6cbfdf4",
   "metadata": {
    "editable": false,
    "slideshow": {
     "slide_type": ""
    },
    "tags": []
   },
   "source": [
    "### Using Equivalence to Implement IMPLIES in C++\n",
    "\n",
    "Our textbook shows us many equivalences.  \n",
    "*Discrete Mathematics and Its Applications* by Kenneth H. Rosen.\n",
    "\n",
    "![Equivalence](https://latessa.github.io/cpp-labs/images/Lab06/logical_equivalences.png)\n",
    "\n",
    "\n",
    "![Equivalence for Conditional Statements](https://latessa.github.io/cpp-labs/images/Lab06/logical_equivalences_conditional.png)"
   ]
  },
  {
   "cell_type": "markdown",
   "id": "817950b9",
   "metadata": {
    "editable": false,
    "slideshow": {
     "slide_type": ""
    },
    "tags": []
   },
   "source": [
    "The first row of **Table 7** shows that `p IMPLIES q` is equivalent to `NOT p OR q`.\n",
    "\n",
    "We can implement IMPLIES using this equivalence.\n",
    "\n",
    "```\n",
    "a IMPLIES b ≡ (!a || b)\n",
    "```"
   ]
  },
  {
   "cell_type": "markdown",
   "id": "cfe63a79-34c7-431e-82e4-0746d732eae4",
   "metadata": {
    "editable": false,
    "slideshow": {
     "slide_type": ""
    },
    "tags": []
   },
   "source": [
    "Here is a truth table comparing IMPLIES with the derived programmable expression:\n",
    "\n",
    "<table style=\"font-size: 1.3em; width: 80%;\">\n",
    "    <tr>\n",
    "        <th>a</th>\n",
    "        <th>b</th>\n",
    "        <th>a IMPLIES b</th>\n",
    "        <th>!a</th>\n",
    "        <th>(!a || b)</th>\n",
    "    </tr>\n",
    "    <tr>\n",
    "        <td>False</td>\n",
    "        <td>False</td>\n",
    "        <td>True</td>\n",
    "        <td>True</td>\n",
    "        <td>True</td>\n",
    "    </tr>\n",
    "    <tr>\n",
    "        <td>False</td>\n",
    "        <td>True</td>\n",
    "        <td>True</td>\n",
    "        <td>True</td>\n",
    "        <td>True</td>\n",
    "    </tr>\n",
    "    <tr>\n",
    "        <td>True</td>\n",
    "        <td>False</td>\n",
    "        <td>False</td>\n",
    "        <td>False</td>\n",
    "        <td>False</td>\n",
    "    </tr>\n",
    "    <tr>\n",
    "        <td>True</td>\n",
    "        <td>True</td>\n",
    "        <td>True</td>\n",
    "        <td>False</td>\n",
    "        <td>True</td>\n",
    "    </tr>\n",
    "</table>\n"
   ]
  },
  {
   "cell_type": "markdown",
   "id": "a8aa667a-5901-43f9-beb7-82a95959b2d4",
   "metadata": {
    "editable": false,
    "slideshow": {
     "slide_type": ""
    },
    "tags": []
   },
   "source": [
    "## Reviewing the Lab 05 Solution\n",
    "\n",
    "Lab 05 used AND, OR, and NOT operations to solve the following problems shown in the code cell below."
   ]
  },
  {
   "cell_type": "code",
   "execution_count": 24,
   "id": "69f3718f-8d67-4843-8744-670c51fc66e7",
   "metadata": {
    "editable": true,
    "slideshow": {
     "slide_type": ""
    },
    "tags": []
   },
   "outputs": [
    {
     "name": "stdout",
     "output_type": "stream",
     "text": [
      "Example Problem (from last week): \n",
      "00000010\n",
      "\n",
      "Problem 1: \n",
      "00000111\n",
      "\n",
      "Problem 2: \n",
      "00000000\n",
      "\n",
      "Problem 3: \n",
      "00001000\n",
      "\n",
      "Problem 4: \n",
      "00000000\n",
      "\n",
      "Problem 5: \n",
      "00000000\n",
      "\n"
     ]
    }
   ],
   "source": [
    "std::string dec2bitstring(unsigned int num) {\n",
    "    std::string result = \"00000000\";\n",
    "    for (int i = 7; i >= 0; --i) {\n",
    "        result[i] = (num % 2) ? '1' : '0';\n",
    "        num /= 2;\n",
    "    }\n",
    "\n",
    "    return result;\n",
    "}\n",
    "\n",
    "// main function\n",
    "unsigned int A = 15; // base2 = 00001111\n",
    "unsigned int B = 51; // base2 = 00110011\n",
    "unsigned int C = 85; // base2 = 01010101\n",
    "\n",
    "std::cout << \"Example Problem (from last week): \" << std::endl; // expected: 00000010\n",
    "auto p0 = (((A & B) & (B | C)) & ~(B & C));\n",
    "std::cout << dec2bitstring(p0) << std::endl << std::endl;\n",
    "\n",
    "std::cout << \"Problem 1: \" << std::endl; // expected: 00000111\n",
    "auto p1 = (A & B) | (A & C);\n",
    "std::cout << dec2bitstring(p1) << std::endl << std::endl;\n",
    "\n",
    "std::cout << \"Problem 2: \" << std::endl; // expected: 00000000\n",
    "auto p2 = (A & C) & (B & ~C); \n",
    "std::cout << dec2bitstring(p2) << std::endl << std::endl;\n",
    "\n",
    "std::cout << \"Problem 3: \" << std::endl; // expected: 00001000\n",
    "auto p3 = (A | B) & ~(B | C);\n",
    "std::cout << dec2bitstring(p3) << std::endl << std::endl;\n",
    "\n",
    "std::cout << \"Problem 4: \" << std::endl; // expected: 00000000\n",
    "auto p4 = (A | (B & C)) & (~A & ~B); \n",
    "std::cout << dec2bitstring(p4) << std::endl << std::endl;\n",
    "\n",
    "std::cout << \"Problem 5: \" << std::endl; // expected: 00000000\n",
    "auto p5 = ((B & C) | (C & A)) & (~(A | B) & C);\n",
    "std::cout << dec2bitstring(p5) << std::endl << std::endl;\n"
   ]
  },
  {
   "cell_type": "markdown",
   "id": "da9cfad1",
   "metadata": {
    "editable": false,
    "slideshow": {
     "slide_type": ""
    },
    "tags": []
   },
   "source": [
    "When looking at the Lab 06 requirements, consider how similarly shaped your solution could be to this Lab 05 implementation.\n",
    "\n",
    "* What lines would need to change?\n",
    "* What functionality would need to be added?\n",
    "\n",
    "Today's lab should be quite short to implement if you start with and modify the Lab 05 solution. The *.cpp* file is available on Canvas in last week's module."
   ]
  }
 ],
 "metadata": {
  "kernelspec": {
   "display_name": "C++17",
   "language": "C++17",
   "name": "xcpp17"
  },
  "language_info": {
   "codemirror_mode": "text/x-c++src",
   "file_extension": ".cpp",
   "mimetype": "text/x-c++src",
   "name": "c++",
   "version": "17"
  }
 },
 "nbformat": 4,
 "nbformat_minor": 5
}
