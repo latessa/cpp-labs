{
 "cells": [
  {
   "cell_type": "markdown",
   "id": "154b8e66",
   "metadata": {
    "editable": false,
    "slideshow": {
     "slide_type": ""
    },
    "tags": []
   },
   "source": [
    "# Lab 08 Examples (Sieve of Eratosthenes and Euclid's Algorithm)"
   ]
  },
  {
   "cell_type": "markdown",
   "id": "fedd9f2a-e490-4b75-8ff4-afb73ab53f92",
   "metadata": {
    "editable": false,
    "slideshow": {
     "slide_type": ""
    },
    "tags": []
   },
   "source": [
    "Click \\<shift> \\<enter> in each code cell to run the code. Be sure to start with the ```#include``` directives to load the required libraries."
   ]
  },
  {
   "cell_type": "code",
   "execution_count": 1,
   "id": "400cee4a-03dc-491f-aca8-c997c0341fcb",
   "metadata": {
    "editable": true,
    "slideshow": {
     "slide_type": ""
    },
    "tags": [],
    "vscode": {
     "languageId": "cpp"
    }
   },
   "outputs": [],
   "source": [
    "// For Lab 07, we are limited to using only <iostream> and <string>\n",
    "\n",
    "#include <iostream>\n",
    "#include <string>"
   ]
  },
  {
   "cell_type": "markdown",
   "id": "bdaa8799",
   "metadata": {
    "editable": false,
    "slideshow": {
     "slide_type": ""
    },
    "tags": []
   },
   "source": [
    "## Sieve of Eratosthenes\n",
    "\n",
    "A prime number is a natural number greater than 1 that cannot be formed by multiplying two smaller natural numbers. In other words, a prime number has exactly two distinct positive divisors: 1 and itself.\n",
    "\n",
    "`7` is prime because its only divisors are `1` and `7`.\n",
    "\n",
    "`8` is not prime because it can be divided evenly by `2` and `4` in addition to by `1` and `8`.\n",
    "\n",
    "`9` is not prime because it can be divided evenly by `3` in addition to by `1` and `9`.\n",
    "\n",
    "The basic method to test whether a number is prime is to try dividing it by all integers from 2 up to the square root of the number. If none of these divisions results in a quotient with a remainder of zero, then the number is prime.\n",
    "\n",
    "To test whether 29 is prime, we would try dividing it by 2, 3, 4, and 5 (the integers up to the square root of 29, which is about 5.39). Since none of these divisions results in a quotient with a remainder of zero, we conclude that 29 is prime.\n",
    "\n",
    "<table style=\"font-size: 1.3em; width: 80%; text-align: center;\">\n",
    "  <thead>\n",
    "    <tr>\n",
    "      <th style=\"text-align:center;\">Divisor</th>\n",
    "      <th style=\"text-align:center;\">Quotient (⌊29 / d⌋)</th>\n",
    "      <th style=\"text-align:center;\">Remainder (29 % d)</th>\n",
    "      <th style=\"text-align:center;\">Divides?</th>\n",
    "    </tr>\n",
    "  </thead>\n",
    "  <tbody>\n",
    "    <tr><td style=\"text-align:center;\">2</td><td style=\"text-align:center;\">floor(29 / 2) = 14</td><td style=\"text-align:center;\">remainder(29 / 2) = 1</td><td style=\"text-align:center;\">No</td></tr>\n",
    "    <tr><td style=\"text-align:center;\">3</td><td style=\"text-align:center;\">floor(29 / 3) = 9</td><td style=\"text-align:center;\">remainder(29 / 3) = 2</td><td style=\"text-align:center;\">No</td></tr>\n",
    "    <tr><td style=\"text-align:center;\">4</td><td style=\"text-align:center;\">floor(29 / 4) = 7</td><td style=\"text-align:center;\">remainder(29 / 4) = 1</td><td style=\"text-align:center;\">No</td></tr>\n",
    "    <tr><td style=\"text-align:center;\">5</td><td style=\"text-align:center;\">floor(29 / 5) = 5</td><td style=\"text-align:center;\">remainder(29 / 5) = 4</td><td style=\"text-align:center;\">No</td></tr>\n",
    "  </tbody>\n",
    "</table>\n",
    "\n",
    "Since none of the divisions produce a remainder of 0, the number 29 is prime.\n",
    "\n",
    "The Sieve of Eratosthenes is a more efficient algorithm to find all prime numbers up to a specified integer n. It works by iteratively marking the multiples of each prime number starting from 2.\n",
    "\n",
    "Consider the n = 30. We start with a list of all integers from 2 to 30:\n",
    "\n",
    "\n",
    "<table style=\"font-size: 1.3em; width: 60%;\">\n",
    "  <tbody>\n",
    "    <tr><td style=\"background-color: white;\">2</td><td style=\"background-color: white;\">3</td><td style=\"background-color: white;\">4</td><td style=\"background-color: white;\">5</td><td style=\"background-color: white;\">6</td><td style=\"background-color: white;\">7</td><td style=\"background-color: white;\">8</td><td style=\"background-color: white;\">9</td><td style=\"background-color: white;\">10</td><td style=\"background-color: white;\">11</td></tr>\n",
    "    <tr><td style=\"background-color: white;\">12</td><td style=\"background-color: white;\">13</td><td style=\"background-color: white;\">14</td><td style=\"background-color: white;\">15</td><td style=\"background-color: white;\">16</td><td style=\"background-color: white;\">17</td><td style=\"background-color: white;\">18</td><td style=\"background-color: white;\">19</td><td style=\"background-color: white;\">20</td><td style=\"background-color: white;\">21</td></tr>\n",
    "    <tr><td style=\"background-color: white;\">22</td><td style=\"background-color: white;\">23</td><td style=\"background-color: white;\">24</td><td style=\"background-color: white;\">25</td><td style=\"background-color: white;\">26</td><td style=\"background-color: white;\">27</td><td style=\"background-color: white;\">28</td><td style=\"background-color: white;\">29</td><td style=\"background-color: white;\">30</td></tr>\n",
    "  </tbody>\n",
    "</table>\n",
    "\n",
    "We begin with the first number in the list, which is 2. We mark all multiples of 2 (except 2 itself) as non-prime: (yellow highlight indicates non-prime numbers)\n",
    "\n",
    "<table style=\"font-size: 1.3em; width: 60%;\">\n",
    "  <tbody>\n",
    "    <tr><td style=\"background-color: white;\">2</td><td style=\"background-color: white;\">3</td><td style=\"background-color: yellow;\">4</td><td style=\"background-color: white;\">5</td><td style=\"background-color: yellow;\">6</td><td style=\"background-color: white;\">7</td><td style=\"background-color: yellow;\">8</td><td style=\"background-color: white;\">9</td><td style=\"background-color: yellow;\">10</td><td style=\"background-color: white;\">11</td></tr>\n",
    "    <tr><td style=\"background-color: yellow;\">12</td><td style=\"background-color: white;\">13</td><td style=\"background-color: yellow;\">14</td><td style=\"background-color: white;\">15</td><td style=\"background-color: yellow;\">16</td><td style=\"background-color: white;\">17</td><td style=\"background-color: yellow;\">18</td><td style=\"background-color: white;\">19</td><td style=\"background-color: yellow;\">20</td><td style=\"background-color: white;\">21</td></tr>\n",
    "    <tr><td style=\"background-color: yellow;\">22</td><td style=\"background-color: white;\">23</td><td style=\"background-color: yellow;\">24</td><td style=\"background-color: white;\">25</td><td style=\"background-color: yellow;\">26</td><td style=\"background-color: white;\">27</td><td style=\"background-color: yellow;\">28</td><td style=\"background-color: white;\">29</td><td style=\"background-color: yellow;\">30</td></tr>\n",
    "  </tbody>\n",
    "</table>\n",
    "\n",
    "Next, we move to the next unmarked number, which is 3. We mark all multiples of 3 (except 3 itself) as non-prime:\n",
    "\n",
    "<table style=\"font-size: 1.3em; width: 60%;\">\n",
    "  <tbody>\n",
    "    <tr><td style=\"background-color: white;\">2</td><td style=\"background-color: white;\">3</td><td style=\"background-color: yellow;\">4</td><td style=\"background-color: white;\">5</td><td style=\"background-color: yellow;\">6</td><td style=\"background-color: white;\">7</td><td style=\"background-color: yellow;\">8</td><td style=\"background-color: yellow;\">9</td><td style=\"background-color: yellow;\">10</td><td style=\"background-color: white;\">11</td></tr>\n",
    "    <tr><td style=\"background-color: yellow;\">12</td><td style=\"background-color: white;\">13</td><td style=\"background-color: yellow;\">14</td><td style=\"background-color: yellow;\">15</td><td style=\"background-color: yellow;\">16</td><td style=\"background-color: white;\">17</td><td style=\"background-color: yellow;\">18</td><td style=\"background-color: white;\">19</td><td style=\"background-color: yellow;\">20</td><td style=\"background-color: yellow;\">21</td></tr>\n",
    "    <tr><td style=\"background-color: yellow;\">22</td><td style=\"background-color: white;\">23</td><td style=\"background-color: yellow;\">24</td><td style=\"background-color: white;\">25</td><td style=\"background-color: yellow;\">26</td><td style=\"background-color: yellow;\">27</td><td style=\"background-color: yellow;\">28</td><td style=\"background-color: white;\">29</td><td style=\"background-color: yellow;\">30</td></tr>\n",
    "  </tbody>\n",
    "</table> \n",
    "\n",
    "We continue this process with the next unmarked number, which is 5, and mark all multiples of 5 (except 5 itself) as non-prime: \n",
    "\n",
    "<table style=\"font-size: 1.3em; width: 60%;\">\n",
    "  <tbody>\n",
    "    <tr><td style=\"background-color: white;\">2</td><td style=\"background-color: white;\">3</td><td style=\"background-color: yellow;\">4</td><td style=\"background-color: white;\">5</td><td style=\"background-color: yellow;\">6</td><td style=\"background-color: white;\">7</td><td style=\"background-color: yellow;\">8</td><td style=\"background-color: yellow;\">9</td><td style=\"background-color: yellow;\">10</td><td style=\"background-color: white;\">11</td></tr>\n",
    "    <tr><td style=\"background-color: yellow;\">12</td><td style=\"background-color: white;\">13</td><td style=\"background-color: yellow;\">14</td><td style=\"background-color: yellow;\">15</td><td style=\"background-color: yellow;\">16</td><td style=\"background-color: white;\">17</td><td style=\"background-color: yellow;\">18</td><td style=\"background-color: white;\">19</td><td style=\"background-color: yellow;\">20</td><td style=\"background-color: yellow;\">21</td></tr>\n",
    "    <tr><td style=\"background-color: yellow;\">22</td><td style=\"background-color: white;\">23</td><td style=\"background-color: yellow;\">24</td><td style=\"background-color: yellow;\">25</td><td style=\"background-color: yellow;\">26</td><td style=\"background-color: yellow;\">27</td><td style=\"background-color: yellow;\">28</td><td style=\"background-color: white;\">29</td><td style=\"background-color: yellow;\">30</td></tr>\n",
    "  </tbody>\n",
    "</table>\n",
    "\n",
    "We can stop the process when we reach the square root of n (approximately 5.48 for n = 30). The remaining unmarked numbers in the list are all prime:\n",
    "\n",
    "<table style=\"font-size: 1.3em; width: 60%;\">\n",
    "  <tbody>\n",
    "    <tr><td style=\"background-color: white;\"><strong>2</strong></td><td style=\"background-color: white;\"><strong>3</strong></td><td style=\"background-color: yellow;\">4</td><td style=\"background-color: white;\"><strong>5</strong></td><td style=\"background-color: yellow;\">6</td><td style=\"background-color: white;\"><strong>7</strong></td><td style=\"background-color: yellow;\">8</td><td style=\"background-color: yellow;\">9</td><td style=\"background-color: yellow;\">10</td><td style=\"background-color: white;\"><strong>11</strong></td></tr>\n",
    "    <tr><td style=\"background-color: yellow;\">12</td><td style=\"background-color: white;\"><strong>13</strong></td><td style=\"background-color: yellow;\">14</td><td style=\"background-color: yellow;\">15</td><td style=\"background-color: yellow;\">16</td><td style=\"background-color: white;\"><strong>17</strong></td><td style=\"background-color: yellow;\">18</td><td style=\"background-color: white;\"><strong>19</strong></td><td style=\"background-color: yellow;\">20</td><td style=\"background-color: yellow;\">21</td></tr>\n",
    "    <tr><td style=\"background-color: yellow;\">22</td><td style=\"background-color: white;\"><strong>23</strong></td><td style=\"background-color: yellow;\">24</td><td style=\"background-color: yellow;\">25</td><td style=\"background-color: yellow;\">26</td><td style=\"background-color: yellow;\">27</td><td style=\"background-color: yellow;\">28</td><td style=\"background-color: white;\"><strong>29</strong></td><td style=\"background-color: yellow;\">30</td></tr>\n",
    "  </tbody>\n",
    "</table>"
   ]
  },
  {
   "cell_type": "markdown",
   "id": "dfcd2117",
   "metadata": {
    "editable": false,
    "slideshow": {
     "slide_type": ""
    },
    "tags": []
   },
   "source": [
    "## Euclid's Algorithm\n",
    "\n",
    "The **greatest common divisor (GCD)** of two integers is the largest positive integer that divides both numbers without leaving a remainder.\n",
    "\n",
    "### Example: GCD of 8 and 12\n",
    "\n",
    "We want to find the GCD of `8` and `12`. Let's check which numbers divide both:\n",
    "\n",
    "- 12 ÷ 8 = 1 remainder 4  \n",
    "- 12 ÷ 7 = 1 remainder 5  \n",
    "- 12 ÷ 6 = 2 remainder 0  \n",
    "- 12 ÷ 5 = 2 remainder 2  \n",
    "- 12 ÷ 4 = 3 remainder 0  \n",
    "\n",
    "The largest number that divides both is **4**.\n",
    "\n",
    "Instead of checking all divisors, we can use the **Euclidean algorithm**:\n",
    "\n",
    "- 12 ÷ 8 = 1 remainder 4  \n",
    "- 8 ÷ 4 = 2 remainder 0  \n",
    "\n",
    "Since the last non-zero remainder is **4**, the GCD of `8` and `12` is **4**.\n",
    "\n",
    "---\n",
    "\n",
    "### Example: GCD of 1528 and 440\n",
    "\n",
    "Apply Euclid's algorithm:\n",
    "\n",
    "- 1528 ÷ 440 = 3 remainder 208  \n",
    "- 440 ÷ 208 = 2 remainder 24  \n",
    "- 208 ÷ 24 = 8 remainder 16  \n",
    "- 24 ÷ 16 = 1 remainder 8  \n",
    "- 16 ÷ 8 = 2 remainder 0  \n",
    "\n",
    "The last non-zero remainder is **8**, so the GCD of `1528` and `440` is **8**.\n",
    "\n",
    "---\n",
    "\n",
    "## Least Common Multiple (LCM)\n",
    "\n",
    "The **least common multiple (LCM)** of two integers `a` and `b` is the smallest positive integer divisible by both.\n",
    "\n",
    "### Example: LCM of 6 and 8\n",
    "\n",
    "We use the formula:\n",
    "\n",
    "$$\n",
    "\\text{LCM}(a, b) = \\frac{a \\cdot b}{\\text{GCD}(a, b)}\n",
    "$$\n",
    "\n",
    "For `a = 6`, `b = 8`, and `GCD(6, 8) = 2`:\n",
    "\n",
    "$$\n",
    "\\text{LCM}(6, 8) = \\frac{6 \\cdot 8}{2} = \\frac{48}{2} = 24\n",
    "$$\n"
   ]
  },
  {
   "cell_type": "markdown",
   "id": "8c83190b",
   "metadata": {
    "editable": false,
    "slideshow": {
     "slide_type": ""
    },
    "tags": []
   },
   "source": [
    "# Relatively Prime\n",
    "\n",
    "A group of numbers is **relatively prime** if the greatest common divisor (GCD) of the entire group is 1.\n",
    "\n",
    "### Example — Relatively Prime (GCD = 1)\n",
    "\n",
    "- Numbers: 6, 10, 15  \n",
    "- Step 1: GCD(6, 10) = 2  \n",
    "- Step 2: GCD(2, 15) = 1  \n",
    "- Group GCD = 1 → The numbers are relatively prime\n",
    "\n",
    "### Example — Not Relatively Prime (GCD > 1)\n",
    "\n",
    "- Numbers: 6, 10, 14  \n",
    "- Step 1: GCD(6, 10) = 2  \n",
    "- Step 2: GCD(2, 14) = 2  \n",
    "- Group GCD = 2 → The numbers are **not** relatively prime\n",
    "\n",
    "### General Rule\n",
    "\n",
    "To compute the GCD of multiple numbers:\n",
    "\n",
    "$$\n",
    "\\mathrm{GCD}(a, b, c) = \\mathrm{GCD}(\\mathrm{GCD}(a, b), c)\n",
    "$$"
   ]
  }
 ],
 "metadata": {
  "kernelspec": {
   "display_name": "C++17",
   "language": "C++17",
   "name": "xcpp17"
  },
  "language_info": {
   "codemirror_mode": "text/x-c++src",
   "file_extension": ".cpp",
   "mimetype": "text/x-c++src",
   "name": "c++",
   "version": "17"
  }
 },
 "nbformat": 4,
 "nbformat_minor": 5
}
