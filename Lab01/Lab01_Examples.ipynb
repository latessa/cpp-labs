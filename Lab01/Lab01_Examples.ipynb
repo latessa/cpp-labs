{
 "cells": [
  {
   "cell_type": "markdown",
   "id": "ae5fdf6d-1820-4421-8611-35d7c1ce5757",
   "metadata": {
    "editable": false,
    "slideshow": {
     "slide_type": ""
    },
    "tags": []
   },
   "source": [
    "# Lab 01 Examples"
   ]
  },
  {
   "cell_type": "markdown",
   "id": "a2700233-a62d-4b51-b6ad-a81fe730a61a",
   "metadata": {
    "editable": false,
    "slideshow": {
     "slide_type": ""
    },
    "tags": []
   },
   "source": [
    "Click \\<shift> \\<enter> in each code cell to run the code. Be sure to start with the ```#include``` directives to load the required libraries."
   ]
  },
  {
   "cell_type": "code",
   "execution_count": 1,
   "id": "1db63ab7-b01e-4590-be39-abb79159967e",
   "metadata": {
    "slideshow": {
     "slide_type": ""
    },
    "tags": [],
    "vscode": {
     "languageId": "c++"
    }
   },
   "outputs": [],
   "source": [
    "#include <iostream>\n",
    "\n",
    "// These directives just suppress compiler warnings and can be omitted.\n",
    "#pragma clang diagnostic push\n",
    "#pragma clang diagnostic ignored \"-Wconstant-logical-operand\"\n",
    "\n",
    "using namespace std;"
   ]
  },
  {
   "cell_type": "markdown",
   "id": "f1ede5ed-ffe1-4390-a910-33b288dfe64c",
   "metadata": {
    "editable": false,
    "slideshow": {
     "slide_type": ""
    },
    "tags": []
   },
   "source": [
    "## Integer Equivalents of Boolean Values\n",
    "false = 0  \n",
    "true = 1 (or any non-zero number)"
   ]
  },
  {
   "cell_type": "code",
   "execution_count": 2,
   "id": "a890e911-d721-497d-8aa0-6c6128ca5960",
   "metadata": {
    "editable": true,
    "slideshow": {
     "slide_type": ""
    },
    "tags": [],
    "vscode": {
     "languageId": "c++"
    }
   },
   "outputs": [
    {
     "name": "stdout",
     "output_type": "stream",
     "text": [
      "Boolean values:\n",
      "var_1 (false) = 0\n",
      "var_2 (true) = 1\n",
      "var_3 (0) = 0\n",
      "var_4 (1) = 1\n",
      "var_5 (42) = 1\n",
      "\n"
     ]
    }
   ],
   "source": [
    "bool var_1 = false;\n",
    "bool var_2 = true;\n",
    "bool var_3 = 0;\n",
    "bool var_4 = 1;\n",
    "bool var_5 = 42;  // non-zero numbers are considered truem\n",
    "\n",
    "cout << \"Boolean values:\" << endl;\n",
    "cout << \"var_1 (false) = \" << var_1 << endl;\n",
    "cout << \"var_2 (true) = \" << var_2 << endl;\n",
    "cout << \"var_3 (0) = \" << var_3 << endl;\n",
    "cout << \"var_4 (1) = \" << var_4 << endl;\n",
    "cout << \"var_5 (42) = \" << var_5 << endl << endl;"
   ]
  },
  {
   "cell_type": "markdown",
   "id": "917922e6-af92-41c7-890a-67febb408b94",
   "metadata": {
    "editable": false,
    "slideshow": {
     "slide_type": ""
    },
    "tags": []
   },
   "source": [
    "## The Difference Between Bitwise ```&``` and Logical ```&&``` AND Operators"
   ]
  },
  {
   "cell_type": "markdown",
   "id": "7eb01054-b2ea-478c-b470-42361e7ff1e8",
   "metadata": {
    "editable": false,
    "slideshow": {
     "slide_type": ""
    },
    "tags": []
   },
   "source": [
    "The bitwise AND operator ```&``` performs the AND operation on each corresponding bit of two integers.  \n",
    "The logical AND operator ```&&``` evaluates two boolean expressions and returns a boolean ```true``` or ```false```."
   ]
  },
  {
   "cell_type": "code",
   "execution_count": 3,
   "id": "4035fc16-5519-4655-ae73-3a7ff2bb8b70",
   "metadata": {
    "vscode": {
     "languageId": "c++"
    }
   },
   "outputs": [
    {
     "name": "stdout",
     "output_type": "stream",
     "text": [
      "(false & true) = 0\n",
      "(true & true) = 1\n",
      "(false & false) = 0\n",
      "(false && true) = 0\n",
      "(true && true) = 1\n",
      "(false && false) = 0\n",
      "\n",
      "(0 & 1) = 0\n",
      "(1 & 1) = 1\n",
      "(0 & 0) = 0\n",
      "(0 && 1) = 0\n",
      "(1 && 1) = 1\n",
      "(0 && 0) = 0\n",
      "\n",
      "Non-zero integers are considered true.\n",
      "(2 && 3) = 1\n",
      "\n"
     ]
    }
   ],
   "source": [
    "cout << \"(false & true) = \" << (false & true) << endl;\n",
    "cout << \"(true & true) = \" << (true & true) << endl;\n",
    "cout << \"(false & false) = \" << (false & false) << endl;\n",
    "cout << \"(false && true) = \" << (false && true) << endl;\n",
    "cout << \"(true && true) = \" << (true && true) << endl;\n",
    "cout << \"(false && false) = \" << (false && false) << endl << endl;\n",
    "\n",
    "cout << \"(0 & 1) = \" << (0 & 1) << endl;\n",
    "cout << \"(1 & 1) = \" << (1 & 1) << endl;\n",
    "cout << \"(0 & 0) = \" << (0 & 0) << endl;\n",
    "cout << \"(0 && 1) = \" << (0 && 1) << endl;\n",
    "cout << \"(1 && 1) = \" << (1 && 1) << endl;\n",
    "cout << \"(0 && 0) = \" << (0 && 0) << endl << endl;\n",
    "\n",
    "cout << \"Non-zero integers are considered true.\" << endl;\n",
    "cout << \"(2 && 3) = \" << (2 && 3) << endl << endl;"
   ]
  },
  {
   "cell_type": "markdown",
   "id": "128820e2-92b0-4d1e-9b6a-c46d04fa1f00",
   "metadata": {
    "editable": false,
    "slideshow": {
     "slide_type": ""
    },
    "tags": []
   },
   "source": [
    "**Binary Representation:**\n",
    "```\n",
    "00 zero\n",
    "01 one\n",
    "10 two\n",
    "11 three\n",
    "```\n",
    "**Bitwise 2 AND 3 in binary is ```10 & 11 = 10```**\n",
    "\n",
    "```\n",
    "  10\n",
    "& 11\n",
    "----\n",
    "  10\n",
    "```"
   ]
  },
  {
   "cell_type": "code",
   "execution_count": 4,
   "id": "c9ddf587-8fe2-4582-a356-9d444669b94e",
   "metadata": {
    "editable": true,
    "slideshow": {
     "slide_type": ""
    },
    "tags": [],
    "vscode": {
     "languageId": "c++"
    }
   },
   "outputs": [
    {
     "name": "stdout",
     "output_type": "stream",
     "text": [
      "Bitwise 2 AND 3 in binary is 10 & 11 = 10\n",
      "(2 & 3) = 2\n",
      "\n"
     ]
    }
   ],
   "source": [
    "cout << \"Bitwise 2 AND 3 in binary is 10 & 11 = 10\" << endl;\n",
    "cout << \"(2 & 3) = \" << (2 & 3) << endl << endl;"
   ]
  },
  {
   "cell_type": "markdown",
   "id": "057c07da-14c2-4299-a567-03a7e6c3a493",
   "metadata": {
    "editable": false,
    "slideshow": {
     "slide_type": ""
    },
    "tags": []
   },
   "source": [
    "## Short Circuit Evaluation with Logical AND ```&&```"
   ]
  },
  {
   "cell_type": "code",
   "execution_count": 5,
   "id": "6c50add7-13c9-457c-99b0-059f30e2726e",
   "metadata": {
    "vscode": {
     "languageId": "c++"
    }
   },
   "outputs": [
    {
     "name": "stdout",
     "output_type": "stream",
     "text": [
      "Short-circuit evaluation with logical AND (&&):\n",
      "x = -1 : (x != 0 && (10 / -1) > 1) = 0\n",
      "x = 0 : (x != 0 && (10 / 0) > 1) = 0\n",
      "x = 1 : (x != 0 && (10 / 1) > 1) = 1\n",
      "\n"
     ]
    }
   ],
   "source": [
    "cout << \"Short-circuit evaluation with logical AND (&&):\" << endl;\n",
    "for (int divisor = -1; divisor <= 1; ++divisor) {\n",
    "    cout << \"x = \" << divisor << \" : (x != 0 && (10 / \" << divisor << \") > 1) = \" \n",
    "        << (divisor != 0 && (10 / divisor) > 1) << endl;\n",
    "}\n",
    "cout << endl;"
   ]
  },
  {
   "cell_type": "markdown",
   "id": "b84b863b-d250-4b28-8881-355e03824e3f",
   "metadata": {
    "editable": false,
    "slideshow": {
     "slide_type": ""
    },
    "tags": []
   },
   "source": [
    "Without short-circuit evaluation, a division by zero error would occur when the divisor is ```0```.  \n",
    "With short-circuit evaluation, the second condition isn't evaluated if the first condition is ```false```.  \n",
    "```false``` is returned immediately if the first conditions is ```false```, because both conditions must be ```true``` for the whole expression to be ```true```."
   ]
  },
  {
   "cell_type": "markdown",
   "id": "32b4e498-c4fc-455f-9575-7e67e5cd93f3",
   "metadata": {
    "editable": false,
    "slideshow": {
     "slide_type": ""
    },
    "tags": []
   },
   "source": [
    "## The Difference Between Bitwise ```|``` and Logical ```||``` AND Operators"
   ]
  },
  {
   "cell_type": "markdown",
   "id": "0eef6562-c1b8-43cc-8443-47a48a145342",
   "metadata": {
    "editable": false,
    "slideshow": {
     "slide_type": ""
    },
    "tags": []
   },
   "source": [
    "The bitwise OR operator ```|``` performs the OR operation on each corresponding bit of two integers.  \n",
    "The logical OR operator ```||``` evaluates two boolean expressions and returns a boolean ```true``` or ```false```."
   ]
  },
  {
   "cell_type": "code",
   "execution_count": 6,
   "id": "cdc9573a-40b6-4c75-9b2a-55303f248e04",
   "metadata": {
    "editable": true,
    "slideshow": {
     "slide_type": ""
    },
    "tags": [],
    "vscode": {
     "languageId": "c++"
    }
   },
   "outputs": [
    {
     "name": "stdout",
     "output_type": "stream",
     "text": [
      "(false | true) = 1\n",
      "(true | true) = 1\n",
      "(false | false) = 0\n",
      "(false || true) = 1\n",
      "(true || true) = 1\n",
      "(false || false) = 0\n",
      "\n",
      "(0 | 1) = 1\n",
      "(1 | 1) = 1\n",
      "(0 | 0) = 0\n",
      "(0 || 1) = 1\n",
      "(1 || 1) = 1\n",
      "(0 || 0) = 0\n",
      "\n",
      "Non-zero integers are considered true.\n",
      "(2 || 3) = 1\n",
      "\n"
     ]
    }
   ],
   "source": [
    "cout << \"(false | true) = \" << (false | true) << endl;\n",
    "cout << \"(true | true) = \" << (true | true) << endl;\n",
    "cout << \"(false | false) = \" << (false | false) << endl;\n",
    "cout << \"(false || true) = \" << (false || true) << endl;\n",
    "cout << \"(true || true) = \" << (true || true) << endl;\n",
    "cout << \"(false || false) = \" << (false || false) << endl << endl;\n",
    "\n",
    "cout << \"(0 | 1) = \" << (0 | 1) << endl;\n",
    "cout << \"(1 | 1) = \" << (1 | 1) << endl;\n",
    "cout << \"(0 | 0) = \" << (0 | 0) << endl;\n",
    "cout << \"(0 || 1) = \" << (0 || 1) << endl;\n",
    "cout << \"(1 || 1) = \" << (1 || 1) << endl;\n",
    "cout << \"(0 || 0) = \" << (0 || 0) << endl << endl;\n",
    "\n",
    "cout << \"Non-zero integers are considered true.\" << endl;\n",
    "cout << \"(2 || 3) = \" << (2 || 3) << endl << endl;"
   ]
  },
  {
   "cell_type": "markdown",
   "id": "e36af0c9-d56f-4610-af36-a22a5c3ce745",
   "metadata": {
    "editable": false,
    "slideshow": {
     "slide_type": ""
    },
    "tags": []
   },
   "source": [
    "**Binary Representation:**\n",
    "```\n",
    "00 zero\n",
    "01 one\n",
    "10 two\n",
    "11 three\n",
    "```\n",
    "**Bitwise 2 OR 3 in binary is ```10 | 11 = 10```**\n",
    "\n",
    "```\n",
    "  10\n",
    "| 11\n",
    "----\n",
    "  11\n",
    "```"
   ]
  },
  {
   "cell_type": "code",
   "execution_count": 7,
   "id": "b77a395f-cdb3-483e-8bc4-4159dfe2f5f7",
   "metadata": {
    "vscode": {
     "languageId": "c++"
    }
   },
   "outputs": [
    {
     "name": "stdout",
     "output_type": "stream",
     "text": [
      "Bitwise 2 OR 3 in binary is 10 | 11 = 11\n",
      "(2 | 3) = 3\n",
      "\n"
     ]
    }
   ],
   "source": [
    "cout << \"Bitwise 2 OR 3 in binary is 10 | 11 = 11\" << endl;\n",
    "cout << \"(2 | 3) = \" << (2 | 3) << endl << endl;"
   ]
  },
  {
   "cell_type": "markdown",
   "id": "86667f92-b51c-408c-9fd9-a4d4017a41bf",
   "metadata": {
    "editable": false,
    "slideshow": {
     "slide_type": ""
    },
    "tags": []
   },
   "source": [
    "## Short Circuit Evaluation with Logical OR ```||```"
   ]
  },
  {
   "cell_type": "code",
   "execution_count": 8,
   "id": "109d1e1d-7a09-470f-aa60-e0d0da6eb6b5",
   "metadata": {
    "vscode": {
     "languageId": "c++"
    }
   },
   "outputs": [
    {
     "name": "stdout",
     "output_type": "stream",
     "text": [
      "Short-circuit evaluation with logical OR (||):\n",
      "x = -1 : (x == 0 || (10 / -1) > 1) = 0\n",
      "x = 0 : (x == 0 || (10 / 0) > 1) = 1\n",
      "x = 1 : (x == 0 || (10 / 1) > 1) = 1\n",
      "\n"
     ]
    }
   ],
   "source": [
    "cout << \"Short-circuit evaluation with logical OR (||):\" << endl;\n",
    "for (int divisor = -1; divisor <= 1; ++divisor) {\n",
    "    cout << \"x = \" << divisor << \" : (x == 0 || (10 / \" << divisor << \") > 1) = \" \n",
    "        << (divisor == 0 || (10 / divisor) > 1) << endl;\n",
    "}\n",
    "cout << endl;"
   ]
  },
  {
   "cell_type": "markdown",
   "id": "c5931403-7369-472c-960d-68d4304d8f23",
   "metadata": {
    "editable": false,
    "slideshow": {
     "slide_type": ""
    },
    "tags": []
   },
   "source": [
    "Without short-circuit evaluation, a division by zero error would occur when the divisor is ```0```.  \n",
    "With short-circuit evaluation, the second condition isn't evaluated if the first condition is ```true```.  \n",
    "```true``` is returned immediately if the first conditions is ```true```, because one ```true``` condition is sufficient to render the expression ```true```."
   ]
  },
  {
   "cell_type": "markdown",
   "id": "a3f290fa-b3e0-4cb1-8c5e-0529a8f5d0b2",
   "metadata": {
    "editable": false,
    "slideshow": {
     "slide_type": ""
    },
    "tags": []
   },
   "source": [
    "## Using the NOT operator ```!``` to Flip Boolean Values"
   ]
  },
  {
   "cell_type": "code",
   "execution_count": 9,
   "id": "0e4f436f-3673-4df9-bbdb-3a2d7dbed754",
   "metadata": {
    "vscode": {
     "languageId": "c++"
    }
   },
   "outputs": [
    {
     "name": "stdout",
     "output_type": "stream",
     "text": [
      "Demonstrate the use of the NOT operator (!):\n",
      "my_bools[0] = 0, !my_bools[0] = 1\n",
      "my_bools[1] = 1, !my_bools[1] = 0\n",
      "my_bools[2] = 0, !my_bools[2] = 1\n",
      "my_bools[3] = 1, !my_bools[3] = 0\n",
      "my_bools[4] = 1, !my_bools[4] = 0\n",
      "\n",
      "your_bools[0] = 1, !your_bools[0] = 0\n",
      "your_bools[1] = 1, !your_bools[1] = 0\n",
      "your_bools[2] = 1, !your_bools[2] = 0\n",
      "your_bools[3] = 1, !your_bools[3] = 0\n",
      "your_bools[4] = 0, !your_bools[4] = 1\n",
      "\n"
     ]
    }
   ],
   "source": [
    "bool my_bools[5] =   {0, 1, 0, 1, 1};\n",
    "bool your_bools[5] = {1, 1, 1, 1, 0};\n",
    "\n",
    "cout << \"Demonstrate the use of the NOT operator (!):\" << endl;\n",
    "\n",
    "for (int b = 0; b < 5; b++) {\n",
    "    cout << \"my_bools[\" << b << \"] = \" << my_bools[b] \n",
    "         << \", !my_bools[\" << b << \"] = \" << !my_bools[b] << endl;\n",
    "}\n",
    "cout << endl;\n",
    "\n",
    "for (int b = 0; b < 5; b++) {\n",
    "    cout << \"your_bools[\" << b << \"] = \" << your_bools[b] \n",
    "         << \", !your_bools[\" << b << \"] = \" << !your_bools[b] << endl;\n",
    "}\n",
    "cout << endl;"
   ]
  },
  {
   "cell_type": "markdown",
   "id": "15123ee8-db1d-474f-9925-815f6b4d186f",
   "metadata": {
    "editable": false,
    "slideshow": {
     "slide_type": ""
    },
    "tags": []
   },
   "source": [
    "## A Closing Thought"
   ]
  },
  {
   "cell_type": "markdown",
   "id": "d050f831-289b-4e28-a899-c0f5b01d966b",
   "metadata": {
    "editable": false,
    "slideshow": {
     "slide_type": ""
    },
    "tags": []
   },
   "source": [
    "Consider the AND operator. Consider the OR operator.  \n",
    "Given the topic of **set theory**, which operator is more useful for computing an **intersection**? Which operator is more useful for computing a **union**?"
   ]
  },
  {
   "cell_type": "markdown",
   "id": "39b69534-2ea2-4d63-ad24-aebb055732e4",
   "metadata": {
    "editable": false,
    "slideshow": {
     "slide_type": ""
    },
    "tags": []
   },
   "source": [
    "### Before beginning to write your program, think about the design.\n",
    "* What operations does your program need to perform?\n",
    "  * Can these operations be separated into functions?\n",
    "  * If so, what parameters will these functions receive? What values (if any) will they return?\n",
    "  * Might it be useful to have any utility functions such as a print function?\n",
    "* What data types will you use to store the data?\n",
    "  * Will you use indexable data structures like arrays or vectors?\n",
    "  * Of what data type will those arrays or vectors be?\n",
    "  * How will you represent your data?\n",
    "    * Will the data be sorted? Does it need to be?\n",
    "    * What types of calculations will be performed on the data? Do you need to perform any basic arithmetic on the data        like addition, subtraction, multiplication or division?\n",
    "    * If you have multiple arrays or vectors, what size will they be? Will they all be the same size? Would you want          them to be? What would be the advantages and disadvantages if they were?\n",
    "\n",
    "**Have fun designing before you have fun programming!**"
   ]
  }
 ],
 "metadata": {
  "kernelspec": {
   "display_name": "C++17",
   "language": "C++17",
   "name": "xcpp17"
  },
  "language_info": {
   "codemirror_mode": "text/x-c++src",
   "file_extension": ".cpp",
   "mimetype": "text/x-c++src",
   "name": "c++",
   "version": "17"
  }
 },
 "nbformat": 4,
 "nbformat_minor": 5
}
