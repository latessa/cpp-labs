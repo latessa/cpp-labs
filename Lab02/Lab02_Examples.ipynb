{
 "cells": [
  {
   "cell_type": "markdown",
   "id": "b4f06fd6",
   "metadata": {},
   "source": [
    "# Lab 02 Examples"
   ]
  },
  {
   "cell_type": "markdown",
   "id": "171b9768",
   "metadata": {},
   "source": [
    "Click \\<shift> \\<enter> in each code cell to run the code. Be sure to start with the ```#include``` directives to load the required libraries."
   ]
  },
  {
   "cell_type": "code",
   "execution_count": 1,
   "id": "1f167288",
   "metadata": {
    "vscode": {
     "languageId": "cpp"
    }
   },
   "outputs": [],
   "source": [
    "// For Lab 03, we are limited to these includes.\n",
    "// Other libraries that can do the set or binary operations for us are not allowed.\n",
    "// For example, DO NOT include <bitset> or <set>.\n",
    "\n",
    "#include <iostream>\n",
    "#include <string>\n",
    "#include <vector>\n",
    "#include <cmath>"
   ]
  },
  {
   "cell_type": "markdown",
   "id": "ab9aeb14",
   "metadata": {},
   "source": [
    "## The Exclusive OR (XOR) Operator"
   ]
  },
  {
   "cell_type": "markdown",
   "id": "d80b66da",
   "metadata": {},
   "source": [
    "Last week we discussed the AND and OR operators.\n",
    "\n",
    "```\n",
    "True AND True = True\n",
    "True AND False = False\n",
    "False AND True = False\n",
    "False AND False = False\n",
    "\n",
    "True OR True = True\n",
    "True OR False = True\n",
    "False OR True = True\n",
    "False OR False = False\n",
    "```\n",
    "\n",
    "In English, when we say OR, we usually mean **either or**, meaning one or the other but not both. The logical OR, however, means **one or the other or both**. If we intend to mean one or the other exclusively, we use the Exclusive OR (XOR) operator.  In C++, the XOR operator is represented by the caret `^`.\n",
    "\n",
    "```\n",
    "True XOR True = False\n",
    "True XOR False = True\n",
    "False XOR True = True\n",
    "False XOR False = False\n",
    "```"
   ]
  },
  {
   "cell_type": "code",
   "execution_count": 2,
   "id": "32dfd454",
   "metadata": {
    "vscode": {
     "languageId": "plaintext"
    }
   },
   "outputs": [
    {
     "name": "stdout",
     "output_type": "stream",
     "text": [
      "True XOR True: 0\n",
      "True XOR False: 1\n",
      "False XOR True: 1\n",
      "False XOR False: 0\n"
     ]
    },
    {
     "data": {
      "text/plain": [
       "@0x7a85f7ffcca0"
      ]
     },
     "execution_count": 2,
     "metadata": {},
     "output_type": "execute_result"
    }
   ],
   "source": [
    "std::cout << \"True XOR True: \" << (true ^ true) << std::endl;     // Outputs 0 (false)\n",
    "std::cout << \"True XOR False: \" << (true ^ false) << std::endl;   // Outputs 1 (true)\n",
    "std::cout << \"False XOR True: \" << (false ^ true) << std::endl;   // Outputs 1 (true)\n",
    "std::cout << \"False XOR False: \" << (false ^ false) << std::endl; // Outputs 0 (false)"
   ]
  },
  {
   "cell_type": "code",
   "execution_count": 3,
   "id": "b143c1f0",
   "metadata": {
    "vscode": {
     "languageId": "plaintext"
    }
   },
   "outputs": [
    {
     "name": "stdout",
     "output_type": "stream",
     "text": [
      "1 ^ 2     = 3\n",
      "1 ^ 4     = 5\n",
      "2 ^ 4     = 6\n",
      "1 ^ 2 ^ 4 = 7\n"
     ]
    },
    {
     "data": {
      "text/plain": [
       "@0x7a85f7ffcca0"
      ]
     },
     "execution_count": 3,
     "metadata": {},
     "output_type": "execute_result"
    }
   ],
   "source": [
    "std::cout << \"1 ^ 2     = \" << (1 ^ 2) << std::endl;     // Outputs 3\n",
    "std::cout << \"1 ^ 4     = \" << (1 ^ 4) << std::endl;     // Outputs 5\n",
    "std::cout << \"2 ^ 4     = \" << (2 ^ 4) << std::endl;     // Outputs 6\n",
    "std::cout << \"1 ^ 2 ^ 4 = \" << (1 ^ 2 ^ 4) << std::endl; // Outputs 7"
   ]
  },
  {
   "cell_type": "markdown",
   "id": "30347b89",
   "metadata": {},
   "source": [
    "<table style=\"font-size: 1.3em; width: 60%;\">\n",
    "    <thead>\n",
    "        <tr>\n",
    "            <th style=\"padding: 10px; width: 40%;\">Operation</th>\n",
    "            <th style=\"padding: 10px; width: 30%;\">Result (Binary)</th>\n",
    "            <th style=\"padding: 10px; width: 30%;\">Result (Base 10)</th>\n",
    "        </tr>\n",
    "    </thead>\n",
    "    <tbody>\n",
    "        <tr>\n",
    "            <td style=\"font-family:monospace; padding: 10px;\">001 ⊕ 010</td>\n",
    "            <td style=\"font-family:monospace; padding: 10px; text-align:center;\">011</td>\n",
    "            <td style=\"padding: 10px; text-align:center;\">3</td>\n",
    "        </tr>\n",
    "        <tr>\n",
    "            <td style=\"font-family:monospace; padding: 10px;\">001 ⊕ 100</td>\n",
    "            <td style=\"font-family:monospace; padding: 10px; text-align:center;\">101</td>\n",
    "            <td style=\"padding: 10px; text-align:center;\">5</td>\n",
    "        </tr>\n",
    "        <tr>\n",
    "            <td style=\"font-family:monospace; padding: 10px;\">010 ⊕ 100</td>\n",
    "            <td style=\"font-family:monospace; padding: 10px; text-align:center;\">110</td>\n",
    "            <td style=\"padding: 10px; text-align:center;\">6</td>\n",
    "        </tr>\n",
    "        <tr>\n",
    "            <td style=\"font-family:monospace; padding: 10px;\">001 ⊕ 010 ⊕ 100</td>\n",
    "            <td style=\"font-family:monospace; padding: 10px; text-align:center;\">111</td>\n",
    "            <td style=\"padding: 10px; text-align:center;\">7</td>\n",
    "        </tr>\n",
    "    </tbody>\n",
    "</table>\n"
   ]
  },
  {
   "cell_type": "markdown",
   "id": "0ea0baa6",
   "metadata": {},
   "source": [
    "## Hamming Code (7,4)\n",
    "\n",
    "* Hamming code is a method to detect and correct single-bit errors in a block of data. The (7,4) Hamming code takes 4 data bits and adds 3 parity bits to create a 7-bit codeword.\n",
    "* The 7 refers to the total number of bits in the codeword.\n",
    "  * The 4 refers to the number of data bits.\n",
    "  * The 3 refers to the number of parity bits used for error detection and correction.\n",
    "  * In an 8-bit byte, one bit remains unused. However, Hamming code (7,4) can be extended to (8,4) to make use of all 8 bits.\n",
    "    * Hamming code (8,4) can **detect** if a second error is present, but it cannot locate or correct the second error.\n",
    "* If more than two bits are altered, hamming code may misinterpret the data.\n",
    "\n",
    "At first glance, it might seem inefficient to use 3 parity bits for just 4 data bits. However, as the amount of data increases, the efficiency of the Hamming code improves. For example, Hamming code (7, 4) uses 3 parity bits for 4 data bits. Hamming code (15, 11) uses 4 parity bits for 11 data bits. Hamming code (31, 26) uses 5 parity bits for 26 data bits. Hamming code (63, 57) uses 6 parity bits for 57 data bits.\n",
    "\n",
    "With 3 parity bits, we can accommodate 4 data bits. $2^3 = 8$, which is sufficient to cover the 4 data bits and the 3 parity bits.  \n",
    "With 4 parity bits, we can accommodate 11 data bits. $2^4 = 16$, which is sufficient to cover the 11 data bits and the 4 parity bits.  \n",
    "With 5 parity bits, we can accommodate 26 data bits. $2^5 = 32$, which is sufficient to cover the 26 data bits and the 5 parity bits.  \n",
    "With 6 parity bits, we can accommodate 57 data bits. $2^6 = 64$, which is sufficient to cover the 57 data bits and the 6 parity bits.  \n",
    "\n",
    "The parity bits are placed at indexes that are powers of 2 (1, 2, 4, 8, etc).\n",
    "\n",
    "At every power of 2, binary counting adds a new bit position. The parity bits are placed at the first index number requiring a new bit position."
   ]
  },
  {
   "cell_type": "markdown",
   "id": "0923de31",
   "metadata": {},
   "source": [
    "<html img=\"true\">\n",
    "    <img src=\"../images/Lab02/parity_bits_1511.png\" alt=\"Hamming Code Parity Bits\" style=\"width:300px;\">\n",
    "</html>"
   ]
  },
  {
   "cell_type": "markdown",
   "id": "c68c51d3",
   "metadata": {
    "vscode": {
     "languageId": "plaintext"
    }
   },
   "source": [
    "The parity bits are responsible for checking data bits with a 1 in their respective bit position.\n",
    "\n",
    "In Hamming code (7,4), the parity bit at index 1 checks the bits at indexes 1, 3, 5, and 7.  \n",
    "In Hamming code (7,4), the parity bit at index 2 checks the bits at indexes 2, 3, 6, and 7.  \n",
    "In Hamming code (7,4), the parity bit at index 4 checks the bits at indexes 4, 5, 6, and 7.  \n",
    "\n",
    "Let's consider an example."
   ]
  },
  {
   "cell_type": "markdown",
   "id": "ff4bb589",
   "metadata": {},
   "source": [
    "## Encoding the message ```1101``` using Hamming code (7,4)"
   ]
  },
  {
   "cell_type": "markdown",
   "id": "f0575e13",
   "metadata": {},
   "source": [
    "<html img=\"true\">\n",
    "    <img src=\"../images/Lab02/bits_to_send_blank.png\" alt=\"Hamming Code Example of Bits to Send (Parity Bits Blank)\" style=\"width:500px;\">\n",
    "</html>"
   ]
  },
  {
   "cell_type": "markdown",
   "id": "bdcaa637",
   "metadata": {},
   "source": [
    "Fill in the parity bits, so the respective parity groups have even parity (an even number of 1s)."
   ]
  },
  {
   "cell_type": "markdown",
   "id": "20e6c274",
   "metadata": {},
   "source": [
    "<html img=\"true\">\n",
    "    <img src=\"../images/Lab02/bits_to_send_filled.png\" alt=\"Hamming Code Example of Bits to Send (Parity Bits Filled In)\" style=\"width:500px;\">\n",
    "</html>"
   ]
  },
  {
   "cell_type": "markdown",
   "id": "075a9f54",
   "metadata": {
    "vscode": {
     "languageId": "plaintext"
    }
   },
   "source": [
    "## Detecting and Correcting a Single-Bit Error"
   ]
  },
  {
   "cell_type": "markdown",
   "id": "b3a24f20",
   "metadata": {},
   "source": [
    "Let's assume we encounter a single bit error, and the message sent as ```1101``` is received as ```1111```.  The bit at index 6 has erroneously flipped from 0 to 1."
   ]
  },
  {
   "cell_type": "markdown",
   "id": "3dd2feda",
   "metadata": {},
   "source": [
    "<html img=\"true\">\n",
    "    <img src=\"../images/Lab02/bits_received_blank.png\" alt=\"Hamming Code Example of Bits Received (Recalculated Parity Bits Blank)\" style=\"width:700px;\">\n",
    "</html>"
   ]
  },
  {
   "cell_type": "markdown",
   "id": "fb9070b8",
   "metadata": {},
   "source": [
    "Recalculate the parity bits on the received message."
   ]
  },
  {
   "cell_type": "markdown",
   "id": "791c7c85",
   "metadata": {},
   "source": [
    "<html img=\"true\">\n",
    "    <img src=\"../images/Lab02/bits_received_filled.png\" alt=\"Hamming Code Example of Bits Received (Recalculated Parity Bits Filled In)\" style=\"width:700px;\">\n",
    "</html>"
   ]
  },
  {
   "cell_type": "markdown",
   "id": "5109b6e5",
   "metadata": {},
   "source": [
    "Parity bit 1 is the same on the sent message as it is on the received message, so there is no error in the bits it checks (1, 3, 5, 7).  \n",
    "Parity bit 2 is different on the sent message than it is on the received message, so there is an error in one of the bits it checks (2, 3, 6, 7).  \n",
    "Parity bit 4 is different on the sent message than it is on the received message, so there is an error in one of the bits it checks (4, 5, 6, 7).  "
   ]
  },
  {
   "cell_type": "markdown",
   "id": "26ae64ba",
   "metadata": {},
   "source": [
    "* Looking at a Venn diagram, we can see that everything from parity group 1 is OK. ```{1, 3, 5, 7}```.\n",
    "* Parity group 2 reports that ```{2, 3, 6, 7}``` could be the error, but it won't be ```{3}``` or ```{7}``` because group 1 reported those indexes OK. ```{2}``` and ```{6}``` remain suspicious.\n",
    "* Parity group 4 reports that ```{4, 5, 6, 7}``` could be the error, but it won't be ```{5}``` or ```{7}``` because group 1 reported those indexes OK. ```{4}``` and ```{6}``` remain suspicious.\n",
    "* However, the error can't be index ```{4}``` because group 2 reported an error and group 2 doesn't cover index ```{4}```.\n",
    "* And the error can't be index ```{2}``` because group 4 reported an error and group 4 doesn't cover index ```{2}```.\n",
    "* The error must be index ```{6}```."
   ]
  },
  {
   "cell_type": "markdown",
   "id": "c960ffe6",
   "metadata": {},
   "source": [
    "\n",
    "<html img=\"true\">\n",
    "    <img src=\"../images/Lab02/hamming74.png\" alt=\"Hamming Code Venn Diagram\" style=\"width:500px;\">\n",
    "</html>\n"
   ]
  },
  {
   "cell_type": "markdown",
   "id": "205f8bda",
   "metadata": {},
   "source": [
    "We successfully identified the error, but looking at a diagram to visually deduce the index is not the most programmatic approach. To implement this as a computer program, could we leverage a more programmatic operation?\n",
    "\n",
    "### Using Set Operations\n",
    "\n",
    "Treat the parity groups as sets and codeword indexes as set members.\n",
    "\n",
    "* Both notations below show the same operation.\n",
    "* The bar over ONE indicates the complement (also known as the inverse) and can be achieved with the ```!``` symbol in C++.\n",
    "* The superscript C indicates the complement using set notation.\n",
    "\n",
    "$$(\\text{TWO} \\cap \\text{FOUR}) \\cap \\overline{\\text{ONE}}$$\n",
    "\n",
    "$$(\\{2, 3, 6, 7\\} \\cap \\{4, 5, 6, 7\\}) \\cap \\{1, 3, 5, 7\\}^C = \\{6\\}$$"
   ]
  },
  {
   "cell_type": "markdown",
   "id": "99024a89",
   "metadata": {},
   "source": [
    "**We detected the error at codeword index 6, and can now correct it by flipping it back to 0!**"
   ]
  },
  {
   "cell_type": "markdown",
   "id": "09288815",
   "metadata": {},
   "source": [
    "### A Strategy to Identify Parity Group Membership"
   ]
  },
  {
   "cell_type": "markdown",
   "id": "2247d240",
   "metadata": {},
   "source": [
    "* The parity bit can act as a bit mask, and along with the bitwise ```&``` operation, identify which indexes belong to which parity groups.\n",
    "* Remember, ```Zero``` is considered ```false```. ```Non-Zero``` is considered ```true```."
   ]
  },
  {
   "cell_type": "markdown",
   "id": "bc338d68",
   "metadata": {},
   "source": [
    "<table style=\"font-size: 1.3em; width: 60%; margin: auto; border-collapse: collapse; text-align: center;\">  <thead>\n",
    "    <tr>\n",
    "      <th style=\"padding: 8px; width: 35%; text-align: center;\">Parity Group 1 Bit Mask</th>\n",
    "      <th style=\"padding: 8px; width: 25%; text-align: center;\">Decimal Equivalent</th>\n",
    "      <th style=\"padding: 8px; width: 40%; text-align: center;\">Membership</th>\n",
    "    </tr>\n",
    "  </thead>\n",
    "  <tbody>\n",
    "    <tr><td>001 & 001 = 001</td><td>1 & 1 = 1</td><td>Group 1 Parity Bit</td></tr>\n",
    "    <tr><td>001 & 010 = 000</td><td>1 & 2 = 0</td><td>In Group</td></tr>\n",
    "    <tr><td>001 & 011 = 001</td><td>1 & 3 = 1</td><td>In Group</td></tr>\n",
    "    <tr><td>001 & 100 = 000</td><td>1 & 4 = 0</td><td>NOT In Group</td></tr>\n",
    "    <tr><td>001 & 101 = 001</td><td>1 & 5 = 1</td><td>In Group</td></tr>\n",
    "    <tr><td>001 & 110 = 000</td><td>1 & 6 = 0</td><td>NOT In Group</td></tr>\n",
    "    <tr><td>001 & 111 = 001</td><td>1 & 7 = 1</td><td>In Group</td></tr>\n",
    "  </tbody>\n",
    "</table>"
   ]
  },
  {
   "cell_type": "markdown",
   "id": "0fdd6ab0",
   "metadata": {},
   "source": [
    "\n",
    "<table style=\"font-size: 1.3em; width: 60%; margin: auto; border-collapse: collapse; text-align: center;\">  <thead>\n",
    "    <tr>\n",
    "      <th style=\"padding: 8px; width: 35%; text-align: center;\">Parity Group 2 Bit Mask</th>\n",
    "      <th style=\"padding: 8px; width: 25%; text-align: center;\">Decimal Equivalent</th>\n",
    "      <th style=\"padding: 8px; width: 40%; text-align: center;\">Membership</th>\n",
    "    </tr>\n",
    "  </thead>\n",
    "  <tbody>\n",
    "    <tr><td>010 & 001 = 00</td><td>2 & 1 = 0</td><td>NOT In Group</td></tr>\n",
    "    <tr><td>010 & 010 = 10</td><td>2 & 2 = 2</td><td>Group 2 Parity Bit</td></tr>\n",
    "    <tr><td>010 & 011 = 10</td><td>2 & 3 = 2</td><td>In Group</td></tr>\n",
    "    <tr><td>010 & 100 = 00</td><td>2 & 4 = 0</td><td>NOT In Group</td></tr>\n",
    "    <tr><td>010 & 101 = 00</td><td>2 & 5 = 0</td><td>NOT In Group</td></tr>\n",
    "    <tr><td>010 & 110 = 10</td><td>2 & 6 = 2</td><td>In Group</td></tr>\n",
    "    <tr><td>010 & 111 = 10</td><td>2 & 7 = 2</td><td>In Group</td></tr>\n",
    "  </tbody>\n",
    "</table>"
   ]
  },
  {
   "cell_type": "markdown",
   "id": "112e60ed",
   "metadata": {},
   "source": [
    "<table style=\"font-size: 1.3em; width: 60%; margin: auto; border-collapse: collapse; text-align: center;\">\n",
    "<thead>\n",
    "    <tr>\n",
    "      <th style=\"padding: 8px; width: 35%; text-align: center;\">Parity Group 4 Bit Mask</th>\n",
    "      <th style=\"padding: 8px; width: 25%; text-align: center;\">Decimal Equivalent</th>\n",
    "      <th style=\"padding: 8px; width: 40%; text-align: center;\">Membership</th>\n",
    "    </tr>\n",
    "  </thead>\n",
    "  <tbody>\n",
    "    <tr><td>100 & 001 = 000</td><td>4 & 1 = 0</td><td>NOT In Group</td></tr>\n",
    "    <tr><td>100 & 010 = 000</td><td>4 & 2 = 0</td><td>NOT In Group</td></tr>\n",
    "    <tr><td>100 & 011 = 000</td><td>4 & 3 = 0</td><td>NOT In Group</td></tr>\n",
    "    <tr><td>100 & 100 = 100</td><td>4 & 4 = 4</td><td>Group 4 Parity Bit</td></tr>\n",
    "    <tr><td>100 & 101 = 100</td><td>4 & 5 = 4</td><td>In Group</td></tr>\n",
    "    <tr><td>100 & 110 = 100</td><td>4 & 6 = 4</td><td>In Group</td></tr>\n",
    "    <tr><td>100 & 111 = 100</td><td>4 & 7 = 4</td><td>In Group</td></tr>\n",
    "  </tbody>\n",
    "</table>"
   ]
  },
  {
   "cell_type": "code",
   "execution_count": 2,
   "id": "8628a8b7",
   "metadata": {
    "vscode": {
     "languageId": "cpp"
    }
   },
   "outputs": [
    {
     "name": "stdout",
     "output_type": "stream",
     "text": [
      "Parity Group 1 Membership\n",
      "1 & 1 = 1\n",
      "1 & 2 = 0\n",
      "1 & 3 = 1\n",
      "1 & 4 = 0\n",
      "1 & 5 = 1\n",
      "1 & 6 = 0\n",
      "1 & 7 = 1\n",
      "\n",
      "Parity Group 2 Membership\n",
      "2 & 1 = 0\n",
      "2 & 2 = 2\n",
      "2 & 3 = 2\n",
      "2 & 4 = 0\n",
      "2 & 5 = 0\n",
      "2 & 6 = 2\n",
      "2 & 7 = 2\n",
      "\n",
      "Parity Group 4 Membership\n",
      "4 & 1 = 0\n",
      "4 & 2 = 0\n",
      "4 & 3 = 0\n",
      "4 & 4 = 4\n",
      "4 & 5 = 4\n",
      "4 & 6 = 4\n"
     ]
    },
    {
     "data": {
      "text/plain": [
       "@0x7975505fcca0"
      ]
     },
     "execution_count": 2,
     "metadata": {},
     "output_type": "execute_result"
    }
   ],
   "source": [
    "std::cout << \"Parity Group 1 Membership\" << std::endl;\n",
    "std::cout << \"1 & 1 = \" << (1 & 1) << std::endl; // Group 1 Parity Bit\n",
    "std::cout << \"1 & 2 = \" << (1 & 2) << std::endl; // Not in Group\n",
    "std::cout << \"1 & 3 = \" << (1 & 3) << std::endl; // In Group\n",
    "std::cout << \"1 & 4 = \" << (1 & 4) << std::endl; // Not in Group\n",
    "std::cout << \"1 & 5 = \" << (1 & 5) << std::endl; // In Group\n",
    "std::cout << \"1 & 6 = \" << (1 & 6) << std::endl; // Not in Group\n",
    "std::cout << \"1 & 7 = \" << (1 & 7) << std::endl; // In Group\n",
    "\n",
    "std::cout << \"\\nParity Group 2 Membership\" << std::endl;\n",
    "std::cout << \"2 & 1 = \" << (2 & 1) << std::endl; // Not in Group\n",
    "std::cout << \"2 & 2 = \" << (2 & 2) << std::endl; // Group 2 Parity Bit\n",
    "std::cout << \"2 & 3 = \" << (2 & 3) << std::endl; // In Group\n",
    "std::cout << \"2 & 4 = \" << (2 & 4) << std::endl; // Not in Group\n",
    "std::cout << \"2 & 5 = \" << (2 & 5) << std::endl; // Not in Group\n",
    "std::cout << \"2 & 6 = \" << (2 & 6) << std::endl; // In Group\n",
    "std::cout << \"2 & 7 = \" << (2 & 7) << std::endl; // In Group\n",
    "\n",
    "std::cout << \"\\nParity Group 4 Membership\" << std::endl;\n",
    "std::cout << \"4 & 1 = \" << (4 & 1) << std::endl; // Not in Group\n",
    "std::cout << \"4 & 2 = \" << (4 & 2) << std::endl; // Not in Group\n",
    "std::cout << \"4 & 3 = \" << (4 & 3) << std::endl; // Not in Group\n",
    "std::cout << \"4 & 4 = \" << (4 & 4) << std::endl; // Group 4 Parity Bit\n",
    "std::cout << \"4 & 5 = \" << (4 & 5) << std::endl; // In Group\n",
    "std::cout << \"4 & 6 = \" << (4 & 6) << std::endl; // In Group"
   ]
  },
  {
   "cell_type": "markdown",
   "id": "359b1989",
   "metadata": {},
   "source": [
    "### For Your Consideration..."
   ]
  },
  {
   "cell_type": "markdown",
   "id": "47d71cdc",
   "metadata": {},
   "source": [
    "* What does it mean if there are no non-matching parity bits?\n",
    "* Your codeword is stored in a data structure such as an array or a vector. For example, ```{1, 0, 1, 0, 1, 0, 1}```. How will you *unload* these ```0``` and ```1``` bits from an array or vector into a single base-10 integer value to print the corrected message?\n",
    "\n",
    "\n",
    "* Examine the following line of pseudocode:\n",
    "  ```\n",
    "  x = 0\n",
    "  x = x | ( (codeword[power(2, i)] ^ codeword_recalculated[power(2, i)]) * power(2, i) )\n",
    "  ```\n",
    "\n",
    "\n",
    "  * What is this line calculating? What does ```x``` represent?\n",
    "  * What is the purpose of the ```OR (|)``` operation in this context?\n",
    "  * What is the purpose of the ```XOR (^)``` operation in this context?\n",
    "  * Why is the result of the ```XOR``` operation multiplied by ```2``` to the power of ```i``` (presumably an incrementing loop index)?\n",
    "\n",
    "See if you can answer these questions on your own, and check in with me if you get stuck. We'll analyze a solution together next week."
   ]
  },
  {
   "cell_type": "markdown",
   "id": "66b085ec",
   "metadata": {},
   "source": []
  }
 ],
 "metadata": {
  "kernelspec": {
   "display_name": "C++17",
   "language": "C++17",
   "name": "xcpp17"
  },
  "language_info": {
   "codemirror_mode": "text/x-c++src",
   "file_extension": ".cpp",
   "mimetype": "text/x-c++src",
   "name": "C++17",
   "version": "17"
  }
 },
 "nbformat": 4,
 "nbformat_minor": 5
}
