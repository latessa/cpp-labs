{
 "cells": [
  {
   "cell_type": "markdown",
   "id": "b4f06fd6",
   "metadata": {},
   "source": [
    "# Lab 02 Examples"
   ]
  },
  {
   "cell_type": "markdown",
   "id": "171b9768",
   "metadata": {},
   "source": [
    "Click \\<shift> \\<enter> in each code cell to run the code. Be sure to start with the ```#include``` directives to load the required libraries."
   ]
  },
  {
   "cell_type": "code",
   "execution_count": 11,
   "id": "1f167288",
   "metadata": {
    "vscode": {
     "languageId": "plaintext"
    }
   },
   "outputs": [],
   "source": [
    "#include <iostream>"
   ]
  },
  {
   "cell_type": "markdown",
   "id": "ab9aeb14",
   "metadata": {},
   "source": [
    "## The Exclusive OR (XOR) Operator"
   ]
  },
  {
   "cell_type": "markdown",
   "id": "d80b66da",
   "metadata": {},
   "source": [
    "Last week we discussed the AND and OR operators.\n",
    "\n",
    "```\n",
    "True AND True = True\n",
    "True AND False = False\n",
    "False AND True = False\n",
    "False AND False = False\n",
    "\n",
    "True OR True = True\n",
    "True OR False = True\n",
    "False OR True = True\n",
    "False OR False = False\n",
    "```\n",
    "\n",
    "In English, when we say OR, we usually mean **either or**, meaning one or the other but not both. The logical OR, however, means **one or the other or both**. If we intend to mean one or the other exclusively, we use the Exclusive OR (XOR) operator.  In C++, the XOR operator is represented by the caret `^`.\n",
    "\n",
    "```\n",
    "True XOR True = False\n",
    "True XOR False = True\n",
    "False XOR True = True\n",
    "False XOR False = False\n",
    "```"
   ]
  },
  {
   "cell_type": "code",
   "execution_count": 5,
   "id": "32dfd454",
   "metadata": {
    "vscode": {
     "languageId": "plaintext"
    }
   },
   "outputs": [
    {
     "name": "stdout",
     "output_type": "stream",
     "text": [
      "True XOR True: 0\n",
      "True XOR False: 1\n",
      "False XOR True: 1\n",
      "False XOR False: 0\n"
     ]
    },
    {
     "data": {
      "text/plain": [
       "@0x7485935fcca0"
      ]
     },
     "execution_count": 5,
     "metadata": {},
     "output_type": "execute_result"
    }
   ],
   "source": [
    "std::cout << \"True XOR True: \" << (true ^ true) << std::endl;     // Outputs 0 (false)\n",
    "std::cout << \"True XOR False: \" << (true ^ false) << std::endl;   // Outputs 1 (true)\n",
    "std::cout << \"False XOR True: \" << (false ^ true) << std::endl;   // Outputs 1 (true)\n",
    "std::cout << \"False XOR False: \" << (false ^ false) << std::endl; // Outputs 0 (false)"
   ]
  },
  {
   "cell_type": "code",
   "execution_count": 6,
   "id": "b143c1f0",
   "metadata": {
    "vscode": {
     "languageId": "plaintext"
    }
   },
   "outputs": [
    {
     "name": "stdout",
     "output_type": "stream",
     "text": [
      "1 ^ 2     = 3\n",
      "1 ^ 4     = 5\n",
      "2 ^ 4     = 6\n",
      "1 ^ 2 ^ 4 = 7\n"
     ]
    },
    {
     "data": {
      "text/plain": [
       "@0x7485935fcca0"
      ]
     },
     "execution_count": 6,
     "metadata": {},
     "output_type": "execute_result"
    }
   ],
   "source": [
    "std::cout << \"1 ^ 2     = \" << (1 ^ 2) << std::endl;     // Outputs 3\n",
    "std::cout << \"1 ^ 4     = \" << (1 ^ 4) << std::endl;     // Outputs 5\n",
    "std::cout << \"2 ^ 4     = \" << (2 ^ 4) << std::endl;     // Outputs 6\n",
    "std::cout << \"1 ^ 2 ^ 4 = \" << (1 ^ 2 ^ 4) << std::endl; // Outputs 7"
   ]
  },
  {
   "cell_type": "markdown",
   "id": "30347b89",
   "metadata": {},
   "source": [
    "<table style=\"font-size: 1.3em; width: 60%;\">\n",
    "    <thead>\n",
    "        <tr>\n",
    "            <th style=\"padding: 10px; width: 40%;\">Operation</th>\n",
    "            <th style=\"padding: 10px; width: 30%;\">Result (Binary)</th>\n",
    "            <th style=\"padding: 10px; width: 30%;\">Result (Base 10)</th>\n",
    "        </tr>\n",
    "    </thead>\n",
    "    <tbody>\n",
    "        <tr>\n",
    "            <td style=\"font-family:monospace; padding: 10px;\">001 ⊕ 010</td>\n",
    "            <td style=\"font-family:monospace; padding: 10px; text-align:center;\">011</td>\n",
    "            <td style=\"padding: 10px; text-align:center;\">3</td>\n",
    "        </tr>\n",
    "        <tr>\n",
    "            <td style=\"font-family:monospace; padding: 10px;\">001 ⊕ 100</td>\n",
    "            <td style=\"font-family:monospace; padding: 10px; text-align:center;\">101</td>\n",
    "            <td style=\"padding: 10px; text-align:center;\">5</td>\n",
    "        </tr>\n",
    "        <tr>\n",
    "            <td style=\"font-family:monospace; padding: 10px;\">010 ⊕ 100</td>\n",
    "            <td style=\"font-family:monospace; padding: 10px; text-align:center;\">110</td>\n",
    "            <td style=\"padding: 10px; text-align:center;\">6</td>\n",
    "        </tr>\n",
    "        <tr>\n",
    "            <td style=\"font-family:monospace; padding: 10px;\">001 ⊕ 010 ⊕ 100</td>\n",
    "            <td style=\"font-family:monospace; padding: 10px; text-align:center;\">111</td>\n",
    "            <td style=\"padding: 10px; text-align:center;\">7</td>\n",
    "        </tr>\n",
    "    </tbody>\n",
    "</table>\n"
   ]
  },
  {
   "cell_type": "markdown",
   "id": "0ea0baa6",
   "metadata": {},
   "source": [
    "## Hamming Code (7,4)\n",
    "\n",
    "* Hamming code is a method to detect and correct single-bit errors in a block of data. The (7,4) Hamming code takes 4 data bits and adds 3 parity bits to create a 7-bit codeword.\n",
    "* The 7 refers to the total number of bits in the codeword.\n",
    "  * The 4 refers to the number of data bits.\n",
    "  * The 3 refers to the number of parity bits used for error detection and correction.\n",
    "  * In an 8-bit byte, one bit remains unused. However, Hamming code (7,4) can be extended to (8,4) to make use of all 8 bits.\n",
    "    * Hamming code (8,4) can **detect** if a second error is present, but it cannot locate or correct the second error.\n",
    "* If more than two bit are altered, hamming code may misinterpret the data.\n",
    "\n",
    "At first glance, it might seem inefficient to use 3 parity bits for just 4 data bits. However, as the amount of data increases, the efficiency of the Hamming code improves.  For example, Hamming code (7, 4) uses 3 parity bits for 4 data bits. Hamming code (15, 11) uses 4 parity bits for 11 data bits. Hamming code (31, 26) uses 5 parity bits for 26 data bits. Hamming code (63, 57) uses 6 parity bits for 57 data bits.\n",
    "\n",
    "With 3 parity bits, we can accommodate 4 data bits. $2^3 = 8$, which is sufficient to cover the 4 data bits and the 3 parity bits.  \n",
    "With 4 parity bits, we can accommodate 11 data bits. $2^4 = 16$, which is sufficient to cover the 11 data bits and the 4 parity bits.  \n",
    "With 5 parity bits, we can accommodate 26 data bits. $2^5 = 32$, which is sufficient to cover the 26 data bits and the 5 parity bits.  \n",
    "With 6 parity bits, we can accommodate 57 data bits. $2^6 = 64$, which is sufficient to cover the 57 data bits and the 6 parity bits.  \n",
    "\n",
    "The parity bits are placed at positions that are powers of 2 (1, 2, 4, 8, etc).\n",
    "\n",
    "At every power of 2, binary counting adds a new bit position. The parity bits are the first numbers requiring that new bit position."
   ]
  },
  {
   "cell_type": "markdown",
   "id": "0923de31",
   "metadata": {},
   "source": [
    "<html img=\"true\">\n",
    "    <img src=\"../images/Lab02/parity_bits_1511.png\" alt=\"Hamming Code Parity Bits\" style=\"width:300px;\">\n",
    "</html>"
   ]
  },
  {
   "cell_type": "markdown",
   "id": "c68c51d3",
   "metadata": {
    "vscode": {
     "languageId": "plaintext"
    }
   },
   "source": [
    "The parity bits are responsible for checking data bits with a 1 in their respective bit position.\n",
    "\n",
    "In Hamming code (7,4), the parity bit at position 1 checks the bits at positions 1, 3, 5, and 7.  \n",
    "In Hamming code (7,4), the parity bit at position 2 checks the bits at positions 2, 3, 6, and 7.  \n",
    "In Hamming code (7,4), the parity bit at position 4 checks the bits at positions 4, 5, 6, and 7.  \n",
    "\n",
    "Now let's try an example."
   ]
  },
  {
   "cell_type": "markdown",
   "id": "ff4bb589",
   "metadata": {},
   "source": [
    "## Encode the message 1101 using Hamming code (7,4)"
   ]
  },
  {
   "cell_type": "markdown",
   "id": "f0575e13",
   "metadata": {},
   "source": [
    "<html img=\"true\">\n",
    "    <img src=\"../images/Lab02/bits_to_send_blank.png\" alt=\"Hamming Code Example of Bits to Send (Parity Bits Blank)\" style=\"width:500px;\">\n",
    "</html>"
   ]
  },
  {
   "cell_type": "markdown",
   "id": "bdcaa637",
   "metadata": {},
   "source": [
    "Fill in the parity bits, so the respective parity groups have even parity (an even number of 1s)."
   ]
  },
  {
   "cell_type": "markdown",
   "id": "20e6c274",
   "metadata": {},
   "source": [
    "<html img=\"true\">\n",
    "    <img src=\"../images/Lab02/bits_to_send_filled.png\" alt=\"Hamming Code Example of Bits to Send (Parity Bits Filled In)\" style=\"width:500px;\">\n",
    "</html>"
   ]
  },
  {
   "cell_type": "markdown",
   "id": "b3a24f20",
   "metadata": {},
   "source": [
    "Let's assume we encounter a single bit error, and the message sent as 1101 is received as 1111.  The bit at position 6 has erroneously flipped from 0 to 1."
   ]
  },
  {
   "cell_type": "markdown",
   "id": "3dd2feda",
   "metadata": {},
   "source": [
    "<html img=\"true\">\n",
    "    <img src=\"../images/Lab02/bits_received_blank.png\" alt=\"Hamming Code Example of Bits Received (Recalculated Parity Bits Blank)\" style=\"width:700px;\">\n",
    "</html>"
   ]
  },
  {
   "cell_type": "markdown",
   "id": "fb9070b8",
   "metadata": {},
   "source": [
    "Recalculate the parity bits on the received message."
   ]
  },
  {
   "cell_type": "markdown",
   "id": "791c7c85",
   "metadata": {},
   "source": [
    "<html img=\"true\">\n",
    "    <img src=\"../images/Lab02/bits_received_filled.png\" alt=\"Hamming Code Example of Bits Received (Recalculated Parity Bits Filled In)\" style=\"width:700px;\">\n",
    "</html>"
   ]
  },
  {
   "cell_type": "markdown",
   "id": "5109b6e5",
   "metadata": {},
   "source": [
    "Parity bit 1 is the same on the sent message as it is on the received message, so there is no error in the bits it checks (1, 3, 5, 7).  \n",
    "Parity bit 2 is different on the sent message than it is on the received message, so there is an error in one of the bits it checks (2, 3, 6, 7).  \n",
    "Parity bit 3 is different on the sent message than it is on the received message, so there is an error in one of the bits it checks (4, 5, 6, 7).  "
   ]
  },
  {
   "cell_type": "markdown",
   "id": "26ae64ba",
   "metadata": {},
   "source": [
    "* Looking at a Venn diagram, we can see that the only data bit that is checked by both parity bit 2 and parity bit 4, but is not checked by parity bit 1 is data bit 6.\n",
    "* However, looking at a diagram to visually deduce the error position is not a programmatic solution. When writing a computer program, we need systematic method to identify the error position.\n",
    "\n",
    "<html img=\"true\">\n",
    "    <img src=\"../images/Lab02/hamming74.png\" alt=\"Hamming Code Venn Diagram\" style=\"width:400px;\">\n",
    "</html>\n"
   ]
  },
  {
   "cell_type": "markdown",
   "id": "205f8bda",
   "metadata": {},
   "source": [
    "```XOR``` the indexes of the non-matching parity bits to find the index of the error."
   ]
  },
  {
   "cell_type": "markdown",
   "id": "0c38b8f8",
   "metadata": {},
   "source": [
    "$2 \\oplus 4 = 6$\n",
    "\n",
    "$10_2 \\oplus 100_2 = 110_2$"
   ]
  },
  {
   "cell_type": "markdown",
   "id": "99024a89",
   "metadata": {},
   "source": [
    "**We detected the error in position 6, and can now correct it by flipping it back to 0!**"
   ]
  }
 ],
 "metadata": {
  "kernelspec": {
   "display_name": "C++17",
   "language": "C++17",
   "name": "xcpp17"
  },
  "language_info": {
   "codemirror_mode": "text/x-c++src",
   "file_extension": ".cpp",
   "mimetype": "text/x-c++src",
   "name": "c++",
   "version": "17"
  }
 },
 "nbformat": 4,
 "nbformat_minor": 5
}
