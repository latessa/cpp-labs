{
 "cells": [
  {
   "cell_type": "markdown",
   "id": "d119e8b5-a14d-447e-af58-fa138e256ab4",
   "metadata": {
    "editable": false,
    "slideshow": {
     "slide_type": ""
    },
    "tags": []
   },
   "source": [
    "# Lab 00 Feedback"
   ]
  },
  {
   "cell_type": "markdown",
   "id": "6b9dd593-fe49-43db-9686-1b58b0b235b8",
   "metadata": {
    "editable": false,
    "raw_mimetype": "",
    "slideshow": {
     "slide_type": ""
    },
    "tags": []
   },
   "source": [
    "Click \\<shift> \\<enter> in each code cell to run the code. Be sure to start with the ```#include``` directives to load the required libraries."
   ]
  },
  {
   "cell_type": "markdown",
   "id": "ec03a772-ae93-4545-b35a-ec0e143ed966",
   "metadata": {
    "editable": false,
    "slideshow": {
     "slide_type": ""
    },
    "tags": []
   },
   "source": [
    "## Preprocessor Directives"
   ]
  },
  {
   "cell_type": "markdown",
   "id": "cac298b6-b47e-44b8-b88a-d4b49b68c724",
   "metadata": {
    "editable": false,
    "slideshow": {
     "slide_type": ""
    },
    "tags": []
   },
   "source": [
    "An ```#include``` directive is not a C++ statement; it is a preprocessor directive.\n",
    "It is an instruction to the compiler to include a file or library before compiling.\n",
    "Since it is not a C++ statement, it should not end with a semicolon."
   ]
  },
  {
   "cell_type": "code",
   "execution_count": 1,
   "id": "85cded32-6ab2-41f7-97a3-dd537b0d5f96",
   "metadata": {
    "editable": false,
    "slideshow": {
     "slide_type": ""
    },
    "tags": []
   },
   "outputs": [],
   "source": [
    "#include <iostream> // does not end with a semicolon\n",
    "#include <string>\n",
    "#include <limits>"
   ]
  },
  {
   "cell_type": "markdown",
   "id": "0343aad0-4611-482f-9cfd-434048205f8b",
   "metadata": {
    "editable": false,
    "slideshow": {
     "slide_type": ""
    },
    "tags": []
   },
   "source": [
    "## Array Indexing"
   ]
  },
  {
   "cell_type": "markdown",
   "id": "a943e61a-d7d1-4d81-a4f8-6581b85c9059",
   "metadata": {
    "editable": false,
    "slideshow": {
     "slide_type": ""
    },
    "tags": []
   },
   "source": [
    "Indexing starts at position 0, not 1.\n",
    "So, the first element of a 5 element array is at index 0, and the fifth (or last) element is at index 4."
   ]
  },
  {
   "cell_type": "code",
   "execution_count": 2,
   "id": "506feaef-5228-46a5-9a00-617b2f28175d",
   "metadata": {
    "editable": true,
    "slideshow": {
     "slide_type": ""
    },
    "tags": []
   },
   "outputs": [
    {
     "name": "stdout",
     "output_type": "stream",
     "text": [
      "Printing 5 array elements (indexes 0 to 4):\n",
      "1 2 3 4 5 \n",
      "\n"
     ]
    }
   ],
   "source": [
    "int arr[5] = {1, 2, 3, 4, 5};\n",
    "\n",
    "    std::cout << \"Printing 5 array elements (indexes 0 to 4):\" << std::endl;\n",
    "    for (int i = 0; i < 5; i++) {\n",
    "        std::cout << arr[i] << \" \";\n",
    "    }\n",
    "    std::cout << std::endl << std::endl;"
   ]
  },
  {
   "cell_type": "markdown",
   "id": "2ef3e283-d58d-4b75-925f-6974aafd8efc",
   "metadata": {
    "editable": false,
    "slideshow": {
     "slide_type": ""
    },
    "tags": []
   },
   "source": [
    "The above loop iterates from 0 to 4 (5 iterations).\n",
    "The middle part of the loop ```(i < 5)``` is like a while loop condition.\n",
    "We loop while **i is less than 5**, so when ```i++``` makes *i* equal to 5, the loop is not entered again.\n",
    "\n",
    "If we say ```i <= 5```, the loop will run past the end of the array."
   ]
  },
  {
   "cell_type": "markdown",
   "id": "38819a64-b2ec-4bcc-b8f8-82036f428f63",
   "metadata": {
    "editable": false,
    "raw_mimetype": "",
    "slideshow": {
     "slide_type": ""
    },
    "tags": []
   },
   "source": [
    "```\n",
    "// Index: 0  1  2  3  4      5  \n",
    "arr[5] = {1, 2, 3, 4, 5}; //__ <-- Invalid memory access.\n",
    "```"
   ]
  },
  {
   "cell_type": "markdown",
   "id": "bc13b9bb-23b6-4d55-8a22-8b0b9cdb6f6f",
   "metadata": {
    "editable": false,
    "slideshow": {
     "slide_type": ""
    },
    "tags": []
   },
   "source": [
    "## Reading Input with ```std::cin``` And ```std::getline```"
   ]
  },
  {
   "cell_type": "markdown",
   "id": "6c6f113c-9297-4c2b-8b25-66a327f7d0ac",
   "metadata": {
    "editable": false,
    "slideshow": {
     "slide_type": ""
    },
    "tags": []
   },
   "source": [
    "When using ```std::cin``` to read data from the console, the input is space delimited. This means that the input is read until a white space character like space or newline is encountered."
   ]
  },
  {
   "cell_type": "code",
   "execution_count": 4,
   "id": "225b0a98-caae-4cdb-a8b0-671b7c5a3e86",
   "metadata": {
    "editable": true,
    "slideshow": {
     "slide_type": ""
    },
    "tags": []
   },
   "outputs": [
    {
     "name": "stdout",
     "output_type": "stream",
     "text": [
      "Understanding std::cin and std::getline\n",
      "Enter your first and last name: "
     ]
    },
    {
     "name": "stdin",
     "output_type": "stream",
     "text": [
      " John Smith\n"
     ]
    },
    {
     "name": "stdout",
     "output_type": "stream",
     "text": [
      "Hello, John Smith.\n"
     ]
    }
   ],
   "source": [
    "std::cout << \"Understanding std::cin and std::getline\" << std::endl;\n",
    "std::string first_name;\n",
    "std::string last_name;\n",
    "std::cout << \"Enter your first and last name: \";\n",
    "std::cin >> first_name >> last_name;\n",
    "std::cout << \"Hello, \" << first_name << \" \" << last_name << \".\" << std::endl;"
   ]
  },
  {
   "cell_type": "markdown",
   "id": "d3e74065-ad4c-4797-bc37-636e0e237844",
   "metadata": {
    "editable": false,
    "slideshow": {
     "slide_type": ""
    },
    "tags": []
   },
   "source": [
    "If we prompt for a name and age, and the user's name includes a space, the input will be split at the space."
   ]
  },
  {
   "cell_type": "code",
   "execution_count": 6,
   "id": "c45304ac-6a27-4853-bf47-cabf9e3c87bf",
   "metadata": {},
   "outputs": [
    {
     "name": "stdout",
     "output_type": "stream",
     "text": [
      "Enter your name and age: "
     ]
    },
    {
     "name": "stdin",
     "output_type": "stream",
     "text": [
      " Mary 25\n"
     ]
    },
    {
     "name": "stdout",
     "output_type": "stream",
     "text": [
      "Hello, Mary. You are 25 years old.\n"
     ]
    }
   ],
   "source": [
    "std::string name;\n",
    "int age = 0;\n",
    "std::cout << \"Enter your name and age: \";\n",
    "std::cin >> name >> age;\n",
    "std::cout << \"Hello, \" << name << \". You are \" << age << \" years old.\" << std::endl;"
   ]
  },
  {
   "cell_type": "markdown",
   "id": "9c440e7e-37cd-42fd-a469-075451606a95",
   "metadata": {
    "editable": false,
    "slideshow": {
     "slide_type": ""
    },
    "tags": []
   },
   "source": [
    "Since age is an integer, if the user enters a non-integer value, ```std::cin``` will enter a fail state. We will have broken the input stream.\n",
    "\n",
    "Try entering ```Mary Jane 25```, and see what happens.\n",
    "\n",
    "Since some names do include white space, we can use ```std::getline()``` to read an entire line of input, including white space."
   ]
  },
  {
   "cell_type": "code",
   "execution_count": 7,
   "id": "c749f60f-ed2b-4902-a323-ee76fa2cd184",
   "metadata": {
    "editable": true,
    "slideshow": {
     "slide_type": ""
    },
    "tags": []
   },
   "outputs": [
    {
     "name": "stdout",
     "output_type": "stream",
     "text": [
      "Enter your first name: "
     ]
    },
    {
     "name": "stdin",
     "output_type": "stream",
     "text": [
      " Mary\n"
     ]
    },
    {
     "name": "stdout",
     "output_type": "stream",
     "text": [
      "Hello, Mary.\n",
      "Now enter your full name: Hello, .\n",
      "Have a good day.\n",
      "\n"
     ]
    }
   ],
   "source": [
    "std:: cout << \"Enter your first name: \";\n",
    "std::cin >> first_name;\n",
    "std::cout << \"Hello, \" << first_name << \".\" << std::endl;\n",
    "\n",
    "// With the std::cin.ignore line commented out, do we foresee any issues?\n",
    "// std::cin.ignore(std::numeric_limits<std::streamsize>::max(), '\\n'); // Clear the input stream\n",
    "    \n",
    "std::cout << \"Now enter your full name: \";\n",
    "std::getline(std::cin, name);\n",
    "std::cout << \"Hello, \" << name << \".\\nHave a good day.\" << std::endl << std::endl;"
   ]
  },
  {
   "cell_type": "markdown",
   "id": "4a9d0eb0-5f60-40d0-820c-4ebbd7f411e3",
   "metadata": {
    "editable": false,
    "slideshow": {
     "slide_type": ""
    },
    "tags": []
   },
   "source": [
    "When using ```std::cin >>``` before ```std::getline()```, what has happened to the input stream?  \n",
    "We seemed to have skipped the ```std::getline()``` input. Why?\n",
    "\n",
    "```cin``` stops reading at white space and does not consume the newline character.  \n",
    "```getline()``` generally reads to the end of the line and **does** consume the newline character.\n",
    "\n",
    "For example:\n",
    "* The user is prompted for a first name.\n",
    "* The user types ```Mary```, and the presses **\\<enter>**.\n",
    "* The **\\<enter>** key inserts a newline character in the input stream.\n",
    "* The user is prompted for a full name.\n",
    "* The ```getline()``` function sees the newline character and thinks the input was an empty string.\n",
    "\n",
    "Let's try the above example again, but use ```std::cin.ignore()``` to clear the input stream."
   ]
  },
  {
   "cell_type": "code",
   "execution_count": 8,
   "id": "3021e98e-4720-4374-90ad-5a9cccf72688",
   "metadata": {
    "editable": true,
    "slideshow": {
     "slide_type": ""
    },
    "tags": []
   },
   "outputs": [
    {
     "name": "stdout",
     "output_type": "stream",
     "text": [
      "Enter your first name: "
     ]
    },
    {
     "name": "stdin",
     "output_type": "stream",
     "text": [
      " Mary\n"
     ]
    },
    {
     "name": "stdout",
     "output_type": "stream",
     "text": [
      "Hello, Mary.\n",
      "Now enter your full name: "
     ]
    },
    {
     "name": "stdin",
     "output_type": "stream",
     "text": [
      " Mary Jane Smith\n"
     ]
    },
    {
     "name": "stdout",
     "output_type": "stream",
     "text": [
      "Hello, Mary Jane Smith.\n",
      "Have a good day.\n",
      "\n"
     ]
    }
   ],
   "source": [
    "std:: cout << \"Enter your first name: \";\n",
    "std::cin >> first_name;\n",
    "std::cout << \"Hello, \" << first_name << \".\" << std::endl;\n",
    "\n",
    "std::cin.ignore(std::numeric_limits<std::streamsize>::max(), '\\n'); // Clear the input stream\n",
    "    \n",
    "std::cout << \"Now enter your full name: \";\n",
    "std::getline(std::cin, name);\n",
    "std::cout << \"Hello, \" << name << \".\\nHave a good day.\" << std::endl << std::endl;"
   ]
  },
  {
   "cell_type": "markdown",
   "id": "023f70c8-9302-496f-ad39-ee4fc5884fec",
   "metadata": {
    "editable": false,
    "slideshow": {
     "slide_type": ""
    },
    "tags": []
   },
   "source": [
    "## Using a Loop to Print Even Numbers from 1 to 100"
   ]
  },
  {
   "cell_type": "markdown",
   "id": "a92df3a3-8872-488a-b6e5-acdc72c50cdc",
   "metadata": {
    "editable": false,
    "slideshow": {
     "slide_type": ""
    },
    "tags": []
   },
   "source": [
    "How many times does this loop iterate?"
   ]
  },
  {
   "cell_type": "code",
   "execution_count": 9,
   "id": "0fe6385f-579f-4eac-81c7-34898c97264b",
   "metadata": {},
   "outputs": [
    {
     "name": "stdout",
     "output_type": "stream",
     "text": [
      "Printing even integers from 1 to 100:\n",
      "2 4 6 8 10 12 14 16 18 20 22 24 26 28 30 32 34 36 38 40 42 44 46 48 50 52 54 56 58 60 62 64 66 68 70 72 74 76 78 80 82 84 86 88 90 92 94 96 98 100 \n",
      "\n"
     ]
    }
   ],
   "source": [
    "std::cout << \"Printing even integers from 1 to 100:\" << std::endl;\n",
    "\n",
    "for (int i = 1; i <= 100; i++) {\n",
    "    \n",
    "    if (i % 2 == 0) {\n",
    "        std::cout << i << \" \";\n",
    "    }\n",
    "}\n",
    "std::cout << std::endl << std::endl;"
   ]
  },
  {
   "cell_type": "markdown",
   "id": "50a9c4a4-1680-4ab6-9720-9c2cb571ffd7",
   "metadata": {
    "editable": false,
    "slideshow": {
     "slide_type": ""
    },
    "tags": []
   },
   "source": [
    "The loop iterates 100 times and at each iteration, it checks if the current *i* value is even.  \n",
    "But do we have to evaluate **every** consecutive integer to discover whether it's even?\n",
    "\n",
    "How many times does this next loop iterate?"
   ]
  },
  {
   "cell_type": "code",
   "execution_count": 10,
   "id": "dd06d30e-666c-401a-8295-b9e77ae64b7c",
   "metadata": {},
   "outputs": [
    {
     "name": "stdout",
     "output_type": "stream",
     "text": [
      "2 4 6 8 10 12 14 16 18 20 22 24 26 28 30 32 34 36 38 40 42 44 46 48 50 52 54 56 58 60 62 64 66 68 70 72 74 76 78 80 82 84 86 88 90 92 94 96 98 100 \n",
      "\n"
     ]
    }
   ],
   "source": [
    "for (int i = 2; i <= 100; i += 2) {\n",
    "    std::cout << i << \" \";\n",
    "}\n",
    "std::cout << std::endl << std::endl;"
   ]
  },
  {
   "cell_type": "markdown",
   "id": "75d7427d-09ac-4ab4-8e2f-e4c6f85f0afe",
   "metadata": {
    "editable": false,
    "slideshow": {
     "slide_type": ""
    },
    "tags": []
   },
   "source": [
    "This second loop calculates the same correct result, while doing half as much work."
   ]
  },
  {
   "cell_type": "markdown",
   "id": "6f4531a9-62a8-4b09-82c7-b20f8e99dadc",
   "metadata": {
    "editable": false,
    "slideshow": {
     "slide_type": ""
    },
    "tags": []
   },
   "source": [
    "## Using the MOD or REMAINDER Operator ```%``` to Print *n* Elements Per Line"
   ]
  },
  {
   "cell_type": "markdown",
   "id": "91205c5d-96ff-47a0-8e03-1b192f6f0c8f",
   "metadata": {
    "editable": false,
    "slideshow": {
     "slide_type": ""
    },
    "tags": []
   },
   "source": [
    "### Attempt 1"
   ]
  },
  {
   "cell_type": "code",
   "execution_count": 11,
   "id": "9b4f37c3-8e23-4096-9a72-8a5c791f7e0d",
   "metadata": {
    "editable": true,
    "slideshow": {
     "slide_type": ""
    },
    "tags": []
   },
   "outputs": [
    {
     "name": "stdout",
     "output_type": "stream",
     "text": [
      "First attempt to print 10 elements per line:\n",
      "0 \n",
      "1 2 3 4 5 6 7 8 9 10 \n",
      "11 12 13 14 15 16 17 18 19 20 \n",
      "21 22 23 24 25 26 27 28 29 30 \n",
      "31 32 33 34 35 36 37 38 39 40 \n",
      "41 42 43 44 45 46 47 48 49 50 \n",
      "51 52 53 54 55 56 57 58 59 60 \n",
      "61 62 63 64 65 66 67 68 69 70 \n",
      "71 72 73 74 75 76 77 78 79 80 \n",
      "81 82 83 84 85 86 87 88 89 90 \n",
      "91 92 93 94 95 96 97 98 99 \n",
      "\n"
     ]
    }
   ],
   "source": [
    "int n = 10;\n",
    "\n",
    "int values[100];\n",
    "for (int i = 0; i < 100; i++) {\n",
    "    values[i] = i * i;\n",
    "}\n",
    "\n",
    "// Print the array values, 10 per line.\n",
    "// But this isn't quite correct. What's wrong?\n",
    "std::cout << \"First attempt to print 10 elements per line:\" << std::endl;\n",
    "for (int i = 0; i < 100; i++) {\n",
    "    std::cout << i << \" \";\n",
    "    if (i % n == 0) {\n",
    "        std::cout << std::endl;\n",
    "    }\n",
    "}\n",
    "std::cout << std::endl << std::endl;"
   ]
  },
  {
   "cell_type": "markdown",
   "id": "70f4b350-20a9-4e5c-8736-1893dd4bbe4d",
   "metadata": {
    "editable": false,
    "slideshow": {
     "slide_type": ""
    },
    "tags": []
   },
   "source": [
    "But this isn't quite correct. What's wrong?  \n",
    "**Zero is printed alone on the first line.**"
   ]
  },
  {
   "cell_type": "markdown",
   "id": "14b1e8d6-87e1-42a2-bba8-a679a79bf3d9",
   "metadata": {
    "editable": false,
    "raw_mimetype": "",
    "slideshow": {
     "slide_type": ""
    },
    "tags": []
   },
   "source": [
    "```\n",
    "0 mod 10 = 0  // <-- The remainder is 0, but we don't want a newline right at the start.\n",
    "1 mod 10 = 1\n",
    "2 mod 10 = 2\n",
    "3 mod 10 = 3\n",
    "4 mod 10 = 4\n",
    "5 mod 10 = 5\n",
    "6 mod 10 = 6\n",
    "7 mod 10 = 7\n",
    "8 mod 10 = 8\n",
    "9 mod 10 = 9\n",
    "10 mod 10 = 0  // <-- Here is where we want to print our first newline.\n",
    "```"
   ]
  },
  {
   "cell_type": "markdown",
   "id": "8d61e933-2f92-4479-af87-2eb387d82ad7",
   "metadata": {
    "editable": true,
    "slideshow": {
     "slide_type": ""
    },
    "tags": []
   },
   "source": [
    "### Attempt 2"
   ]
  },
  {
   "cell_type": "code",
   "execution_count": 12,
   "id": "44292346-65b2-4296-9093-799656ac756b",
   "metadata": {
    "editable": true,
    "slideshow": {
     "slide_type": ""
    },
    "tags": []
   },
   "outputs": [
    {
     "name": "stdout",
     "output_type": "stream",
     "text": [
      "Second attempt to print 10 elements per line:\n",
      "0 1 2 3 4 5 6 7 8 9 10 11 12 13 14 15 16 17 18 19 20 21 22 23 24 25 26 27 28 29 30 31 32 33 34 35 36 37 38 39 40 41 42 43 44 45 46 47 48 49 50 51 52 53 54 55 56 57 58 59 60 61 62 63 64 65 66 67 68 69 70 71 72 73 74 75 76 77 78 79 80 81 82 83 84 85 86 87 88 89 90 91 92 93 94 95 96 97 98 99 \n",
      "\n"
     ]
    }
   ],
   "source": [
    "std::cout << \"Second attempt to print 10 elements per line:\" << std::endl;\n",
    "    n = 10;\n",
    "    for (int i = 0; i < 100; i++) {\n",
    "        std::cout << i << \" \";\n",
    "        if (i+1 % n == 0) {\n",
    "            std::cout << std::endl;\n",
    "        }\n",
    "    }\n",
    "    std::cout << std::endl << std::endl;"
   ]
  },
  {
   "cell_type": "markdown",
   "id": "8aa7391c-0c7c-4311-8319-58f5e7256482",
   "metadata": {
    "editable": false,
    "slideshow": {
     "slide_type": ""
    },
    "tags": []
   },
   "source": [
    "This also isn't what we want. What's wrong?  \n",
    "**Everything is printed on the same line.**"
   ]
  },
  {
   "cell_type": "markdown",
   "id": "2e6e0237-2690-4390-91af-4083e5f8c73e",
   "metadata": {
    "editable": false,
    "slideshow": {
     "slide_type": ""
    },
    "tags": []
   },
   "source": [
    "### Attempt 3"
   ]
  },
  {
   "cell_type": "code",
   "execution_count": 13,
   "id": "1559f2d1-359e-491b-be80-baf96d446791",
   "metadata": {
    "editable": true,
    "slideshow": {
     "slide_type": ""
    },
    "tags": []
   },
   "outputs": [
    {
     "name": "stdout",
     "output_type": "stream",
     "text": [
      "Third attempt to print 10 elements per line:\n",
      "0 1 2 3 4 5 6 7 8 9 \n",
      "10 11 12 13 14 15 16 17 18 19 \n",
      "20 21 22 23 24 25 26 27 28 29 \n",
      "30 31 32 33 34 35 36 37 38 39 \n",
      "40 41 42 43 44 45 46 47 48 49 \n",
      "50 51 52 53 54 55 56 57 58 59 \n",
      "60 61 62 63 64 65 66 67 68 69 \n",
      "70 71 72 73 74 75 76 77 78 79 \n",
      "80 81 82 83 84 85 86 87 88 89 \n",
      "90 91 92 93 94 95 96 97 98 99 \n",
      "\n",
      "\n"
     ]
    }
   ],
   "source": [
    "// Let's try one more time.\n",
    "std::cout << \"Third attempt to print 10 elements per line:\" << std::endl;\n",
    "n = 10;\n",
    "for (int i = 0; i < 100; i++) {\n",
    "    std::cout << i << \" \";\n",
    "    if ((i + 1) % n == 0) { // Why does this change matter?\n",
    "        std::cout << std::endl;\n",
    "    }\n",
    "}\n",
    "std::cout << std::endl << std::endl;"
   ]
  },
  {
   "cell_type": "markdown",
   "id": "0fa83d42-6ae0-444d-a0de-e1a7da94d217",
   "metadata": {
    "editable": false,
    "raw_mimetype": "",
    "slideshow": {
     "slide_type": ""
    },
    "tags": []
   },
   "source": [
    "Operator ```%``` has precedence over operator ```+```.\n",
    "So, ```i + 1 % n``` is interpreted as ```i + (1 % n)```, not ```(i + 1) % n```.\n",
    "\n",
    "```\n",
    "0 + (1 % 10) = 1     (0 + 1) % 10 = 1\n",
    "1 + (1 % 10) = 2     (1 + 1) % 10 = 2\n",
    "2 + (1 % 10) = 3     (2 + 1) % 10 = 3\n",
    "3 + (1 % 10) = 4     (3 + 1) % 10 = 4\n",
    "4 + (1 % 10) = 5     (4 + 1) % 10 = 5\n",
    "5 + (1 % 10) = 6     (5 + 1) % 10 = 6\n",
    "6 + (1 % 10) = 7     (6 + 1) % 10 = 7\n",
    "7 + (1 % 10) = 8     (7 + 1) % 10 = 8\n",
    "8 + (1 % 10) = 9     (8 + 1) % 10 = 9\n",
    "9 + (1 % 10) = 10    (9 + 1) % 10 = 0\n",
    "```\n",
    "Because ```1 % 10 = 1```, ```i + (1 % 10)``` is always just ```i + 1```."
   ]
  }
 ],
 "metadata": {
  "kernelspec": {
   "display_name": "C++17",
   "language": "C++17",
   "name": "xcpp17"
  },
  "language_info": {
   "codemirror_mode": "text/x-c++src",
   "file_extension": ".cpp",
   "mimetype": "text/x-c++src",
   "name": "c++",
   "version": "17"
  }
 },
 "nbformat": 4,
 "nbformat_minor": 5
}
